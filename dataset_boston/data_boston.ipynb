{
 "cells": [
  {
   "cell_type": "markdown",
   "metadata": {
    "collapsed": false,
    "pycharm": {
     "name": "#%% md\n"
    }
   },
   "source": [
    "## Validación de la regresión"
   ]
  },
  {
   "cell_type": "code",
   "execution_count": 1,
   "metadata": {
    "collapsed": false,
    "pycharm": {
     "name": "#%%\n"
    }
   },
   "outputs": [],
   "source": [
    "import pandas as pd\n",
    "import numpy as np\n",
    "import seaborn as sns\n",
    "import statsmodels.api as sm\n",
    "from matplotlib import pyplot as plt\n",
    "from sklearn.model_selection import train_test_split\n",
    "from sklearn import datasets\n",
    "from sklearn.metrics import mean_squared_error\n",
    "from sklearn.preprocessing import MinMaxScaler"
   ]
  },
  {
   "cell_type": "code",
   "execution_count": 2,
   "metadata": {
    "collapsed": false,
    "pycharm": {
     "name": "#%%\n"
    }
   },
   "outputs": [
    {
     "name": "stderr",
     "output_type": "stream",
     "text": [
      "/home/jose/miniconda3/envs/data/lib/python3.9/site-packages/sklearn/utils/deprecation.py:87: FutureWarning: Function load_boston is deprecated; `load_boston` is deprecated in 1.0 and will be removed in 1.2.\n",
      "\n",
      "    The Boston housing prices dataset has an ethical problem. You can refer to\n",
      "    the documentation of this function for further details.\n",
      "\n",
      "    The scikit-learn maintainers therefore strongly discourage the use of this\n",
      "    dataset unless the purpose of the code is to study and educate about\n",
      "    ethical issues in data science and machine learning.\n",
      "\n",
      "    In this special case, you can fetch the dataset from the original\n",
      "    source::\n",
      "\n",
      "        import pandas as pd\n",
      "        import numpy as np\n",
      "\n",
      "        data_url = \"http://lib.stat.cmu.edu/datasets/boston\"\n",
      "        raw_df = pd.read_csv(data_url, sep=\"\\s+\", skiprows=22, header=None)\n",
      "        data = np.hstack([raw_df.values[::2, :], raw_df.values[1::2, :2]])\n",
      "        target = raw_df.values[1::2, 2]\n",
      "\n",
      "    Alternative datasets include the California housing dataset (i.e.\n",
      "    :func:`~sklearn.datasets.fetch_california_housing`) and the Ames housing\n",
      "    dataset. You can load the datasets as follows::\n",
      "\n",
      "        from sklearn.datasets import fetch_california_housing\n",
      "        housing = fetch_california_housing()\n",
      "\n",
      "    for the California housing dataset and::\n",
      "\n",
      "        from sklearn.datasets import fetch_openml\n",
      "        housing = fetch_openml(name=\"house_prices\", as_frame=True)\n",
      "\n",
      "    for the Ames housing dataset.\n",
      "  warnings.warn(msg, category=FutureWarning)\n"
     ]
    }
   ],
   "source": [
    "df_original = datasets.load_boston(return_X_y=False)"
   ]
  },
  {
   "cell_type": "code",
   "execution_count": 85,
   "metadata": {
    "collapsed": false,
    "pycharm": {
     "name": "#%%\n"
    }
   },
   "outputs": [],
   "source": [
    "x = pd.DataFrame(df_original.data, columns=df_original.feature_names)\n",
    "y = pd.DataFrame(df_original.target, columns=['price'])"
   ]
  },
  {
   "cell_type": "code",
   "execution_count": 394,
   "metadata": {
    "collapsed": false,
    "pycharm": {
     "name": "#%%\n"
    }
   },
   "outputs": [
    {
     "data": {
      "text/plain": [
       "(506, 1)"
      ]
     },
     "execution_count": 394,
     "metadata": {},
     "output_type": "execute_result"
    }
   ],
   "source": [
    "y.shape"
   ]
  },
  {
   "cell_type": "code",
   "execution_count": 137,
   "metadata": {
    "collapsed": false,
    "pycharm": {
     "name": "#%%\n"
    }
   },
   "outputs": [],
   "source": [
    "df = pd.concat((y, x), axis=1)"
   ]
  },
  {
   "cell_type": "code",
   "execution_count": 422,
   "metadata": {
    "collapsed": false,
    "pycharm": {
     "name": "#%%\n"
    }
   },
   "outputs": [
    {
     "data": {
      "text/html": [
       "<style type=\"text/css\">\n",
       "#T_50518_row0_col0, #T_50518_row1_col1, #T_50518_row2_col2, #T_50518_row3_col3, #T_50518_row4_col4, #T_50518_row5_col5, #T_50518_row6_col6, #T_50518_row7_col7, #T_50518_row8_col8, #T_50518_row9_col9, #T_50518_row10_col10, #T_50518_row11_col11, #T_50518_row12_col12, #T_50518_row13_col13 {\n",
       "  background-color: #00441b;\n",
       "  color: #f1f1f1;\n",
       "}\n",
       "#T_50518_row0_col1, #T_50518_row0_col11, #T_50518_row0_col13, #T_50518_row5_col8, #T_50518_row7_col2, #T_50518_row8_col3, #T_50518_row8_col5, #T_50518_row8_col7, #T_50518_row8_col9, #T_50518_row8_col10, #T_50518_row9_col12, #T_50518_row10_col12, #T_50518_row11_col4, #T_50518_row12_col1, #T_50518_row13_col0, #T_50518_row13_col6 {\n",
       "  background-color: #f7fcf5;\n",
       "  color: #000000;\n",
       "}\n",
       "#T_50518_row0_col2, #T_50518_row3_col11 {\n",
       "  background-color: #4eb264;\n",
       "  color: #f1f1f1;\n",
       "}\n",
       "#T_50518_row0_col3, #T_50518_row10_col8, #T_50518_row11_col0 {\n",
       "  background-color: #e4f5df;\n",
       "  color: #000000;\n",
       "}\n",
       "#T_50518_row0_col4, #T_50518_row6_col5 {\n",
       "  background-color: #c3e7bc;\n",
       "  color: #000000;\n",
       "}\n",
       "#T_50518_row0_col5, #T_50518_row5_col6 {\n",
       "  background-color: #d5efcf;\n",
       "  color: #000000;\n",
       "}\n",
       "#T_50518_row0_col6, #T_50518_row2_col8, #T_50518_row10_col5 {\n",
       "  background-color: #127c39;\n",
       "  color: #f1f1f1;\n",
       "}\n",
       "#T_50518_row0_col7, #T_50518_row12_col13 {\n",
       "  background-color: #d0edca;\n",
       "  color: #000000;\n",
       "}\n",
       "#T_50518_row0_col8, #T_50518_row11_col7 {\n",
       "  background-color: #55b567;\n",
       "  color: #f1f1f1;\n",
       "}\n",
       "#T_50518_row0_col9, #T_50518_row2_col11, #T_50518_row10_col4 {\n",
       "  background-color: #ecf8e8;\n",
       "  color: #000000;\n",
       "}\n",
       "#T_50518_row0_col10, #T_50518_row1_col12, #T_50518_row5_col12 {\n",
       "  background-color: #f1faee;\n",
       "  color: #000000;\n",
       "}\n",
       "#T_50518_row0_col12 {\n",
       "  background-color: #65bd6f;\n",
       "  color: #f1f1f1;\n",
       "}\n",
       "#T_50518_row1_col0, #T_50518_row10_col6 {\n",
       "  background-color: #d3eecd;\n",
       "  color: #000000;\n",
       "}\n",
       "#T_50518_row1_col2 {\n",
       "  background-color: #cbeac4;\n",
       "  color: #000000;\n",
       "}\n",
       "#T_50518_row1_col3 {\n",
       "  background-color: #3aa357;\n",
       "  color: #f1f1f1;\n",
       "}\n",
       "#T_50518_row1_col4 {\n",
       "  background-color: #eff9ec;\n",
       "  color: #000000;\n",
       "}\n",
       "#T_50518_row1_col5 {\n",
       "  background-color: #359e53;\n",
       "  color: #f1f1f1;\n",
       "}\n",
       "#T_50518_row1_col6 {\n",
       "  background-color: #c9eac2;\n",
       "  color: #000000;\n",
       "}\n",
       "#T_50518_row1_col7, #T_50518_row2_col0 {\n",
       "  background-color: #3fa95c;\n",
       "  color: #f1f1f1;\n",
       "}\n",
       "#T_50518_row1_col8, #T_50518_row12_col5, #T_50518_row12_col11 {\n",
       "  background-color: #ceecc8;\n",
       "  color: #000000;\n",
       "}\n",
       "#T_50518_row1_col9 {\n",
       "  background-color: #238b45;\n",
       "  color: #f1f1f1;\n",
       "}\n",
       "#T_50518_row1_col10, #T_50518_row3_col9, #T_50518_row9_col1 {\n",
       "  background-color: #289049;\n",
       "  color: #f1f1f1;\n",
       "}\n",
       "#T_50518_row1_col11 {\n",
       "  background-color: #68be70;\n",
       "  color: #000000;\n",
       "}\n",
       "#T_50518_row1_col13 {\n",
       "  background-color: #329b51;\n",
       "  color: #f1f1f1;\n",
       "}\n",
       "#T_50518_row2_col1 {\n",
       "  background-color: #e3f4de;\n",
       "  color: #000000;\n",
       "}\n",
       "#T_50518_row2_col3, #T_50518_row2_col7, #T_50518_row9_col4 {\n",
       "  background-color: #e8f6e4;\n",
       "  color: #000000;\n",
       "}\n",
       "#T_50518_row2_col4 {\n",
       "  background-color: #edf8ea;\n",
       "  color: #000000;\n",
       "}\n",
       "#T_50518_row2_col5, #T_50518_row2_col10 {\n",
       "  background-color: #e1f3dc;\n",
       "  color: #000000;\n",
       "}\n",
       "#T_50518_row2_col6, #T_50518_row3_col1 {\n",
       "  background-color: #56b567;\n",
       "  color: #f1f1f1;\n",
       "}\n",
       "#T_50518_row2_col9, #T_50518_row6_col1 {\n",
       "  background-color: #e5f5e1;\n",
       "  color: #000000;\n",
       "}\n",
       "#T_50518_row2_col12 {\n",
       "  background-color: #8ed08b;\n",
       "  color: #000000;\n",
       "}\n",
       "#T_50518_row2_col13, #T_50518_row6_col3, #T_50518_row7_col4, #T_50518_row11_col12 {\n",
       "  background-color: #d7efd1;\n",
       "  color: #000000;\n",
       "}\n",
       "#T_50518_row3_col0 {\n",
       "  background-color: #e0f3db;\n",
       "  color: #000000;\n",
       "}\n",
       "#T_50518_row3_col2, #T_50518_row8_col4 {\n",
       "  background-color: #f4fbf2;\n",
       "  color: #000000;\n",
       "}\n",
       "#T_50518_row3_col4, #T_50518_row9_col2 {\n",
       "  background-color: #dbf1d6;\n",
       "  color: #000000;\n",
       "}\n",
       "#T_50518_row3_col5 {\n",
       "  background-color: #026f2e;\n",
       "  color: #f1f1f1;\n",
       "}\n",
       "#T_50518_row3_col6, #T_50518_row8_col13 {\n",
       "  background-color: #e2f4dd;\n",
       "  color: #000000;\n",
       "}\n",
       "#T_50518_row3_col7 {\n",
       "  background-color: #16803c;\n",
       "  color: #f1f1f1;\n",
       "}\n",
       "#T_50518_row3_col8, #T_50518_row5_col2, #T_50518_row12_col9 {\n",
       "  background-color: #f2faf0;\n",
       "  color: #000000;\n",
       "}\n",
       "#T_50518_row3_col10 {\n",
       "  background-color: #107a37;\n",
       "  color: #f1f1f1;\n",
       "}\n",
       "#T_50518_row3_col12, #T_50518_row12_col10, #T_50518_row13_col4 {\n",
       "  background-color: #eff9eb;\n",
       "  color: #000000;\n",
       "}\n",
       "#T_50518_row3_col13, #T_50518_row7_col13, #T_50518_row13_col7 {\n",
       "  background-color: #1d8640;\n",
       "  color: #f1f1f1;\n",
       "}\n",
       "#T_50518_row4_col0 {\n",
       "  background-color: #6abf71;\n",
       "  color: #000000;\n",
       "}\n",
       "#T_50518_row4_col1 {\n",
       "  background-color: #caeac3;\n",
       "  color: #000000;\n",
       "}\n",
       "#T_50518_row4_col2 {\n",
       "  background-color: #aedea7;\n",
       "  color: #000000;\n",
       "}\n",
       "#T_50518_row4_col3 {\n",
       "  background-color: #86cc85;\n",
       "  color: #000000;\n",
       "}\n",
       "#T_50518_row4_col5 {\n",
       "  background-color: #79c67a;\n",
       "  color: #000000;\n",
       "}\n",
       "#T_50518_row4_col6 {\n",
       "  background-color: #8bcf89;\n",
       "  color: #000000;\n",
       "}\n",
       "#T_50518_row4_col7 {\n",
       "  background-color: #7cc87c;\n",
       "  color: #000000;\n",
       "}\n",
       "#T_50518_row4_col8 {\n",
       "  background-color: #a0d99b;\n",
       "  color: #000000;\n",
       "}\n",
       "#T_50518_row4_col9, #T_50518_row4_col10 {\n",
       "  background-color: #b0dfaa;\n",
       "  color: #000000;\n",
       "}\n",
       "#T_50518_row4_col11 {\n",
       "  background-color: #c6e8bf;\n",
       "  color: #000000;\n",
       "}\n",
       "#T_50518_row4_col12 {\n",
       "  background-color: #abdda5;\n",
       "  color: #000000;\n",
       "}\n",
       "#T_50518_row4_col13 {\n",
       "  background-color: #9bd696;\n",
       "  color: #000000;\n",
       "}\n",
       "#T_50518_row5_col0 {\n",
       "  background-color: #d9f0d3;\n",
       "  color: #000000;\n",
       "}\n",
       "#T_50518_row5_col1, #T_50518_row13_col11 {\n",
       "  background-color: #52b365;\n",
       "  color: #f1f1f1;\n",
       "}\n",
       "#T_50518_row5_col3 {\n",
       "  background-color: #03702e;\n",
       "  color: #f1f1f1;\n",
       "}\n",
       "#T_50518_row5_col4, #T_50518_row6_col4, #T_50518_row6_col9 {\n",
       "  background-color: #d6efd0;\n",
       "  color: #000000;\n",
       "}\n",
       "#T_50518_row5_col7 {\n",
       "  background-color: #087432;\n",
       "  color: #f1f1f1;\n",
       "}\n",
       "#T_50518_row5_col9 {\n",
       "  background-color: #258d47;\n",
       "  color: #f1f1f1;\n",
       "}\n",
       "#T_50518_row5_col10 {\n",
       "  background-color: #19833e;\n",
       "  color: #f1f1f1;\n",
       "}\n",
       "#T_50518_row5_col11 {\n",
       "  background-color: #81ca81;\n",
       "  color: #000000;\n",
       "}\n",
       "#T_50518_row5_col13, #T_50518_row9_col3 {\n",
       "  background-color: #1f8742;\n",
       "  color: #f1f1f1;\n",
       "}\n",
       "#T_50518_row6_col0 {\n",
       "  background-color: #0d7836;\n",
       "  color: #f1f1f1;\n",
       "}\n",
       "#T_50518_row6_col2 {\n",
       "  background-color: #5bb86a;\n",
       "  color: #f1f1f1;\n",
       "}\n",
       "#T_50518_row6_col7 {\n",
       "  background-color: #bbe4b4;\n",
       "  color: #000000;\n",
       "}\n",
       "#T_50518_row6_col8 {\n",
       "  background-color: #5eb96b;\n",
       "  color: #f1f1f1;\n",
       "}\n",
       "#T_50518_row6_col10, #T_50518_row11_col6 {\n",
       "  background-color: #ddf2d8;\n",
       "  color: #000000;\n",
       "}\n",
       "#T_50518_row6_col11, #T_50518_row13_col2 {\n",
       "  background-color: #e9f7e5;\n",
       "  color: #000000;\n",
       "}\n",
       "#T_50518_row6_col12 {\n",
       "  background-color: #99d595;\n",
       "  color: #000000;\n",
       "}\n",
       "#T_50518_row6_col13 {\n",
       "  background-color: #edf8e9;\n",
       "  color: #000000;\n",
       "}\n",
       "#T_50518_row7_col0 {\n",
       "  background-color: #d1edcb;\n",
       "  color: #000000;\n",
       "}\n",
       "#T_50518_row7_col1 {\n",
       "  background-color: #66bd6f;\n",
       "  color: #f1f1f1;\n",
       "}\n",
       "#T_50518_row7_col3 {\n",
       "  background-color: #17813d;\n",
       "  color: #f1f1f1;\n",
       "}\n",
       "#T_50518_row7_col5 {\n",
       "  background-color: #077331;\n",
       "  color: #f1f1f1;\n",
       "}\n",
       "#T_50518_row7_col6 {\n",
       "  background-color: #cbebc5;\n",
       "  color: #000000;\n",
       "}\n",
       "#T_50518_row7_col8 {\n",
       "  background-color: #f5fbf3;\n",
       "  color: #000000;\n",
       "}\n",
       "#T_50518_row7_col9 {\n",
       "  background-color: #3fa85b;\n",
       "  color: #f1f1f1;\n",
       "}\n",
       "#T_50518_row7_col10 {\n",
       "  background-color: #349d53;\n",
       "  color: #f1f1f1;\n",
       "}\n",
       "#T_50518_row7_col11, #T_50518_row8_col12 {\n",
       "  background-color: #70c274;\n",
       "  color: #000000;\n",
       "}\n",
       "#T_50518_row7_col12 {\n",
       "  background-color: #e6f5e1;\n",
       "  color: #000000;\n",
       "}\n",
       "#T_50518_row8_col0 {\n",
       "  background-color: #58b668;\n",
       "  color: #f1f1f1;\n",
       "}\n",
       "#T_50518_row8_col1 {\n",
       "  background-color: #f6fcf4;\n",
       "  color: #000000;\n",
       "}\n",
       "#T_50518_row8_col2 {\n",
       "  background-color: #18823d;\n",
       "  color: #f1f1f1;\n",
       "}\n",
       "#T_50518_row8_col6 {\n",
       "  background-color: #72c375;\n",
       "  color: #000000;\n",
       "}\n",
       "#T_50518_row8_col11 {\n",
       "  background-color: #d8f0d2;\n",
       "  color: #000000;\n",
       "}\n",
       "#T_50518_row9_col0, #T_50518_row12_col3 {\n",
       "  background-color: #d2edcc;\n",
       "  color: #000000;\n",
       "}\n",
       "#T_50518_row9_col5 {\n",
       "  background-color: #1a843f;\n",
       "  color: #f1f1f1;\n",
       "}\n",
       "#T_50518_row9_col6 {\n",
       "  background-color: #c7e9c0;\n",
       "  color: #000000;\n",
       "}\n",
       "#T_50518_row9_col7 {\n",
       "  background-color: #319a50;\n",
       "  color: #f1f1f1;\n",
       "}\n",
       "#T_50518_row9_col8, #T_50518_row10_col0, #T_50518_row13_col8 {\n",
       "  background-color: #def2d9;\n",
       "  color: #000000;\n",
       "}\n",
       "#T_50518_row9_col10 {\n",
       "  background-color: #005622;\n",
       "  color: #f1f1f1;\n",
       "}\n",
       "#T_50518_row9_col11 {\n",
       "  background-color: #3ca559;\n",
       "  color: #f1f1f1;\n",
       "}\n",
       "#T_50518_row9_col13 {\n",
       "  background-color: #2e964d;\n",
       "  color: #f1f1f1;\n",
       "}\n",
       "#T_50518_row10_col1, #T_50518_row13_col10 {\n",
       "  background-color: #2f974e;\n",
       "  color: #f1f1f1;\n",
       "}\n",
       "#T_50518_row10_col2 {\n",
       "  background-color: #dcf2d7;\n",
       "  color: #000000;\n",
       "}\n",
       "#T_50518_row10_col3 {\n",
       "  background-color: #0a7633;\n",
       "  color: #f1f1f1;\n",
       "}\n",
       "#T_50518_row10_col7 {\n",
       "  background-color: #2b934b;\n",
       "  color: #f1f1f1;\n",
       "}\n",
       "#T_50518_row10_col9 {\n",
       "  background-color: #005723;\n",
       "  color: #f1f1f1;\n",
       "}\n",
       "#T_50518_row10_col11, #T_50518_row11_col9 {\n",
       "  background-color: #3da65a;\n",
       "  color: #f1f1f1;\n",
       "}\n",
       "#T_50518_row10_col13 {\n",
       "  background-color: #268e47;\n",
       "  color: #f1f1f1;\n",
       "}\n",
       "#T_50518_row11_col1 {\n",
       "  background-color: #78c679;\n",
       "  color: #000000;\n",
       "}\n",
       "#T_50518_row11_col2 {\n",
       "  background-color: #e7f6e2;\n",
       "  color: #000000;\n",
       "}\n",
       "#T_50518_row11_col3, #T_50518_row11_col13 {\n",
       "  background-color: #3ea75a;\n",
       "  color: #f1f1f1;\n",
       "}\n",
       "#T_50518_row11_col5 {\n",
       "  background-color: #63bc6e;\n",
       "  color: #f1f1f1;\n",
       "}\n",
       "#T_50518_row11_col8 {\n",
       "  background-color: #b7e2b1;\n",
       "  color: #000000;\n",
       "}\n",
       "#T_50518_row11_col10 {\n",
       "  background-color: #3ba458;\n",
       "  color: #f1f1f1;\n",
       "}\n",
       "#T_50518_row12_col0 {\n",
       "  background-color: #45ad5f;\n",
       "  color: #f1f1f1;\n",
       "}\n",
       "#T_50518_row12_col2 {\n",
       "  background-color: #7dc87e;\n",
       "  color: #000000;\n",
       "}\n",
       "#T_50518_row12_col4 {\n",
       "  background-color: #dff3da;\n",
       "  color: #000000;\n",
       "}\n",
       "#T_50518_row12_col6 {\n",
       "  background-color: #83cb82;\n",
       "  color: #000000;\n",
       "}\n",
       "#T_50518_row12_col7 {\n",
       "  background-color: #c1e6ba;\n",
       "  color: #000000;\n",
       "}\n",
       "#T_50518_row12_col8 {\n",
       "  background-color: #4bb062;\n",
       "  color: #f1f1f1;\n",
       "}\n",
       "#T_50518_row13_col1 {\n",
       "  background-color: #48ae60;\n",
       "  color: #f1f1f1;\n",
       "}\n",
       "#T_50518_row13_col3, #T_50518_row13_col5 {\n",
       "  background-color: #1e8741;\n",
       "  color: #f1f1f1;\n",
       "}\n",
       "#T_50518_row13_col9 {\n",
       "  background-color: #39a257;\n",
       "  color: #f1f1f1;\n",
       "}\n",
       "#T_50518_row13_col12 {\n",
       "  background-color: #f0f9ec;\n",
       "  color: #000000;\n",
       "}\n",
       "</style>\n",
       "<table id=\"T_50518\">\n",
       "  <thead>\n",
       "    <tr>\n",
       "      <th class=\"blank level0\" >&nbsp;</th>\n",
       "      <th id=\"T_50518_level0_col0\" class=\"col_heading level0 col0\" >price</th>\n",
       "      <th id=\"T_50518_level0_col1\" class=\"col_heading level0 col1\" >CRIM</th>\n",
       "      <th id=\"T_50518_level0_col2\" class=\"col_heading level0 col2\" >ZN</th>\n",
       "      <th id=\"T_50518_level0_col3\" class=\"col_heading level0 col3\" >INDUS</th>\n",
       "      <th id=\"T_50518_level0_col4\" class=\"col_heading level0 col4\" >CHAS</th>\n",
       "      <th id=\"T_50518_level0_col5\" class=\"col_heading level0 col5\" >NOX</th>\n",
       "      <th id=\"T_50518_level0_col6\" class=\"col_heading level0 col6\" >RM</th>\n",
       "      <th id=\"T_50518_level0_col7\" class=\"col_heading level0 col7\" >AGE</th>\n",
       "      <th id=\"T_50518_level0_col8\" class=\"col_heading level0 col8\" >DIS</th>\n",
       "      <th id=\"T_50518_level0_col9\" class=\"col_heading level0 col9\" >RAD</th>\n",
       "      <th id=\"T_50518_level0_col10\" class=\"col_heading level0 col10\" >TAX</th>\n",
       "      <th id=\"T_50518_level0_col11\" class=\"col_heading level0 col11\" >PTRATIO</th>\n",
       "      <th id=\"T_50518_level0_col12\" class=\"col_heading level0 col12\" >B</th>\n",
       "      <th id=\"T_50518_level0_col13\" class=\"col_heading level0 col13\" >LSTAT</th>\n",
       "    </tr>\n",
       "  </thead>\n",
       "  <tbody>\n",
       "    <tr>\n",
       "      <th id=\"T_50518_level0_row0\" class=\"row_heading level0 row0\" >price</th>\n",
       "      <td id=\"T_50518_row0_col0\" class=\"data row0 col0\" >1.000000</td>\n",
       "      <td id=\"T_50518_row0_col1\" class=\"data row0 col1\" >-0.388305</td>\n",
       "      <td id=\"T_50518_row0_col2\" class=\"data row0 col2\" >0.360445</td>\n",
       "      <td id=\"T_50518_row0_col3\" class=\"data row0 col3\" >-0.483725</td>\n",
       "      <td id=\"T_50518_row0_col4\" class=\"data row0 col4\" >0.175260</td>\n",
       "      <td id=\"T_50518_row0_col5\" class=\"data row0 col5\" >-0.427321</td>\n",
       "      <td id=\"T_50518_row0_col6\" class=\"data row0 col6\" >0.695360</td>\n",
       "      <td id=\"T_50518_row0_col7\" class=\"data row0 col7\" >-0.376955</td>\n",
       "      <td id=\"T_50518_row0_col8\" class=\"data row0 col8\" >0.249929</td>\n",
       "      <td id=\"T_50518_row0_col9\" class=\"data row0 col9\" >-0.381626</td>\n",
       "      <td id=\"T_50518_row0_col10\" class=\"data row0 col10\" >-0.468536</td>\n",
       "      <td id=\"T_50518_row0_col11\" class=\"data row0 col11\" >-0.507787</td>\n",
       "      <td id=\"T_50518_row0_col12\" class=\"data row0 col12\" >0.333461</td>\n",
       "      <td id=\"T_50518_row0_col13\" class=\"data row0 col13\" >-0.737663</td>\n",
       "    </tr>\n",
       "    <tr>\n",
       "      <th id=\"T_50518_level0_row1\" class=\"row_heading level0 row1\" >CRIM</th>\n",
       "      <td id=\"T_50518_row1_col0\" class=\"data row1 col0\" >-0.388305</td>\n",
       "      <td id=\"T_50518_row1_col1\" class=\"data row1 col1\" >1.000000</td>\n",
       "      <td id=\"T_50518_row1_col2\" class=\"data row1 col2\" >-0.200469</td>\n",
       "      <td id=\"T_50518_row1_col3\" class=\"data row1 col3\" >0.406583</td>\n",
       "      <td id=\"T_50518_row1_col4\" class=\"data row1 col4\" >-0.055892</td>\n",
       "      <td id=\"T_50518_row1_col5\" class=\"data row1 col5\" >0.420972</td>\n",
       "      <td id=\"T_50518_row1_col6\" class=\"data row1 col6\" >-0.219247</td>\n",
       "      <td id=\"T_50518_row1_col7\" class=\"data row1 col7\" >0.352734</td>\n",
       "      <td id=\"T_50518_row1_col8\" class=\"data row1 col8\" >-0.379670</td>\n",
       "      <td id=\"T_50518_row1_col9\" class=\"data row1 col9\" >0.625505</td>\n",
       "      <td id=\"T_50518_row1_col10\" class=\"data row1 col10\" >0.582764</td>\n",
       "      <td id=\"T_50518_row1_col11\" class=\"data row1 col11\" >0.289946</td>\n",
       "      <td id=\"T_50518_row1_col12\" class=\"data row1 col12\" >-0.385064</td>\n",
       "      <td id=\"T_50518_row1_col13\" class=\"data row1 col13\" >0.455621</td>\n",
       "    </tr>\n",
       "    <tr>\n",
       "      <th id=\"T_50518_level0_row2\" class=\"row_heading level0 row2\" >ZN</th>\n",
       "      <td id=\"T_50518_row2_col0\" class=\"data row2 col0\" >0.360445</td>\n",
       "      <td id=\"T_50518_row2_col1\" class=\"data row2 col1\" >-0.200469</td>\n",
       "      <td id=\"T_50518_row2_col2\" class=\"data row2 col2\" >1.000000</td>\n",
       "      <td id=\"T_50518_row2_col3\" class=\"data row2 col3\" >-0.533828</td>\n",
       "      <td id=\"T_50518_row2_col4\" class=\"data row2 col4\" >-0.042697</td>\n",
       "      <td id=\"T_50518_row2_col5\" class=\"data row2 col5\" >-0.516604</td>\n",
       "      <td id=\"T_50518_row2_col6\" class=\"data row2 col6\" >0.311991</td>\n",
       "      <td id=\"T_50518_row2_col7\" class=\"data row2 col7\" >-0.569537</td>\n",
       "      <td id=\"T_50518_row2_col8\" class=\"data row2 col8\" >0.664408</td>\n",
       "      <td id=\"T_50518_row2_col9\" class=\"data row2 col9\" >-0.311948</td>\n",
       "      <td id=\"T_50518_row2_col10\" class=\"data row2 col10\" >-0.314563</td>\n",
       "      <td id=\"T_50518_row2_col11\" class=\"data row2 col11\" >-0.391679</td>\n",
       "      <td id=\"T_50518_row2_col12\" class=\"data row2 col12\" >0.175520</td>\n",
       "      <td id=\"T_50518_row2_col13\" class=\"data row2 col13\" >-0.412995</td>\n",
       "    </tr>\n",
       "    <tr>\n",
       "      <th id=\"T_50518_level0_row3\" class=\"row_heading level0 row3\" >INDUS</th>\n",
       "      <td id=\"T_50518_row3_col0\" class=\"data row3 col0\" >-0.483725</td>\n",
       "      <td id=\"T_50518_row3_col1\" class=\"data row3 col1\" >0.406583</td>\n",
       "      <td id=\"T_50518_row3_col2\" class=\"data row3 col2\" >-0.533828</td>\n",
       "      <td id=\"T_50518_row3_col3\" class=\"data row3 col3\" >1.000000</td>\n",
       "      <td id=\"T_50518_row3_col4\" class=\"data row3 col4\" >0.062938</td>\n",
       "      <td id=\"T_50518_row3_col5\" class=\"data row3 col5\" >0.763651</td>\n",
       "      <td id=\"T_50518_row3_col6\" class=\"data row3 col6\" >-0.391676</td>\n",
       "      <td id=\"T_50518_row3_col7\" class=\"data row3 col7\" >0.644779</td>\n",
       "      <td id=\"T_50518_row3_col8\" class=\"data row3 col8\" >-0.708027</td>\n",
       "      <td id=\"T_50518_row3_col9\" class=\"data row3 col9\" >0.595129</td>\n",
       "      <td id=\"T_50518_row3_col10\" class=\"data row3 col10\" >0.720760</td>\n",
       "      <td id=\"T_50518_row3_col11\" class=\"data row3 col11\" >0.383248</td>\n",
       "      <td id=\"T_50518_row3_col12\" class=\"data row3 col12\" >-0.356977</td>\n",
       "      <td id=\"T_50518_row3_col13\" class=\"data row3 col13\" >0.603800</td>\n",
       "    </tr>\n",
       "    <tr>\n",
       "      <th id=\"T_50518_level0_row4\" class=\"row_heading level0 row4\" >CHAS</th>\n",
       "      <td id=\"T_50518_row4_col0\" class=\"data row4 col0\" >0.175260</td>\n",
       "      <td id=\"T_50518_row4_col1\" class=\"data row4 col1\" >-0.055892</td>\n",
       "      <td id=\"T_50518_row4_col2\" class=\"data row4 col2\" >-0.042697</td>\n",
       "      <td id=\"T_50518_row4_col3\" class=\"data row4 col3\" >0.062938</td>\n",
       "      <td id=\"T_50518_row4_col4\" class=\"data row4 col4\" >1.000000</td>\n",
       "      <td id=\"T_50518_row4_col5\" class=\"data row4 col5\" >0.091203</td>\n",
       "      <td id=\"T_50518_row4_col6\" class=\"data row4 col6\" >0.091251</td>\n",
       "      <td id=\"T_50518_row4_col7\" class=\"data row4 col7\" >0.086518</td>\n",
       "      <td id=\"T_50518_row4_col8\" class=\"data row4 col8\" >-0.099176</td>\n",
       "      <td id=\"T_50518_row4_col9\" class=\"data row4 col9\" >-0.007368</td>\n",
       "      <td id=\"T_50518_row4_col10\" class=\"data row4 col10\" >-0.035587</td>\n",
       "      <td id=\"T_50518_row4_col11\" class=\"data row4 col11\" >-0.121515</td>\n",
       "      <td id=\"T_50518_row4_col12\" class=\"data row4 col12\" >0.048788</td>\n",
       "      <td id=\"T_50518_row4_col13\" class=\"data row4 col13\" >-0.053929</td>\n",
       "    </tr>\n",
       "    <tr>\n",
       "      <th id=\"T_50518_level0_row5\" class=\"row_heading level0 row5\" >NOX</th>\n",
       "      <td id=\"T_50518_row5_col0\" class=\"data row5 col0\" >-0.427321</td>\n",
       "      <td id=\"T_50518_row5_col1\" class=\"data row5 col1\" >0.420972</td>\n",
       "      <td id=\"T_50518_row5_col2\" class=\"data row5 col2\" >-0.516604</td>\n",
       "      <td id=\"T_50518_row5_col3\" class=\"data row5 col3\" >0.763651</td>\n",
       "      <td id=\"T_50518_row5_col4\" class=\"data row5 col4\" >0.091203</td>\n",
       "      <td id=\"T_50518_row5_col5\" class=\"data row5 col5\" >1.000000</td>\n",
       "      <td id=\"T_50518_row5_col6\" class=\"data row5 col6\" >-0.302188</td>\n",
       "      <td id=\"T_50518_row5_col7\" class=\"data row5 col7\" >0.731470</td>\n",
       "      <td id=\"T_50518_row5_col8\" class=\"data row5 col8\" >-0.769230</td>\n",
       "      <td id=\"T_50518_row5_col9\" class=\"data row5 col9\" >0.611441</td>\n",
       "      <td id=\"T_50518_row5_col10\" class=\"data row5 col10\" >0.668023</td>\n",
       "      <td id=\"T_50518_row5_col11\" class=\"data row5 col11\" >0.188933</td>\n",
       "      <td id=\"T_50518_row5_col12\" class=\"data row5 col12\" >-0.380051</td>\n",
       "      <td id=\"T_50518_row5_col13\" class=\"data row5 col13\" >0.590879</td>\n",
       "    </tr>\n",
       "    <tr>\n",
       "      <th id=\"T_50518_level0_row6\" class=\"row_heading level0 row6\" >RM</th>\n",
       "      <td id=\"T_50518_row6_col0\" class=\"data row6 col0\" >0.695360</td>\n",
       "      <td id=\"T_50518_row6_col1\" class=\"data row6 col1\" >-0.219247</td>\n",
       "      <td id=\"T_50518_row6_col2\" class=\"data row6 col2\" >0.311991</td>\n",
       "      <td id=\"T_50518_row6_col3\" class=\"data row6 col3\" >-0.391676</td>\n",
       "      <td id=\"T_50518_row6_col4\" class=\"data row6 col4\" >0.091251</td>\n",
       "      <td id=\"T_50518_row6_col5\" class=\"data row6 col5\" >-0.302188</td>\n",
       "      <td id=\"T_50518_row6_col6\" class=\"data row6 col6\" >1.000000</td>\n",
       "      <td id=\"T_50518_row6_col7\" class=\"data row6 col7\" >-0.240265</td>\n",
       "      <td id=\"T_50518_row6_col8\" class=\"data row6 col8\" >0.205246</td>\n",
       "      <td id=\"T_50518_row6_col9\" class=\"data row6 col9\" >-0.209847</td>\n",
       "      <td id=\"T_50518_row6_col10\" class=\"data row6 col10\" >-0.292048</td>\n",
       "      <td id=\"T_50518_row6_col11\" class=\"data row6 col11\" >-0.355501</td>\n",
       "      <td id=\"T_50518_row6_col12\" class=\"data row6 col12\" >0.128069</td>\n",
       "      <td id=\"T_50518_row6_col13\" class=\"data row6 col13\" >-0.613808</td>\n",
       "    </tr>\n",
       "    <tr>\n",
       "      <th id=\"T_50518_level0_row7\" class=\"row_heading level0 row7\" >AGE</th>\n",
       "      <td id=\"T_50518_row7_col0\" class=\"data row7 col0\" >-0.376955</td>\n",
       "      <td id=\"T_50518_row7_col1\" class=\"data row7 col1\" >0.352734</td>\n",
       "      <td id=\"T_50518_row7_col2\" class=\"data row7 col2\" >-0.569537</td>\n",
       "      <td id=\"T_50518_row7_col3\" class=\"data row7 col3\" >0.644779</td>\n",
       "      <td id=\"T_50518_row7_col4\" class=\"data row7 col4\" >0.086518</td>\n",
       "      <td id=\"T_50518_row7_col5\" class=\"data row7 col5\" >0.731470</td>\n",
       "      <td id=\"T_50518_row7_col6\" class=\"data row7 col6\" >-0.240265</td>\n",
       "      <td id=\"T_50518_row7_col7\" class=\"data row7 col7\" >1.000000</td>\n",
       "      <td id=\"T_50518_row7_col8\" class=\"data row7 col8\" >-0.747881</td>\n",
       "      <td id=\"T_50518_row7_col9\" class=\"data row7 col9\" >0.456022</td>\n",
       "      <td id=\"T_50518_row7_col10\" class=\"data row7 col10\" >0.506456</td>\n",
       "      <td id=\"T_50518_row7_col11\" class=\"data row7 col11\" >0.261515</td>\n",
       "      <td id=\"T_50518_row7_col12\" class=\"data row7 col12\" >-0.273534</td>\n",
       "      <td id=\"T_50518_row7_col13\" class=\"data row7 col13\" >0.602339</td>\n",
       "    </tr>\n",
       "    <tr>\n",
       "      <th id=\"T_50518_level0_row8\" class=\"row_heading level0 row8\" >DIS</th>\n",
       "      <td id=\"T_50518_row8_col0\" class=\"data row8 col0\" >0.249929</td>\n",
       "      <td id=\"T_50518_row8_col1\" class=\"data row8 col1\" >-0.379670</td>\n",
       "      <td id=\"T_50518_row8_col2\" class=\"data row8 col2\" >0.664408</td>\n",
       "      <td id=\"T_50518_row8_col3\" class=\"data row8 col3\" >-0.708027</td>\n",
       "      <td id=\"T_50518_row8_col4\" class=\"data row8 col4\" >-0.099176</td>\n",
       "      <td id=\"T_50518_row8_col5\" class=\"data row8 col5\" >-0.769230</td>\n",
       "      <td id=\"T_50518_row8_col6\" class=\"data row8 col6\" >0.205246</td>\n",
       "      <td id=\"T_50518_row8_col7\" class=\"data row8 col7\" >-0.747881</td>\n",
       "      <td id=\"T_50518_row8_col8\" class=\"data row8 col8\" >1.000000</td>\n",
       "      <td id=\"T_50518_row8_col9\" class=\"data row8 col9\" >-0.494588</td>\n",
       "      <td id=\"T_50518_row8_col10\" class=\"data row8 col10\" >-0.534432</td>\n",
       "      <td id=\"T_50518_row8_col11\" class=\"data row8 col11\" >-0.232471</td>\n",
       "      <td id=\"T_50518_row8_col12\" class=\"data row8 col12\" >0.291512</td>\n",
       "      <td id=\"T_50518_row8_col13\" class=\"data row8 col13\" >-0.496996</td>\n",
       "    </tr>\n",
       "    <tr>\n",
       "      <th id=\"T_50518_level0_row9\" class=\"row_heading level0 row9\" >RAD</th>\n",
       "      <td id=\"T_50518_row9_col0\" class=\"data row9 col0\" >-0.381626</td>\n",
       "      <td id=\"T_50518_row9_col1\" class=\"data row9 col1\" >0.625505</td>\n",
       "      <td id=\"T_50518_row9_col2\" class=\"data row9 col2\" >-0.311948</td>\n",
       "      <td id=\"T_50518_row9_col3\" class=\"data row9 col3\" >0.595129</td>\n",
       "      <td id=\"T_50518_row9_col4\" class=\"data row9 col4\" >-0.007368</td>\n",
       "      <td id=\"T_50518_row9_col5\" class=\"data row9 col5\" >0.611441</td>\n",
       "      <td id=\"T_50518_row9_col6\" class=\"data row9 col6\" >-0.209847</td>\n",
       "      <td id=\"T_50518_row9_col7\" class=\"data row9 col7\" >0.456022</td>\n",
       "      <td id=\"T_50518_row9_col8\" class=\"data row9 col8\" >-0.494588</td>\n",
       "      <td id=\"T_50518_row9_col9\" class=\"data row9 col9\" >1.000000</td>\n",
       "      <td id=\"T_50518_row9_col10\" class=\"data row9 col10\" >0.910228</td>\n",
       "      <td id=\"T_50518_row9_col11\" class=\"data row9 col11\" >0.464741</td>\n",
       "      <td id=\"T_50518_row9_col12\" class=\"data row9 col12\" >-0.444413</td>\n",
       "      <td id=\"T_50518_row9_col13\" class=\"data row9 col13\" >0.488676</td>\n",
       "    </tr>\n",
       "    <tr>\n",
       "      <th id=\"T_50518_level0_row10\" class=\"row_heading level0 row10\" >TAX</th>\n",
       "      <td id=\"T_50518_row10_col0\" class=\"data row10 col0\" >-0.468536</td>\n",
       "      <td id=\"T_50518_row10_col1\" class=\"data row10 col1\" >0.582764</td>\n",
       "      <td id=\"T_50518_row10_col2\" class=\"data row10 col2\" >-0.314563</td>\n",
       "      <td id=\"T_50518_row10_col3\" class=\"data row10 col3\" >0.720760</td>\n",
       "      <td id=\"T_50518_row10_col4\" class=\"data row10 col4\" >-0.035587</td>\n",
       "      <td id=\"T_50518_row10_col5\" class=\"data row10 col5\" >0.668023</td>\n",
       "      <td id=\"T_50518_row10_col6\" class=\"data row10 col6\" >-0.292048</td>\n",
       "      <td id=\"T_50518_row10_col7\" class=\"data row10 col7\" >0.506456</td>\n",
       "      <td id=\"T_50518_row10_col8\" class=\"data row10 col8\" >-0.534432</td>\n",
       "      <td id=\"T_50518_row10_col9\" class=\"data row10 col9\" >0.910228</td>\n",
       "      <td id=\"T_50518_row10_col10\" class=\"data row10 col10\" >1.000000</td>\n",
       "      <td id=\"T_50518_row10_col11\" class=\"data row10 col11\" >0.460853</td>\n",
       "      <td id=\"T_50518_row10_col12\" class=\"data row10 col12\" >-0.441808</td>\n",
       "      <td id=\"T_50518_row10_col13\" class=\"data row10 col13\" >0.543993</td>\n",
       "    </tr>\n",
       "    <tr>\n",
       "      <th id=\"T_50518_level0_row11\" class=\"row_heading level0 row11\" >PTRATIO</th>\n",
       "      <td id=\"T_50518_row11_col0\" class=\"data row11 col0\" >-0.507787</td>\n",
       "      <td id=\"T_50518_row11_col1\" class=\"data row11 col1\" >0.289946</td>\n",
       "      <td id=\"T_50518_row11_col2\" class=\"data row11 col2\" >-0.391679</td>\n",
       "      <td id=\"T_50518_row11_col3\" class=\"data row11 col3\" >0.383248</td>\n",
       "      <td id=\"T_50518_row11_col4\" class=\"data row11 col4\" >-0.121515</td>\n",
       "      <td id=\"T_50518_row11_col5\" class=\"data row11 col5\" >0.188933</td>\n",
       "      <td id=\"T_50518_row11_col6\" class=\"data row11 col6\" >-0.355501</td>\n",
       "      <td id=\"T_50518_row11_col7\" class=\"data row11 col7\" >0.261515</td>\n",
       "      <td id=\"T_50518_row11_col8\" class=\"data row11 col8\" >-0.232471</td>\n",
       "      <td id=\"T_50518_row11_col9\" class=\"data row11 col9\" >0.464741</td>\n",
       "      <td id=\"T_50518_row11_col10\" class=\"data row11 col10\" >0.460853</td>\n",
       "      <td id=\"T_50518_row11_col11\" class=\"data row11 col11\" >1.000000</td>\n",
       "      <td id=\"T_50518_row11_col12\" class=\"data row11 col12\" >-0.177383</td>\n",
       "      <td id=\"T_50518_row11_col13\" class=\"data row11 col13\" >0.374044</td>\n",
       "    </tr>\n",
       "    <tr>\n",
       "      <th id=\"T_50518_level0_row12\" class=\"row_heading level0 row12\" >B</th>\n",
       "      <td id=\"T_50518_row12_col0\" class=\"data row12 col0\" >0.333461</td>\n",
       "      <td id=\"T_50518_row12_col1\" class=\"data row12 col1\" >-0.385064</td>\n",
       "      <td id=\"T_50518_row12_col2\" class=\"data row12 col2\" >0.175520</td>\n",
       "      <td id=\"T_50518_row12_col3\" class=\"data row12 col3\" >-0.356977</td>\n",
       "      <td id=\"T_50518_row12_col4\" class=\"data row12 col4\" >0.048788</td>\n",
       "      <td id=\"T_50518_row12_col5\" class=\"data row12 col5\" >-0.380051</td>\n",
       "      <td id=\"T_50518_row12_col6\" class=\"data row12 col6\" >0.128069</td>\n",
       "      <td id=\"T_50518_row12_col7\" class=\"data row12 col7\" >-0.273534</td>\n",
       "      <td id=\"T_50518_row12_col8\" class=\"data row12 col8\" >0.291512</td>\n",
       "      <td id=\"T_50518_row12_col9\" class=\"data row12 col9\" >-0.444413</td>\n",
       "      <td id=\"T_50518_row12_col10\" class=\"data row12 col10\" >-0.441808</td>\n",
       "      <td id=\"T_50518_row12_col11\" class=\"data row12 col11\" >-0.177383</td>\n",
       "      <td id=\"T_50518_row12_col12\" class=\"data row12 col12\" >1.000000</td>\n",
       "      <td id=\"T_50518_row12_col13\" class=\"data row12 col13\" >-0.366087</td>\n",
       "    </tr>\n",
       "    <tr>\n",
       "      <th id=\"T_50518_level0_row13\" class=\"row_heading level0 row13\" >LSTAT</th>\n",
       "      <td id=\"T_50518_row13_col0\" class=\"data row13 col0\" >-0.737663</td>\n",
       "      <td id=\"T_50518_row13_col1\" class=\"data row13 col1\" >0.455621</td>\n",
       "      <td id=\"T_50518_row13_col2\" class=\"data row13 col2\" >-0.412995</td>\n",
       "      <td id=\"T_50518_row13_col3\" class=\"data row13 col3\" >0.603800</td>\n",
       "      <td id=\"T_50518_row13_col4\" class=\"data row13 col4\" >-0.053929</td>\n",
       "      <td id=\"T_50518_row13_col5\" class=\"data row13 col5\" >0.590879</td>\n",
       "      <td id=\"T_50518_row13_col6\" class=\"data row13 col6\" >-0.613808</td>\n",
       "      <td id=\"T_50518_row13_col7\" class=\"data row13 col7\" >0.602339</td>\n",
       "      <td id=\"T_50518_row13_col8\" class=\"data row13 col8\" >-0.496996</td>\n",
       "      <td id=\"T_50518_row13_col9\" class=\"data row13 col9\" >0.488676</td>\n",
       "      <td id=\"T_50518_row13_col10\" class=\"data row13 col10\" >0.543993</td>\n",
       "      <td id=\"T_50518_row13_col11\" class=\"data row13 col11\" >0.374044</td>\n",
       "      <td id=\"T_50518_row13_col12\" class=\"data row13 col12\" >-0.366087</td>\n",
       "      <td id=\"T_50518_row13_col13\" class=\"data row13 col13\" >1.000000</td>\n",
       "    </tr>\n",
       "  </tbody>\n",
       "</table>\n"
      ],
      "text/plain": [
       "<pandas.io.formats.style.Styler at 0x7f269baeb1c0>"
      ]
     },
     "execution_count": 422,
     "metadata": {},
     "output_type": "execute_result"
    }
   ],
   "source": [
    "correlations = df.corr()\n",
    "correlations.style.background_gradient(cmap='Greens')"
   ]
  },
  {
   "cell_type": "markdown",
   "metadata": {
    "collapsed": false,
    "pycharm": {
     "name": "#%% md\n"
    }
   },
   "source": [
    "Variable objetivo: Price"
   ]
  },
  {
   "cell_type": "code",
   "execution_count": 138,
   "metadata": {
    "collapsed": false,
    "pycharm": {
     "name": "#%%\n"
    }
   },
   "outputs": [
    {
     "data": {
      "text/plain": [
       "<AxesSubplot:ylabel='Count'>"
      ]
     },
     "execution_count": 138,
     "metadata": {},
     "output_type": "execute_result"
    },
    {
     "data": {
      "image/png": "[encoded data removed]",
      "text/plain": [
       "<Figure size 432x288 with 1 Axes>"
      ]
     },
     "metadata": {
      "needs_background": "light"
     },
     "output_type": "display_data"
    }
   ],
   "source": [
    "sns.histplot(y)"
   ]
  },
  {
   "cell_type": "markdown",
   "metadata": {
    "collapsed": false,
    "pycharm": {
     "name": "#%% md\n"
    }
   },
   "source": [
    "#### CHAS"
   ]
  },
  {
   "cell_type": "code",
   "execution_count": 139,
   "metadata": {
    "collapsed": false,
    "pycharm": {
     "name": "#%%\n"
    }
   },
   "outputs": [
    {
     "data": {
      "text/plain": [
       "<AxesSubplot:>"
      ]
     },
     "execution_count": 139,
     "metadata": {},
     "output_type": "execute_result"
    },
    {
     "data": {
      "image/png": "[encoded data removed]",
      "text/plain": [
       "<Figure size 1080x360 with 3 Axes>"
      ]
     },
     "metadata": {
      "needs_background": "light"
     },
     "output_type": "display_data"
    }
   ],
   "source": [
    "_, axes = plt.subplots(1, 3, figsize=(15, 5))\n",
    "sns.histplot(data=df.CHAS, bins=5 ,ax=axes[0])\n",
    "sns.boxplot(data=df.CHAS, ax=axes[1])\n",
    "sns.violinplot(data=df.CHAS, ax=axes[2])"
   ]
  },
  {
   "cell_type": "markdown",
   "metadata": {
    "collapsed": false,
    "pycharm": {
     "name": "#%% md\n"
    }
   },
   "source": [
    "#### LSTAT"
   ]
  },
  {
   "cell_type": "code",
   "execution_count": 146,
   "metadata": {
    "collapsed": false,
    "pycharm": {
     "name": "#%%\n"
    }
   },
   "outputs": [
    {
     "data": {
      "text/plain": [
       "<AxesSubplot:>"
      ]
     },
     "execution_count": 146,
     "metadata": {},
     "output_type": "execute_result"
    },
    {
     "data": {
      "image/png": "[encoded data removed]",
      "text/plain": [
       "<Figure size 1080x360 with 3 Axes>"
      ]
     },
     "metadata": {
      "needs_background": "light"
     },
     "output_type": "display_data"
    }
   ],
   "source": [
    "_, axes = plt.subplots(1, 3, figsize=(15, 5))\n",
    "sns.histplot(data=df.LSTAT, ax=axes[0])\n",
    "sns.boxplot(data=df.LSTAT, ax=axes[1])\n",
    "sns.violinplot(data=df.LSTAT, ax=axes[2])"
   ]
  },
  {
   "cell_type": "markdown",
   "metadata": {
    "collapsed": false,
    "pycharm": {
     "name": "#%% md\n"
    }
   },
   "source": [
    "###### Normalizar"
   ]
  },
  {
   "cell_type": "code",
   "execution_count": 141,
   "metadata": {
    "collapsed": false,
    "pycharm": {
     "name": "#%%\n"
    }
   },
   "outputs": [],
   "source": [
    "df.LSTAT = np.log(df.LSTAT)"
   ]
  },
  {
   "cell_type": "markdown",
   "metadata": {
    "collapsed": false,
    "pycharm": {
     "name": "#%% md\n"
    }
   },
   "source": [
    "###### Analisis outliers"
   ]
  },
  {
   "cell_type": "code",
   "execution_count": 145,
   "metadata": {
    "collapsed": false,
    "pycharm": {
     "name": "#%%\n"
    }
   },
   "outputs": [
    {
     "name": "stdout",
     "output_type": "stream",
     "text": [
      "Porcentaje de outliers:  0.0\n"
     ]
    }
   ],
   "source": [
    "Q1 = df.LSTAT.quantile(0.25)\n",
    "Q3 = df.LSTAT.quantile(0.75)\n",
    "IQR = Q3 - Q1\n",
    "BI = Q1 - 1.5*IQR\n",
    "BS = Q3 + 1.5*IQR\n",
    "out = ((df.LSTAT < BI) | (df.LSTAT > BS))\n",
    "print(\"Porcentaje de outliers: \", 100*out.sum()/out.count())"
   ]
  },
  {
   "cell_type": "code",
   "execution_count": 144,
   "metadata": {
    "collapsed": false,
    "pycharm": {
     "name": "#%%\n"
    }
   },
   "outputs": [
    {
     "data": {
      "text/plain": [
       "(505, 14)"
      ]
     },
     "execution_count": 144,
     "metadata": {},
     "output_type": "execute_result"
    }
   ],
   "source": [
    "# Quitar outliers\n",
    "out = ((df.LSTAT > BI) & (df.LSTAT < BS))\n",
    "df = df.loc[out]\n",
    "df.shape"
   ]
  },
  {
   "cell_type": "markdown",
   "metadata": {
    "collapsed": false,
    "pycharm": {
     "name": "#%% md\n"
    }
   },
   "source": [
    "#### RM"
   ]
  },
  {
   "cell_type": "code",
   "execution_count": 153,
   "metadata": {
    "collapsed": false,
    "pycharm": {
     "name": "#%%\n"
    }
   },
   "outputs": [
    {
     "data": {
      "text/plain": [
       "<AxesSubplot:>"
      ]
     },
     "execution_count": 153,
     "metadata": {},
     "output_type": "execute_result"
    },
    {
     "data": {
      "image/png": "[encoded data removed]",
      "text/plain": [
       "<Figure size 1080x360 with 3 Axes>"
      ]
     },
     "metadata": {
      "needs_background": "light"
     },
     "output_type": "display_data"
    }
   ],
   "source": [
    "_, axes = plt.subplots(1, 3, figsize=(15, 5))\n",
    "sns.histplot(data=df.RM, bins=8 ,ax=axes[0])\n",
    "sns.boxplot(data=df.RM, ax=axes[1])\n",
    "sns.violinplot(data=df.RM, ax=axes[2])"
   ]
  },
  {
   "cell_type": "code",
   "execution_count": 152,
   "metadata": {
    "collapsed": false,
    "pycharm": {
     "name": "#%%\n"
    }
   },
   "outputs": [
    {
     "name": "stdout",
     "output_type": "stream",
     "text": [
      "Porcentaje de outliers:  1.0526315789473684\n"
     ]
    }
   ],
   "source": [
    "Q1 = df.RM.quantile(0.25)\n",
    "Q3 = df.RM.quantile(0.75)\n",
    "IQR = Q3 - Q1\n",
    "BI = Q1 - 1.5*IQR\n",
    "BS = Q3 + 1.5*IQR\n",
    "out = ((df.RM < BI) | (df.RM > BS))\n",
    "print(\"Porcentaje de outliers: \", 100*out.sum()/out.count())"
   ]
  },
  {
   "cell_type": "code",
   "execution_count": 151,
   "metadata": {
    "collapsed": false,
    "pycharm": {
     "name": "#%%\n"
    }
   },
   "outputs": [
    {
     "data": {
      "text/plain": [
       "(475, 14)"
      ]
     },
     "execution_count": 151,
     "metadata": {},
     "output_type": "execute_result"
    }
   ],
   "source": [
    "# Quitar outliers\n",
    "out = ((df.RM >= BI) & (df.RM <= BS))\n",
    "df = df.loc[out]\n",
    "df.shape\n",
    "#si después de quitar ouliers se generan nuevos. volver a hacer un filtro?"
   ]
  },
  {
   "cell_type": "markdown",
   "metadata": {
    "collapsed": false,
    "pycharm": {
     "name": "#%% md\n"
    }
   },
   "source": [
    "#### PTRATIO"
   ]
  },
  {
   "cell_type": "code",
   "execution_count": 157,
   "metadata": {
    "collapsed": false,
    "pycharm": {
     "name": "#%%\n"
    }
   },
   "outputs": [
    {
     "data": {
      "text/plain": [
       "<AxesSubplot:>"
      ]
     },
     "execution_count": 157,
     "metadata": {},
     "output_type": "execute_result"
    },
    {
     "data": {
      "image/png": "[encoded data removed]",
      "text/plain": [
       "<Figure size 1080x360 with 3 Axes>"
      ]
     },
     "metadata": {
      "needs_background": "light"
     },
     "output_type": "display_data"
    }
   ],
   "source": [
    "_, axes = plt.subplots(1, 3, figsize=(15, 5))\n",
    "sns.histplot(data=df.PTRATIO, bins=8, ax=axes[0])\n",
    "sns.boxplot(data=df.PTRATIO, ax=axes[1])\n",
    "sns.violinplot(data=df.PTRATIO, ax=axes[2])"
   ]
  },
  {
   "cell_type": "code",
   "execution_count": 158,
   "metadata": {
    "collapsed": false,
    "pycharm": {
     "name": "#%%\n"
    }
   },
   "outputs": [
    {
     "name": "stdout",
     "output_type": "stream",
     "text": [
      "Porcentaje de outliers:  0.0\n"
     ]
    }
   ],
   "source": [
    "Q1 = df.PTRATIO.quantile(0.25)\n",
    "Q3 = df.PTRATIO.quantile(0.75)\n",
    "IQR = Q3 - Q1\n",
    "BI = Q1 - 1.5*IQR\n",
    "BS = Q3 + 1.5*IQR\n",
    "out = ((df.PTRATIO < BI) | (df.PTRATIO > BS))\n",
    "print(\"Porcentaje de outliers: \", 100*out.sum()/out.count())"
   ]
  },
  {
   "cell_type": "markdown",
   "metadata": {
    "collapsed": false,
    "pycharm": {
     "name": "#%% md\n"
    }
   },
   "source": [
    "#### Normalizar"
   ]
  },
  {
   "cell_type": "code",
   "execution_count": 156,
   "metadata": {
    "collapsed": false,
    "pycharm": {
     "name": "#%%\n"
    }
   },
   "outputs": [],
   "source": [
    "df.PTRATIO = df.PTRATIO**2"
   ]
  },
  {
   "cell_type": "code",
   "execution_count": 577,
   "metadata": {
    "collapsed": false,
    "pycharm": {
     "name": "#%%\n"
    }
   },
   "outputs": [
    {
     "data": {
      "text/plain": [
       "(460, 14)"
      ]
     },
     "execution_count": 577,
     "metadata": {},
     "output_type": "execute_result"
    }
   ],
   "source": [
    "# Quitar outliers\n",
    "out = ((df.PTRATIO >= BI) & (df.PTRATIO <= BS))\n",
    "df = df.loc[out]\n",
    "df.shape"
   ]
  },
  {
   "cell_type": "markdown",
   "metadata": {
    "collapsed": false,
    "pycharm": {
     "name": "#%% md\n"
    }
   },
   "source": [
    "#### TAX"
   ]
  },
  {
   "cell_type": "code",
   "execution_count": 159,
   "metadata": {
    "collapsed": false,
    "pycharm": {
     "name": "#%%\n"
    }
   },
   "outputs": [
    {
     "data": {
      "text/plain": [
       "<AxesSubplot:>"
      ]
     },
     "execution_count": 159,
     "metadata": {},
     "output_type": "execute_result"
    },
    {
     "data": {
      "image/png": "[encoded data removed]",
      "text/plain": [
       "<Figure size 1080x360 with 3 Axes>"
      ]
     },
     "metadata": {
      "needs_background": "light"
     },
     "output_type": "display_data"
    }
   ],
   "source": [
    "_, axes = plt.subplots(1, 3, figsize=(15, 5))\n",
    "sns.histplot(data=df.TAX, bins=8, ax=axes[0])\n",
    "sns.boxplot(data=df.TAX, ax=axes[1])\n",
    "sns.violinplot(data=df.TAX, ax=axes[2])"
   ]
  },
  {
   "cell_type": "code",
   "execution_count": 160,
   "metadata": {
    "collapsed": false,
    "pycharm": {
     "name": "#%%\n"
    }
   },
   "outputs": [
    {
     "name": "stdout",
     "output_type": "stream",
     "text": [
      "Porcentaje de outliers:  0.0\n"
     ]
    }
   ],
   "source": [
    "Q1 = df.TAX.quantile(0.25)\n",
    "Q3 = df.TAX.quantile(0.75)\n",
    "IQR = Q3 - Q1\n",
    "BI = Q1 - 1.5*IQR\n",
    "BS = Q3 + 1.5*IQR\n",
    "out = ((df.TAX < BI) | (df.TAX > BS))\n",
    "print(\"Porcentaje de outliers: \", 100*out.sum()/out.count())"
   ]
  },
  {
   "cell_type": "markdown",
   "metadata": {
    "collapsed": false,
    "pycharm": {
     "name": "#%% md\n"
    }
   },
   "source": [
    "#### NOX"
   ]
  },
  {
   "cell_type": "code",
   "execution_count": 163,
   "metadata": {
    "collapsed": false,
    "pycharm": {
     "name": "#%%\n"
    }
   },
   "outputs": [
    {
     "data": {
      "text/plain": [
       "<AxesSubplot:>"
      ]
     },
     "execution_count": 163,
     "metadata": {},
     "output_type": "execute_result"
    },
    {
     "data": {
      "image/png": "[encoded data removed]",
      "text/plain": [
       "<Figure size 1080x360 with 3 Axes>"
      ]
     },
     "metadata": {
      "needs_background": "light"
     },
     "output_type": "display_data"
    }
   ],
   "source": [
    "_, axes = plt.subplots(1, 3, figsize=(15, 5))\n",
    "sns.histplot(data=df.NOX, bins=10 ,ax=axes[0])\n",
    "sns.boxplot(data=df.NOX, ax=axes[1])\n",
    "sns.violinplot(data=df.NOX, ax=axes[2])"
   ]
  },
  {
   "cell_type": "markdown",
   "metadata": {
    "collapsed": false,
    "pycharm": {
     "name": "#%% md\n"
    }
   },
   "source": [
    "###### Normalizar"
   ]
  },
  {
   "cell_type": "code",
   "execution_count": 162,
   "metadata": {
    "collapsed": false,
    "pycharm": {
     "name": "#%%\n"
    }
   },
   "outputs": [],
   "source": [
    "df.NOX = np.log(df.NOX)"
   ]
  },
  {
   "cell_type": "code",
   "execution_count": 164,
   "metadata": {
    "collapsed": false,
    "pycharm": {
     "name": "#%%\n"
    }
   },
   "outputs": [
    {
     "name": "stdout",
     "output_type": "stream",
     "text": [
      "Porcentaje de outliers:  0.0\n"
     ]
    }
   ],
   "source": [
    "Q1 = df.NOX.quantile(0.25)\n",
    "Q3 = df.NOX.quantile(0.75)\n",
    "IQR = Q3 - Q1\n",
    "BI = Q1 - 1.5*IQR\n",
    "BS = Q3 + 1.5*IQR\n",
    "out = ((df.NOX < BI) | (df.NOX > BS))\n",
    "print(\"Porcentaje de outliers: \", 100*out.sum()/out.count())"
   ]
  },
  {
   "cell_type": "markdown",
   "metadata": {
    "collapsed": false,
    "pycharm": {
     "name": "#%% md\n"
    }
   },
   "source": [
    "#### CRIM"
   ]
  },
  {
   "cell_type": "code",
   "execution_count": 167,
   "metadata": {
    "collapsed": false,
    "pycharm": {
     "name": "#%%\n"
    }
   },
   "outputs": [
    {
     "data": {
      "text/plain": [
       "<AxesSubplot:>"
      ]
     },
     "execution_count": 167,
     "metadata": {},
     "output_type": "execute_result"
    },
    {
     "data": {
      "image/png": "[encoded data removed]",
      "text/plain": [
       "<Figure size 1080x360 with 3 Axes>"
      ]
     },
     "metadata": {
      "needs_background": "light"
     },
     "output_type": "display_data"
    }
   ],
   "source": [
    "_, axes = plt.subplots(1, 3, figsize=(15, 5))\n",
    "sns.histplot(data=df.CRIM, bins=8 ,ax=axes[0])\n",
    "sns.boxplot(data=df.CRIM, ax=axes[1])\n",
    "sns.violinplot(data=df.CRIM, ax=axes[2])"
   ]
  },
  {
   "cell_type": "code",
   "execution_count": 166,
   "metadata": {},
   "outputs": [],
   "source": [
    "df.CRIM = np.log(df.CRIM)"
   ]
  },
  {
   "cell_type": "code",
   "execution_count": 168,
   "metadata": {
    "collapsed": false,
    "pycharm": {
     "name": "#%%\n"
    }
   },
   "outputs": [
    {
     "name": "stdout",
     "output_type": "stream",
     "text": [
      "Porcentaje de outliers:  0.0\n"
     ]
    }
   ],
   "source": [
    "Q1 = df.CRIM.quantile(0.25)\n",
    "Q3 = df.CRIM.quantile(0.75)\n",
    "IQR = Q3 - Q1\n",
    "BI = Q1 - 1.5*IQR\n",
    "\n",
    "BS = Q3 + 1.5*IQR\n",
    "out = ((df.CRIM < BI) | (df.CRIM > BS))\n",
    "print(\"Porcentaje de outliers: \", 100*out.sum()/out.count())"
   ]
  },
  {
   "cell_type": "code",
   "execution_count": 59,
   "metadata": {
    "collapsed": false,
    "pycharm": {
     "name": "#%%\n"
    }
   },
   "outputs": [
    {
     "data": {
      "text/plain": [
       "(440, 14)"
      ]
     },
     "execution_count": 59,
     "metadata": {},
     "output_type": "execute_result"
    }
   ],
   "source": [
    "#no utilizar por el momento, cada vez que saco outliers se generan más\n",
    "# Quitar outliers\n",
    "out = ((df.CRIM >= BI) & (df.CRIM <= BS))\n",
    "df = df.loc[out]\n",
    "df.shape"
   ]
  },
  {
   "cell_type": "markdown",
   "metadata": {
    "collapsed": false,
    "pycharm": {
     "name": "#%% md\n"
    }
   },
   "source": [
    "#### RAD"
   ]
  },
  {
   "cell_type": "code",
   "execution_count": 169,
   "metadata": {
    "collapsed": false,
    "pycharm": {
     "name": "#%%\n"
    }
   },
   "outputs": [
    {
     "data": {
      "text/plain": [
       "<AxesSubplot:>"
      ]
     },
     "execution_count": 169,
     "metadata": {},
     "output_type": "execute_result"
    },
    {
     "data": {
      "image/png": "[encoded data removed]",
      "text/plain": [
       "<Figure size 1080x360 with 3 Axes>"
      ]
     },
     "metadata": {
      "needs_background": "light"
     },
     "output_type": "display_data"
    }
   ],
   "source": [
    "_, axes = plt.subplots(1, 3, figsize=(15, 5))\n",
    "sns.histplot(data=df.RAD, bins=8, ax=axes[0])\n",
    "sns.boxplot(data=df.RAD, ax=axes[1])\n",
    "sns.violinplot(data=df.RAD, ax=axes[2])"
   ]
  },
  {
   "cell_type": "code",
   "execution_count": 69,
   "metadata": {},
   "outputs": [
    {
     "data": {
      "text/plain": [
       "5.0     115\n",
       "4.0     110\n",
       "24.0     66\n",
       "3.0      38\n",
       "6.0      26\n",
       "2.0      24\n",
       "8.0      24\n",
       "1.0      20\n",
       "7.0      17\n",
       "Name: RAD, dtype: int64"
      ]
     },
     "execution_count": 69,
     "metadata": {},
     "output_type": "execute_result"
    }
   ],
   "source": [
    "df.RAD.value_counts()"
   ]
  },
  {
   "cell_type": "markdown",
   "metadata": {
    "collapsed": false,
    "pycharm": {
     "name": "#%% md\n"
    }
   },
   "source": [
    "#### ZN (Solucionar problema de log(0) = -inf)"
   ]
  },
  {
   "cell_type": "code",
   "execution_count": 122,
   "metadata": {
    "collapsed": false,
    "pycharm": {
     "name": "#%%\n"
    }
   },
   "outputs": [
    {
     "data": {
      "text/plain": [
       "<AxesSubplot:>"
      ]
     },
     "execution_count": 122,
     "metadata": {},
     "output_type": "execute_result"
    },
    {
     "data": {
      "image/png": "[encoded data removed]",
      "text/plain": [
       "<Figure size 1080x360 with 3 Axes>"
      ]
     },
     "metadata": {
      "needs_background": "light"
     },
     "output_type": "display_data"
    }
   ],
   "source": [
    "_, axes = plt.subplots(1, 3, figsize=(15, 5))\n",
    "sns.histplot(data=df.ZN, bins=5 ,ax=axes[0])\n",
    "sns.boxplot(data=df.ZN, ax=axes[1])\n",
    "sns.violinplot(data=df.ZN, ax=axes[2])"
   ]
  },
  {
   "cell_type": "code",
   "execution_count": 118,
   "metadata": {},
   "outputs": [],
   "source": [
    "#df.ZN = 2**df.ZN"
   ]
  },
  {
   "cell_type": "code",
   "execution_count": 123,
   "metadata": {},
   "outputs": [
    {
     "data": {
      "text/plain": [
       "0.0      372\n",
       "20.0      21\n",
       "80.0      15\n",
       "22.0      10\n",
       "12.5      10\n",
       "25.0      10\n",
       "40.0       7\n",
       "45.0       6\n",
       "30.0       6\n",
       "90.0       5\n",
       "95.0       4\n",
       "60.0       4\n",
       "21.0       4\n",
       "33.0       4\n",
       "55.0       3\n",
       "70.0       3\n",
       "34.0       3\n",
       "52.5       3\n",
       "35.0       3\n",
       "28.0       3\n",
       "75.0       3\n",
       "82.5       2\n",
       "85.0       2\n",
       "17.5       1\n",
       "100.0      1\n",
       "18.0       1\n",
       "Name: ZN, dtype: int64"
      ]
     },
     "execution_count": 123,
     "metadata": {},
     "output_type": "execute_result"
    }
   ],
   "source": [
    "df.ZN.value_counts()"
   ]
  },
  {
   "cell_type": "code",
   "execution_count": 96,
   "metadata": {
    "collapsed": false,
    "pycharm": {
     "name": "#%%\n"
    }
   },
   "outputs": [
    {
     "name": "stdout",
     "output_type": "stream",
     "text": [
      "Porcentaje de outliers:  0.0\n"
     ]
    },
    {
     "name": "stderr",
     "output_type": "stream",
     "text": [
      "/home/jose/miniconda3/envs/data/lib/python3.9/site-packages/numpy/lib/function_base.py:4009: RuntimeWarning: invalid value encountered in subtract\n",
      "  diff_b_a = subtract(b, a)\n"
     ]
    }
   ],
   "source": [
    "Q1 = df.ZN.quantile(0.25)\n",
    "Q3 = df.ZN.quantile(0.75)\n",
    "IQR = Q3 - Q1\n",
    "BI = Q1 - 1.5*IQR\n",
    "BS = Q3 + 1.5*IQR\n",
    "out = ((df.ZN < BI) | (df.ZN > BS))\n",
    "print(\"Porcentaje de outliers: \", 100*out.sum()/out.count())"
   ]
  },
  {
   "cell_type": "code",
   "execution_count": null,
   "metadata": {
    "collapsed": false,
    "pycharm": {
     "name": "#%%\n"
    }
   },
   "outputs": [],
   "source": [
    "#No tener en cuenta por demasiados outliers\n",
    "# Quitar outliers\n",
    "out = ((df.ZN >= BI) & (df.ZN <= BS))\n",
    "df = df.loc[out]\n",
    "df.shape"
   ]
  },
  {
   "cell_type": "markdown",
   "metadata": {
    "collapsed": false,
    "pycharm": {
     "name": "#%% md\n"
    }
   },
   "source": [
    "#### B (problemas para normalizar)"
   ]
  },
  {
   "cell_type": "code",
   "execution_count": 130,
   "metadata": {
    "collapsed": false,
    "pycharm": {
     "name": "#%%\n"
    }
   },
   "outputs": [
    {
     "data": {
      "text/plain": [
       "<AxesSubplot:>"
      ]
     },
     "execution_count": 130,
     "metadata": {},
     "output_type": "execute_result"
    },
    {
     "data": {
      "image/png": "[encoded data removed]",
      "text/plain": [
       "<Figure size 1080x360 with 3 Axes>"
      ]
     },
     "metadata": {
      "needs_background": "light"
     },
     "output_type": "display_data"
    }
   ],
   "source": [
    "_, axes = plt.subplots(1, 3, figsize=(15, 5))\n",
    "sns.histplot(data=df.B, bins=10, ax=axes[0])\n",
    "sns.boxplot(data=df.B, ax=axes[1])\n",
    "sns.violinplot(data=df.B, ax=axes[2])"
   ]
  },
  {
   "cell_type": "code",
   "execution_count": 129,
   "metadata": {},
   "outputs": [],
   "source": [
    "df.B = df.B**2"
   ]
  },
  {
   "cell_type": "code",
   "execution_count": 131,
   "metadata": {
    "collapsed": false,
    "pycharm": {
     "name": "#%%\n"
    }
   },
   "outputs": [
    {
     "name": "stdout",
     "output_type": "stream",
     "text": [
      "Porcentaje de outliers:  14.82213438735178\n"
     ]
    }
   ],
   "source": [
    "Q1 = df.B.quantile(0.25)\n",
    "Q3 = df.B.quantile(0.75)\n",
    "IQR = Q3 - Q1\n",
    "BI = Q1 - 1.5*IQR\n",
    "BS = Q3 + 1.5*IQR\n",
    "out = ((df.B < BI) | (x.B > BS))\n",
    "print(\"Porcentaje de outliers: \", 100*out.sum()/out.count())"
   ]
  },
  {
   "cell_type": "code",
   "execution_count": 32,
   "metadata": {
    "collapsed": false,
    "pycharm": {
     "name": "#%%\n"
    }
   },
   "outputs": [
    {
     "data": {
      "text/plain": [
       "(8, 13)"
      ]
     },
     "execution_count": 32,
     "metadata": {},
     "output_type": "execute_result"
    }
   ],
   "source": [
    "# Quitar outliers\n",
    "#no utilizar por la cantidad de outliers\n",
    "out = ((df.B >= BI) & (df.B <= BS))\n",
    "df = df.loc[out]\n",
    "df.shape"
   ]
  },
  {
   "cell_type": "markdown",
   "metadata": {
    "collapsed": false,
    "pycharm": {
     "name": "#%% md\n"
    }
   },
   "source": [
    "#### DIS"
   ]
  },
  {
   "cell_type": "code",
   "execution_count": 173,
   "metadata": {
    "collapsed": false,
    "pycharm": {
     "name": "#%%\n"
    }
   },
   "outputs": [
    {
     "data": {
      "text/plain": [
       "<AxesSubplot:>"
      ]
     },
     "execution_count": 173,
     "metadata": {},
     "output_type": "execute_result"
    },
    {
     "data": {
      "image/png": "[encoded data removed]",
      "text/plain": [
       "<Figure size 1080x360 with 3 Axes>"
      ]
     },
     "metadata": {
      "needs_background": "light"
     },
     "output_type": "display_data"
    }
   ],
   "source": [
    "_, axes = plt.subplots(1, 3, figsize=(15, 5))\n",
    "sns.histplot(data=df.DIS, bins=10 ,ax=axes[0])\n",
    "sns.boxplot(data=df.DIS, ax=axes[1])\n",
    "sns.violinplot(data=df.DIS, ax=axes[2])"
   ]
  },
  {
   "cell_type": "markdown",
   "metadata": {
    "collapsed": false,
    "pycharm": {
     "name": "#%% md\n"
    }
   },
   "source": [
    "###### Normalizar"
   ]
  },
  {
   "cell_type": "code",
   "execution_count": 172,
   "metadata": {
    "collapsed": false,
    "pycharm": {
     "name": "#%%\n"
    }
   },
   "outputs": [],
   "source": [
    "df.DIS = np.log(df.DIS)"
   ]
  },
  {
   "cell_type": "code",
   "execution_count": 174,
   "metadata": {
    "collapsed": false,
    "pycharm": {
     "name": "#%%\n"
    }
   },
   "outputs": [
    {
     "name": "stdout",
     "output_type": "stream",
     "text": [
      "Porcentaje de outliers:  0.0\n"
     ]
    }
   ],
   "source": [
    "Q1 = df.DIS.quantile(0.25)\n",
    "Q3 = df.DIS.quantile(0.75)\n",
    "IQR = Q3 - Q1\n",
    "BI = Q1 - 1.5*IQR\n",
    "BS = Q3 + 1.5*IQR\n",
    "out = ((df.DIS < BI) | (df.DIS > BS))\n",
    "print(\"Porcentaje de outliers: \", 100*out.sum()/out.count())"
   ]
  },
  {
   "cell_type": "code",
   "execution_count": 587,
   "metadata": {
    "collapsed": false,
    "pycharm": {
     "name": "#%%\n"
    }
   },
   "outputs": [
    {
     "data": {
      "text/plain": [
       "(455, 14)"
      ]
     },
     "execution_count": 587,
     "metadata": {},
     "output_type": "execute_result"
    }
   ],
   "source": [
    "out = ((df.DIS >= BI) & (df.DIS <= BS))\n",
    "df = df.loc[out]\n",
    "df.shape"
   ]
  },
  {
   "cell_type": "markdown",
   "metadata": {
    "collapsed": false,
    "pycharm": {
     "name": "#%% md\n"
    }
   },
   "source": [
    "#### 1_Análisis sin otulaiers de LSTAT, RM, PTRATIO, TAX, NOX, RAD, DIS, CRIM"
   ]
  },
  {
   "cell_type": "code",
   "execution_count": 49,
   "metadata": {
    "collapsed": false,
    "pycharm": {
     "name": "#%%\n"
    }
   },
   "outputs": [
    {
     "data": {
      "text/plain": [
       "(455, 13)"
      ]
     },
     "execution_count": 49,
     "metadata": {},
     "output_type": "execute_result"
    }
   ],
   "source": [
    "x.shape"
   ]
  },
  {
   "cell_type": "code",
   "execution_count": 184,
   "metadata": {
    "collapsed": false,
    "pycharm": {
     "name": "#%%\n"
    }
   },
   "outputs": [],
   "source": [
    "x = df[['LSTAT', 'RM', 'PTRATIO', 'TAX', 'NOX', 'RAD', 'DIS', 'CRIM']]\n",
    "y = df.price"
   ]
  },
  {
   "cell_type": "code",
   "execution_count": 475,
   "metadata": {
    "collapsed": false,
    "pycharm": {
     "name": "#%%\n"
    }
   },
   "outputs": [
    {
     "data": {
      "text/plain": [
       "0      24.0\n",
       "1      21.6\n",
       "2      34.7\n",
       "3      33.4\n",
       "4       NaN\n",
       "       ... \n",
       "501    22.4\n",
       "502    20.6\n",
       "503    23.9\n",
       "504    22.0\n",
       "505    11.9\n",
       "Name: price, Length: 458, dtype: float64"
      ]
     },
     "execution_count": 475,
     "metadata": {},
     "output_type": "execute_result"
    }
   ],
   "source": [
    "df.price"
   ]
  },
  {
   "cell_type": "code",
   "execution_count": 180,
   "metadata": {
    "collapsed": false,
    "pycharm": {
     "name": "#%%\n"
    }
   },
   "outputs": [
    {
     "data": {
      "text/plain": [
       "<AxesSubplot:xlabel='price', ylabel='Count'>"
      ]
     },
     "execution_count": 180,
     "metadata": {},
     "output_type": "execute_result"
    },
    {
     "data": {
      "image/png": "[encoded data removed]",
      "text/plain": [
       "<Figure size 432x288 with 1 Axes>"
      ]
     },
     "metadata": {
      "needs_background": "light"
     },
     "output_type": "display_data"
    }
   ],
   "source": [
    "sns.histplot(y)"
   ]
  },
  {
   "cell_type": "code",
   "execution_count": 181,
   "metadata": {},
   "outputs": [
    {
     "data": {
      "text/plain": [
       "(20.678587196468005, 20.6)"
      ]
     },
     "execution_count": 181,
     "metadata": {},
     "output_type": "execute_result"
    }
   ],
   "source": [
    "df.price.mean(), df.price.median()"
   ]
  },
  {
   "cell_type": "code",
   "execution_count": 185,
   "metadata": {
    "collapsed": false,
    "pycharm": {
     "name": "#%%\n"
    }
   },
   "outputs": [
    {
     "name": "stdout",
     "output_type": "stream",
     "text": [
      "Porcentaje de outliers:  1.3245033112582782\n"
     ]
    }
   ],
   "source": [
    "Q1 = df.price.quantile(0.25)\n",
    "Q3 = df.price.quantile(0.75)\n",
    "IQR = Q3 - Q1\n",
    "BI = Q1 - 1.5*IQR\n",
    "BS = Q3 + 1.5*IQR\n",
    "out = ((df.price < BI) | (df.price > BS))\n",
    "print(\"Porcentaje de outliers: \", 100*out.sum()/out.count())"
   ]
  },
  {
   "cell_type": "code",
   "execution_count": 178,
   "metadata": {
    "collapsed": false,
    "pycharm": {
     "name": "#%%\n"
    }
   },
   "outputs": [],
   "source": [
    "out = ((df.price >= BI) & (df.price <= BS))\n",
    "df = df.loc[out]"
   ]
  },
  {
   "cell_type": "markdown",
   "metadata": {
    "collapsed": false,
    "pycharm": {
     "name": "#%% md\n"
    }
   },
   "source": [
    "#### NORMALIZAR FEATURES"
   ]
  },
  {
   "cell_type": "code",
   "execution_count": 186,
   "metadata": {
    "collapsed": false,
    "pycharm": {
     "name": "#%%\n"
    }
   },
   "outputs": [],
   "source": [
    "x_columns = x.columns"
   ]
  },
  {
   "cell_type": "code",
   "execution_count": 187,
   "metadata": {
    "collapsed": false,
    "pycharm": {
     "name": "#%%\n"
    }
   },
   "outputs": [],
   "source": [
    "scaler = MinMaxScaler()\n",
    "x = scaler.fit_transform(x)\n",
    "x = pd.DataFrame(x, columns=x_columns)"
   ]
  },
  {
   "cell_type": "markdown",
   "metadata": {
    "collapsed": false,
    "pycharm": {
     "name": "#%% md\n"
    }
   },
   "source": [
    "#### Análisis de variables, no se tendrán en cuenta las variables INDUS Y AGE por p>|t| > 0.05"
   ]
  },
  {
   "cell_type": "markdown",
   "metadata": {
    "collapsed": false,
    "pycharm": {
     "name": "#%% md\n"
    }
   },
   "source": [
    "Entrenar modelo"
   ]
  },
  {
   "cell_type": "code",
   "execution_count": 188,
   "metadata": {
    "collapsed": false,
    "pycharm": {
     "name": "#%%\n"
    }
   },
   "outputs": [
    {
     "data": {
      "text/plain": [
       "((362, 8), (362,))"
      ]
     },
     "execution_count": 188,
     "metadata": {},
     "output_type": "execute_result"
    }
   ],
   "source": [
    "x_train, x_test, y_train, y_test = train_test_split(x, y, test_size=0.2, random_state=42)\n",
    "x_train.shape, y_train.shape"
   ]
  },
  {
   "cell_type": "code",
   "execution_count": 362,
   "metadata": {
    "collapsed": false,
    "pycharm": {
     "name": "#%%\n"
    }
   },
   "outputs": [
    {
     "data": {
      "text/plain": [
       "array([14.1, 29. , 31.6, 28.1,  nan, 15.6, 17.5, 19.4, 19.5, 22.5, 14.5,\n",
       "       23.9, 24.1, 20.6, 24.4, 19.3, 20.6, 32.2, 23.1,  nan, 19.7, 20.7,\n",
       "       23.3, 19.5, 19.4, 28.7, 20.4, 19.3, 19.1, 20.5, 15.4, 24.6, 23.1,\n",
       "       23.2, 25. , 24.5, 33.4, 15.6, 18.7, 18.8, 25. , 24.5, 21. , 13.1,\n",
       "       24.4, 16.6, 27.1, 19.9, 21.7, 21.1, 16.7, 22. , 21.2,  7.2, 19. ,\n",
       "       25.2, 10.4,  9.7,  8.3, 16.7, 34.9, 13.5, 15.6, 13.9, 33.2, 11.7,\n",
       "       20.6, 22.8, 27.5, 14.6, 12.5, 17. , 13. , 22.5, 22.9, 12.8, 19.1,\n",
       "       16.2, 23. , 24.1, 13.8, 18.6, 31.6, 20.3, 21.2, 22.8,  8.4, 13.1,\n",
       "       17.5,  nan, 21.4, 13.1, 33.1, 20. , 14.4, 15. , 21.5,  7.2, 28.6,\n",
       "       19.6, 18.7, 35.4,  7.4, 22.9,  nan, 17.7, 27. , 15.3, 26.4,  nan,\n",
       "       15. , 21.7, 19.5, 23.9, 24.7, 18.5, 23.6, 22. , 26.4, 22.4, 33.4,\n",
       "       17.2, 31.5, 24.4, 28.7, 23.2, 22.3, 16.8, 15.4, 34.7, 22.9, 16.3,\n",
       "       20.9, 27.1, 21.4, 10.2, 21.4, 13.8, 20.8,  nan, 29.1, 33.2, 19.3,\n",
       "       17.4, 14.5, 21. , 15.6, 18.8, 30.5, 23.3,  nan, 22. , 35.1, 23.8,\n",
       "       14.9, 22.7, 20.3, 17.2, 13.4, 16.2, 17.8, 13.8, 22.1, 22.2, 14.3,\n",
       "       23.7, 19.6, 11.7, 14.1, 14.2, 11.5, 24.8, 21.8, 13.4, 10.8, 24.5,\n",
       "       18.5, 32. , 25. , 12. , 20.6,  7. ,  nan, 29.6, 23.8, 17.4, 13.3,\n",
       "       19.3, 27.9, 24.8, 19.2, 20.5, 17.8, 23.7, 10.4, 17.5, 14.3, 21. ,\n",
       "       10.2, 19.4, 12.7,  9.6, 18.1, 13.8, 21.2, 19.9, 23.5, 19.8, 26.6,\n",
       "       32.4, 29.1, 22.7, 21.7, 18.9, 18.4, 23.2, 11.8, 17.2, 22.9, 22. ,\n",
       "       28.4, 20.5, 24.4, 12.6, 23.2, 29.6, 26.6,  5.6, 26.7, 17.8, 22.3,\n",
       "       10.9,  nan, 28.5, 16.4, 18.6, 18.5, 10.5, 24.3, 24.6, 27.5, 23. ,\n",
       "       29. , 16. , 16.6, 13.2, 22. , 19.9, 23.7, 14.9, 14.8, 12.1, 26.2,\n",
       "       21.7, 20.4, 23.8,  8.4, 14. , 22.2, 17.1, 19.2, 20.6, 16.5, 25. ,\n",
       "       29.8, 33. , 20.7, 18.2, 24.3, 34.9, 20.1,  8.8, 24. , 21.6, 14.9,\n",
       "       18.4, 15. ,  nan, 21.7, 31.5, 22.6, 19.1, 22. , 23.1, 19.1, 18.5,\n",
       "       15.1, 33.1, 25. , 23.8, 24.7, 25.1,  nan, 23.9, 23.9, 20.4, 23.4,\n",
       "       16.1, 21.6, 17.8,  8.1, 19.4, 28. , 23. , 13.5, 20.3, 27.9, 22. ,\n",
       "       13.3, 23.7, 25. , 12.3, 22.5, 35.2, 20.4, 26.6, 23.6, 14.5, 28.2,\n",
       "       23.1, 20.8, 21.2, 17.4, 18.7, 15.2, 30.1, 32. , 18.9,  8.3, 19.7,\n",
       "        nan, 24.1, 20.6, 34.9, 29.4, 23.3, 14.4, 11.3, 20.9, 20.1, 19.6,\n",
       "       23.1, 25. , 16.1, 22.6, 11. , 22.2, 12.7, 10.9,  nan, 16.5, 19.6,\n",
       "       23. , 19.4,  6.3, 26.5,  7.2, 22.2, 21.9, 31.7, 17.3, 11.9, 13.6,\n",
       "       32.9, 21.7, 19.8,  nan, 10.2, 14.6, 20.1])"
      ]
     },
     "execution_count": 362,
     "metadata": {},
     "output_type": "execute_result"
    }
   ],
   "source": [
    "y_train.values"
   ]
  },
  {
   "cell_type": "code",
   "execution_count": 189,
   "metadata": {
    "collapsed": false,
    "pycharm": {
     "name": "#%%\n"
    }
   },
   "outputs": [
    {
     "data": {
      "text/html": [
       "<table class=\"simpletable\">\n",
       "<caption>OLS Regression Results</caption>\n",
       "<tr>\n",
       "  <th>Dep. Variable:</th>            <td>y</td>        <th>  R-squared:         </th> <td>   0.757</td> \n",
       "</tr>\n",
       "<tr>\n",
       "  <th>Model:</th>                   <td>OLS</td>       <th>  Adj. R-squared:    </th> <td>   0.752</td> \n",
       "</tr>\n",
       "<tr>\n",
       "  <th>Method:</th>             <td>Least Squares</td>  <th>  F-statistic:       </th> <td>   137.6</td> \n",
       "</tr>\n",
       "<tr>\n",
       "  <th>Date:</th>             <td>Mon, 03 Oct 2022</td> <th>  Prob (F-statistic):</th> <td>1.27e-103</td>\n",
       "</tr>\n",
       "<tr>\n",
       "  <th>Time:</th>                 <td>11:05:52</td>     <th>  Log-Likelihood:    </th> <td> -924.68</td> \n",
       "</tr>\n",
       "<tr>\n",
       "  <th>No. Observations:</th>      <td>   362</td>      <th>  AIC:               </th> <td>   1867.</td> \n",
       "</tr>\n",
       "<tr>\n",
       "  <th>Df Residuals:</th>          <td>   353</td>      <th>  BIC:               </th> <td>   1902.</td> \n",
       "</tr>\n",
       "<tr>\n",
       "  <th>Df Model:</th>              <td>     8</td>      <th>                     </th>     <td> </td>    \n",
       "</tr>\n",
       "<tr>\n",
       "  <th>Covariance Type:</th>      <td>nonrobust</td>    <th>                     </th>     <td> </td>    \n",
       "</tr>\n",
       "</table>\n",
       "<table class=\"simpletable\">\n",
       "<tr>\n",
       "     <td></td>        <th>coef</th>     <th>std err</th>      <th>t</th>      <th>P>|t|</th>  <th>[0.025</th>    <th>0.975]</th>  \n",
       "</tr>\n",
       "<tr>\n",
       "  <th>const</th>   <td>   37.1642</td> <td>    1.965</td> <td>   18.917</td> <td> 0.000</td> <td>   33.300</td> <td>   41.028</td>\n",
       "</tr>\n",
       "<tr>\n",
       "  <th>LSTAT</th>   <td>  -16.6763</td> <td>    1.538</td> <td>  -10.841</td> <td> 0.000</td> <td>  -19.702</td> <td>  -13.651</td>\n",
       "</tr>\n",
       "<tr>\n",
       "  <th>RM</th>      <td>    7.8276</td> <td>    1.211</td> <td>    6.462</td> <td> 0.000</td> <td>    5.445</td> <td>   10.210</td>\n",
       "</tr>\n",
       "<tr>\n",
       "  <th>PTRATIO</th> <td>   -5.5747</td> <td>    0.867</td> <td>   -6.428</td> <td> 0.000</td> <td>   -7.280</td> <td>   -3.869</td>\n",
       "</tr>\n",
       "<tr>\n",
       "  <th>TAX</th>     <td>   -6.0895</td> <td>    1.327</td> <td>   -4.589</td> <td> 0.000</td> <td>   -8.699</td> <td>   -3.480</td>\n",
       "</tr>\n",
       "<tr>\n",
       "  <th>NOX</th>     <td>   -2.5509</td> <td>    1.602</td> <td>   -1.592</td> <td> 0.112</td> <td>   -5.702</td> <td>    0.600</td>\n",
       "</tr>\n",
       "<tr>\n",
       "  <th>RAD</th>     <td>    4.1980</td> <td>    1.303</td> <td>    3.223</td> <td> 0.001</td> <td>    1.636</td> <td>    6.760</td>\n",
       "</tr>\n",
       "<tr>\n",
       "  <th>DIS</th>     <td>   -4.7605</td> <td>    1.524</td> <td>   -3.123</td> <td> 0.002</td> <td>   -7.758</td> <td>   -1.763</td>\n",
       "</tr>\n",
       "<tr>\n",
       "  <th>CRIM</th>    <td>   -4.9978</td> <td>    2.067</td> <td>   -2.418</td> <td> 0.016</td> <td>   -9.063</td> <td>   -0.933</td>\n",
       "</tr>\n",
       "</table>\n",
       "<table class=\"simpletable\">\n",
       "<tr>\n",
       "  <th>Omnibus:</th>       <td> 6.260</td> <th>  Durbin-Watson:     </th> <td>   1.970</td>\n",
       "</tr>\n",
       "<tr>\n",
       "  <th>Prob(Omnibus):</th> <td> 0.044</td> <th>  Jarque-Bera (JB):  </th> <td>   6.230</td>\n",
       "</tr>\n",
       "<tr>\n",
       "  <th>Skew:</th>          <td> 0.259</td> <th>  Prob(JB):          </th> <td>  0.0444</td>\n",
       "</tr>\n",
       "<tr>\n",
       "  <th>Kurtosis:</th>      <td> 3.381</td> <th>  Cond. No.          </th> <td>    28.5</td>\n",
       "</tr>\n",
       "</table><br/><br/>Notes:<br/>[1] Standard Errors assume that the covariance matrix of the errors is correctly specified."
      ],
      "text/plain": [
       "<class 'statsmodels.iolib.summary.Summary'>\n",
       "\"\"\"\n",
       "                            OLS Regression Results                            \n",
       "==============================================================================\n",
       "Dep. Variable:                      y   R-squared:                       0.757\n",
       "Model:                            OLS   Adj. R-squared:                  0.752\n",
       "Method:                 Least Squares   F-statistic:                     137.6\n",
       "Date:                Mon, 03 Oct 2022   Prob (F-statistic):          1.27e-103\n",
       "Time:                        11:05:52   Log-Likelihood:                -924.68\n",
       "No. Observations:                 362   AIC:                             1867.\n",
       "Df Residuals:                     353   BIC:                             1902.\n",
       "Df Model:                           8                                         \n",
       "Covariance Type:            nonrobust                                         \n",
       "==============================================================================\n",
       "                 coef    std err          t      P>|t|      [0.025      0.975]\n",
       "------------------------------------------------------------------------------\n",
       "const         37.1642      1.965     18.917      0.000      33.300      41.028\n",
       "LSTAT        -16.6763      1.538    -10.841      0.000     -19.702     -13.651\n",
       "RM             7.8276      1.211      6.462      0.000       5.445      10.210\n",
       "PTRATIO       -5.5747      0.867     -6.428      0.000      -7.280      -3.869\n",
       "TAX           -6.0895      1.327     -4.589      0.000      -8.699      -3.480\n",
       "NOX           -2.5509      1.602     -1.592      0.112      -5.702       0.600\n",
       "RAD            4.1980      1.303      3.223      0.001       1.636       6.760\n",
       "DIS           -4.7605      1.524     -3.123      0.002      -7.758      -1.763\n",
       "CRIM          -4.9978      2.067     -2.418      0.016      -9.063      -0.933\n",
       "==============================================================================\n",
       "Omnibus:                        6.260   Durbin-Watson:                   1.970\n",
       "Prob(Omnibus):                  0.044   Jarque-Bera (JB):                6.230\n",
       "Skew:                           0.259   Prob(JB):                       0.0444\n",
       "Kurtosis:                       3.381   Cond. No.                         28.5\n",
       "==============================================================================\n",
       "\n",
       "Notes:\n",
       "[1] Standard Errors assume that the covariance matrix of the errors is correctly specified.\n",
       "\"\"\""
      ]
     },
     "execution_count": 189,
     "metadata": {},
     "output_type": "execute_result"
    }
   ],
   "source": [
    "ml = sm.OLS(y_train.values.reshape(-1, 1), sm.add_constant(x_train))\n",
    "ml_results = ml.fit()\n",
    "ml_results.summary()"
   ]
  },
  {
   "cell_type": "code",
   "execution_count": 190,
   "metadata": {
    "collapsed": false,
    "pycharm": {
     "name": "#%%\n"
    }
   },
   "outputs": [],
   "source": [
    "# Valores Ajustados\n",
    "fitted_values = ml_results.fittedvalues\n",
    "\n",
    "# Valores residuales\n",
    "residuals = ml_results.resid\n",
    "\n",
    "#residuales estandarizados\n",
    "lm_resid_stand = ml_results.get_influence().resid_studentized_internal\n",
    "\n",
    "#raiz de los residuales normalizados absolutos\n",
    "lm_resid_norm_abs_sqrt = np.sqrt(np.abs(lm_resid_stand))\n",
    "\n",
    "#residuales absolutos\n",
    "lm_resid_abs = np.abs(residuals)"
   ]
  },
  {
   "cell_type": "code",
   "execution_count": 191,
   "metadata": {
    "collapsed": false,
    "pycharm": {
     "name": "#%%\n"
    }
   },
   "outputs": [],
   "source": [
    "sns.set(rc = {'figure.figsize':(15,8)})"
   ]
  },
  {
   "cell_type": "code",
   "execution_count": 192,
   "metadata": {
    "collapsed": false,
    "pycharm": {
     "name": "#%%\n"
    }
   },
   "outputs": [
    {
     "name": "stdout",
     "output_type": "stream",
     "text": [
      "Mean squared error: 8.27\n"
     ]
    }
   ],
   "source": [
    "y_pred = ml_results.predict(sm.add_constant(x_test))\n",
    "print(\"Mean squared error: %.2f\" % mean_squared_error(y_test,y_pred))"
   ]
  },
  {
   "cell_type": "code",
   "execution_count": 193,
   "metadata": {
    "collapsed": false,
    "pycharm": {
     "name": "#%%\n"
    }
   },
   "outputs": [
    {
     "data": {
      "image/png": "[encoded data removed]",
      "text/plain": [
       "<Figure size 1080x576 with 1 Axes>"
      ]
     },
     "metadata": {},
     "output_type": "display_data"
    }
   ],
   "source": [
    "# Residuales\n",
    "plt.hist(ml_results.resid)\n",
    "plt.show()"
   ]
  },
  {
   "cell_type": "code",
   "execution_count": 194,
   "metadata": {
    "collapsed": false,
    "pycharm": {
     "name": "#%%\n"
    }
   },
   "outputs": [
    {
     "data": {
      "image/png": "[encoded data removed]",
      "text/plain": [
       "<Figure size 1080x576 with 1 Axes>"
      ]
     },
     "metadata": {},
     "output_type": "display_data"
    }
   ],
   "source": [
    "def grafico_qqplot():\n",
    "    fig = sm.qqplot(lm_resid_stand,line='45')\n",
    "    plt.show()\n",
    "\n",
    "grafico_qqplot()"
   ]
  },
  {
   "cell_type": "markdown",
   "metadata": {
    "collapsed": false,
    "pycharm": {
     "name": "#%% md\n"
    }
   },
   "source": [
    "## Residuales vs ajustados"
   ]
  },
  {
   "cell_type": "code",
   "execution_count": 195,
   "metadata": {
    "collapsed": false,
    "pycharm": {
     "name": "#%%\n"
    }
   },
   "outputs": [
    {
     "data": {
      "image/png": "[encoded data removed]",
      "text/plain": [
       "<Figure size 1080x576 with 1 Axes>"
      ]
     },
     "metadata": {},
     "output_type": "display_data"
    }
   ],
   "source": [
    "def residuales_vs_ajustados():\n",
    "    plot = sns.residplot(x=fitted_values, y=residuals, lowess=True,\n",
    "                         scatter_kws={'alpha': 0.5},\n",
    "                         line_kws={'color': 'red', 'lw': 2, 'alpha': 0.8})\n",
    "\n",
    "    # Titel and labels\n",
    "    plot.set_title('Residuals vs Fitted')\n",
    "    plot.set_xlabel('Fitted values')\n",
    "    plot.set_ylabel('Residuals')\n",
    "residuales_vs_ajustados()"
   ]
  },
  {
   "cell_type": "markdown",
   "metadata": {
    "collapsed": false,
    "pycharm": {
     "name": "#%% md\n"
    }
   },
   "source": [
    "## Scale Location"
   ]
  },
  {
   "cell_type": "code",
   "execution_count": 196,
   "metadata": {
    "collapsed": false,
    "pycharm": {
     "name": "#%%\n"
    }
   },
   "outputs": [
    {
     "name": "stderr",
     "output_type": "stream",
     "text": [
      "/home/jose/miniconda3/envs/data/lib/python3.9/site-packages/seaborn/_decorators.py:36: FutureWarning: Pass the following variables as keyword args: x, y. From version 0.12, the only valid positional argument will be `data`, and passing other arguments without an explicit keyword will result in an error or misinterpretation.\n",
      "  warnings.warn(\n"
     ]
    },
    {
     "ename": "KeyError",
     "evalue": "70",
     "output_type": "error",
     "traceback": [
      "\u001b[0;31m---------------------------------------------------------------------------\u001b[0m",
      "\u001b[0;31mKeyError\u001b[0m                                  Traceback (most recent call last)",
      "File \u001b[0;32m~/miniconda3/envs/data/lib/python3.9/site-packages/pandas/core/indexes/base.py:3621\u001b[0m, in \u001b[0;36mIndex.get_loc\u001b[0;34m(self, key, method, tolerance)\u001b[0m\n\u001b[1;32m   3620\u001b[0m \u001b[39mtry\u001b[39;00m:\n\u001b[0;32m-> 3621\u001b[0m     \u001b[39mreturn\u001b[39;00m \u001b[39mself\u001b[39;49m\u001b[39m.\u001b[39;49m_engine\u001b[39m.\u001b[39;49mget_loc(casted_key)\n\u001b[1;32m   3622\u001b[0m \u001b[39mexcept\u001b[39;00m \u001b[39mKeyError\u001b[39;00m \u001b[39mas\u001b[39;00m err:\n",
      "File \u001b[0;32m~/miniconda3/envs/data/lib/python3.9/site-packages/pandas/_libs/index.pyx:136\u001b[0m, in \u001b[0;36mpandas._libs.index.IndexEngine.get_loc\u001b[0;34m()\u001b[0m\n",
      "File \u001b[0;32m~/miniconda3/envs/data/lib/python3.9/site-packages/pandas/_libs/index.pyx:163\u001b[0m, in \u001b[0;36mpandas._libs.index.IndexEngine.get_loc\u001b[0;34m()\u001b[0m\n",
      "File \u001b[0;32mpandas/_libs/hashtable_class_helper.pxi:2131\u001b[0m, in \u001b[0;36mpandas._libs.hashtable.Int64HashTable.get_item\u001b[0;34m()\u001b[0m\n",
      "File \u001b[0;32mpandas/_libs/hashtable_class_helper.pxi:2140\u001b[0m, in \u001b[0;36mpandas._libs.hashtable.Int64HashTable.get_item\u001b[0;34m()\u001b[0m\n",
      "\u001b[0;31mKeyError\u001b[0m: 70",
      "\nThe above exception was the direct cause of the following exception:\n",
      "\u001b[0;31mKeyError\u001b[0m                                  Traceback (most recent call last)",
      "\u001b[1;32m/home/jose/Documents/data/datamining-frt/dataset_boston/data_boston.ipynb Cell 86\u001b[0m in \u001b[0;36m<cell line: 21>\u001b[0;34m()\u001b[0m\n\u001b[1;32m     <a href='vscode-notebook-cell:/home/jose/Documents/data/datamining-frt/dataset_boston/data_boston.ipynb#Y254sZmlsZQ%3D%3D?line=16'>17</a>\u001b[0m         plot_lm_3\u001b[39m.\u001b[39maxes[\u001b[39m0\u001b[39m]\u001b[39m.\u001b[39mannotate(i,\n\u001b[1;32m     <a href='vscode-notebook-cell:/home/jose/Documents/data/datamining-frt/dataset_boston/data_boston.ipynb#Y254sZmlsZQ%3D%3D?line=17'>18</a>\u001b[0m                                    xy\u001b[39m=\u001b[39m(fitted_values[i],\n\u001b[1;32m     <a href='vscode-notebook-cell:/home/jose/Documents/data/datamining-frt/dataset_boston/data_boston.ipynb#Y254sZmlsZQ%3D%3D?line=18'>19</a>\u001b[0m                                    lm_resid_norm_abs_sqrt[i]))\n\u001b[1;32m     <a href='vscode-notebook-cell:/home/jose/Documents/data/datamining-frt/dataset_boston/data_boston.ipynb#Y254sZmlsZQ%3D%3D?line=19'>20</a>\u001b[0m     plt\u001b[39m.\u001b[39mshow()\n\u001b[0;32m---> <a href='vscode-notebook-cell:/home/jose/Documents/data/datamining-frt/dataset_boston/data_boston.ipynb#Y254sZmlsZQ%3D%3D?line=20'>21</a>\u001b[0m scale_location()\n",
      "\u001b[1;32m/home/jose/Documents/data/datamining-frt/dataset_boston/data_boston.ipynb Cell 86\u001b[0m in \u001b[0;36mscale_location\u001b[0;34m()\u001b[0m\n\u001b[1;32m     <a href='vscode-notebook-cell:/home/jose/Documents/data/datamining-frt/dataset_boston/data_boston.ipynb#Y254sZmlsZQ%3D%3D?line=14'>15</a>\u001b[0m abs_sq_norm_resid_top_3 \u001b[39m=\u001b[39m abs_sq_norm_resid[:\u001b[39m3\u001b[39m]\n\u001b[1;32m     <a href='vscode-notebook-cell:/home/jose/Documents/data/datamining-frt/dataset_boston/data_boston.ipynb#Y254sZmlsZQ%3D%3D?line=15'>16</a>\u001b[0m \u001b[39mfor\u001b[39;00m i \u001b[39min\u001b[39;00m abs_sq_norm_resid_top_3:\n\u001b[1;32m     <a href='vscode-notebook-cell:/home/jose/Documents/data/datamining-frt/dataset_boston/data_boston.ipynb#Y254sZmlsZQ%3D%3D?line=16'>17</a>\u001b[0m     plot_lm_3\u001b[39m.\u001b[39maxes[\u001b[39m0\u001b[39m]\u001b[39m.\u001b[39mannotate(i,\n\u001b[0;32m---> <a href='vscode-notebook-cell:/home/jose/Documents/data/datamining-frt/dataset_boston/data_boston.ipynb#Y254sZmlsZQ%3D%3D?line=17'>18</a>\u001b[0m                                xy\u001b[39m=\u001b[39m(fitted_values[i],\n\u001b[1;32m     <a href='vscode-notebook-cell:/home/jose/Documents/data/datamining-frt/dataset_boston/data_boston.ipynb#Y254sZmlsZQ%3D%3D?line=18'>19</a>\u001b[0m                                lm_resid_norm_abs_sqrt[i]))\n\u001b[1;32m     <a href='vscode-notebook-cell:/home/jose/Documents/data/datamining-frt/dataset_boston/data_boston.ipynb#Y254sZmlsZQ%3D%3D?line=19'>20</a>\u001b[0m plt\u001b[39m.\u001b[39mshow()\n",
      "File \u001b[0;32m~/miniconda3/envs/data/lib/python3.9/site-packages/pandas/core/series.py:958\u001b[0m, in \u001b[0;36mSeries.__getitem__\u001b[0;34m(self, key)\u001b[0m\n\u001b[1;32m    955\u001b[0m     \u001b[39mreturn\u001b[39;00m \u001b[39mself\u001b[39m\u001b[39m.\u001b[39m_values[key]\n\u001b[1;32m    957\u001b[0m \u001b[39melif\u001b[39;00m key_is_scalar:\n\u001b[0;32m--> 958\u001b[0m     \u001b[39mreturn\u001b[39;00m \u001b[39mself\u001b[39;49m\u001b[39m.\u001b[39;49m_get_value(key)\n\u001b[1;32m    960\u001b[0m \u001b[39mif\u001b[39;00m is_hashable(key):\n\u001b[1;32m    961\u001b[0m     \u001b[39m# Otherwise index.get_value will raise InvalidIndexError\u001b[39;00m\n\u001b[1;32m    962\u001b[0m     \u001b[39mtry\u001b[39;00m:\n\u001b[1;32m    963\u001b[0m         \u001b[39m# For labels that don't resolve as scalars like tuples and frozensets\u001b[39;00m\n",
      "File \u001b[0;32m~/miniconda3/envs/data/lib/python3.9/site-packages/pandas/core/series.py:1069\u001b[0m, in \u001b[0;36mSeries._get_value\u001b[0;34m(self, label, takeable)\u001b[0m\n\u001b[1;32m   1066\u001b[0m     \u001b[39mreturn\u001b[39;00m \u001b[39mself\u001b[39m\u001b[39m.\u001b[39m_values[label]\n\u001b[1;32m   1068\u001b[0m \u001b[39m# Similar to Index.get_value, but we do not fall back to positional\u001b[39;00m\n\u001b[0;32m-> 1069\u001b[0m loc \u001b[39m=\u001b[39m \u001b[39mself\u001b[39;49m\u001b[39m.\u001b[39;49mindex\u001b[39m.\u001b[39;49mget_loc(label)\n\u001b[1;32m   1070\u001b[0m \u001b[39mreturn\u001b[39;00m \u001b[39mself\u001b[39m\u001b[39m.\u001b[39mindex\u001b[39m.\u001b[39m_get_values_for_loc(\u001b[39mself\u001b[39m, loc, label)\n",
      "File \u001b[0;32m~/miniconda3/envs/data/lib/python3.9/site-packages/pandas/core/indexes/base.py:3623\u001b[0m, in \u001b[0;36mIndex.get_loc\u001b[0;34m(self, key, method, tolerance)\u001b[0m\n\u001b[1;32m   3621\u001b[0m     \u001b[39mreturn\u001b[39;00m \u001b[39mself\u001b[39m\u001b[39m.\u001b[39m_engine\u001b[39m.\u001b[39mget_loc(casted_key)\n\u001b[1;32m   3622\u001b[0m \u001b[39mexcept\u001b[39;00m \u001b[39mKeyError\u001b[39;00m \u001b[39mas\u001b[39;00m err:\n\u001b[0;32m-> 3623\u001b[0m     \u001b[39mraise\u001b[39;00m \u001b[39mKeyError\u001b[39;00m(key) \u001b[39mfrom\u001b[39;00m \u001b[39merr\u001b[39;00m\n\u001b[1;32m   3624\u001b[0m \u001b[39mexcept\u001b[39;00m \u001b[39mTypeError\u001b[39;00m:\n\u001b[1;32m   3625\u001b[0m     \u001b[39m# If we have a listlike key, _check_indexing_error will raise\u001b[39;00m\n\u001b[1;32m   3626\u001b[0m     \u001b[39m#  InvalidIndexError. Otherwise we fall through and re-raise\u001b[39;00m\n\u001b[1;32m   3627\u001b[0m     \u001b[39m#  the TypeError.\u001b[39;00m\n\u001b[1;32m   3628\u001b[0m     \u001b[39mself\u001b[39m\u001b[39m.\u001b[39m_check_indexing_error(key)\n",
      "\u001b[0;31mKeyError\u001b[0m: 70"
     ]
    },
    {
     "data": {
      "image/png": "[encoded data removed]",
      "text/plain": [
       "<Figure size 1080x648 with 1 Axes>"
      ]
     },
     "metadata": {},
     "output_type": "display_data"
    }
   ],
   "source": [
    "def scale_location():\n",
    "    plot_lm_3 = plt.figure(figsize=(15,9))\n",
    "    plt.scatter(fitted_values, lm_resid_norm_abs_sqrt, alpha=0.5)\n",
    "    sns.regplot(fitted_values, lm_resid_norm_abs_sqrt,\n",
    "                scatter=False,\n",
    "                ci=False,\n",
    "                lowess=True,\n",
    "                line_kws={'color': 'red', 'lw': 1, 'alpha': 0.8})\n",
    "    plot_lm_3.axes[0].set_title('Scale-Location')\n",
    "    plot_lm_3.axes[0].set_xlabel('Fitted values')\n",
    "    plot_lm_3.axes[0].set_ylabel('$\\sqrt{|Standardized Residuals|}$')\n",
    "\n",
    "    # annotations\n",
    "    abs_sq_norm_resid = np.flip(np.argsort(lm_resid_norm_abs_sqrt), 0)\n",
    "    abs_sq_norm_resid_top_3 = abs_sq_norm_resid[:3]\n",
    "    for i in abs_sq_norm_resid_top_3:\n",
    "        plot_lm_3.axes[0].annotate(i,\n",
    "                                   xy=(fitted_values[i],\n",
    "                                   lm_resid_norm_abs_sqrt[i]))\n",
    "    plt.show()\n",
    "scale_location()"
   ]
  }
 ],
 "metadata": {
  "kernelspec": {
   "display_name": "Python 3.9.12 ('data')",
   "language": "python",
   "name": "python3"
  },
  "language_info": {
   "codemirror_mode": {
    "name": "ipython",
    "version": 3
   },
   "file_extension": ".py",
   "mimetype": "text/x-python",
   "name": "python",
   "nbconvert_exporter": "python",
   "pygments_lexer": "ipython3",
   "version": "3.9.12"
  },
  "vscode": {
   "interpreter": {
    "hash": "1aaa0bdda807c52ed37eb39b89bdbda78306049bbdf99765aeee204729598f73"
   }
  }
 },
 "nbformat": 4,
 "nbformat_minor": 0
}
