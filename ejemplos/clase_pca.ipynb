{
 "cells": [
  {
   "cell_type": "code",
   "execution_count": 1,
   "metadata": {
    "collapsed": true,
    "pycharm": {
     "name": "#%%\n"
    }
   },
   "outputs": [],
   "source": [
    "import numpy as np\n",
    "import pandas as pd\n",
    "from sklearn.preprocessing import StandardScaler\n",
    "from sklearn.decomposition import PCA\n",
    "import matplotlib.pyplot as plt\n",
    "import load_file"
   ]
  },
  {
   "cell_type": "code",
   "execution_count": 2,
   "outputs": [],
   "source": [
    "## Cargar los magics\n",
    "%matplotlib inline\n",
    "%load_ext autoreload\n",
    "%autoreload 2"
   ],
   "metadata": {
    "collapsed": false,
    "pycharm": {
     "name": "#%%\n"
    }
   }
  },
  {
   "cell_type": "markdown",
   "source": [
    "## Abrir Dataset\n",
    "Utilizar un url UCI para tal fin. Para este ejemplo utilizaremos el dataset Iris"
   ],
   "metadata": {
    "collapsed": false,
    "pycharm": {
     "name": "#%% md\n"
    }
   }
  },
  {
   "cell_type": "code",
   "execution_count": 2,
   "outputs": [],
   "source": [
    "#url = \"https://archive.ics.uci.edu/ml/machine-learning-databases/iris/iris.data\"\n",
    "#df = pd.read_csv(url, names=['sepal length', 'sepal width', 'petal length','petal width', 'target'])\n",
    "df = load_file.open_file()"
   ],
   "metadata": {
    "collapsed": false,
    "pycharm": {
     "name": "#%%\n"
    }
   }
  },
  {
   "cell_type": "code",
   "execution_count": 18,
   "outputs": [
    {
     "data": {
      "text/plain": "   sepal length  sepal width  petal length  petal width       target\n0           5.1          3.5           1.4          0.2  Iris-setosa\n1           4.9          3.0           1.4          0.2  Iris-setosa\n2           4.7          3.2           1.3          0.2  Iris-setosa\n3           4.6          3.1           1.5          0.2  Iris-setosa\n4           5.0          3.6           1.4          0.2  Iris-setosa",
      "text/html": "<div>\n<style scoped>\n    .dataframe tbody tr th:only-of-type {\n        vertical-align: middle;\n    }\n\n    .dataframe tbody tr th {\n        vertical-align: top;\n    }\n\n    .dataframe thead th {\n        text-align: right;\n    }\n</style>\n<table border=\"1\" class=\"dataframe\">\n  <thead>\n    <tr style=\"text-align: right;\">\n      <th></th>\n      <th>sepal length</th>\n      <th>sepal width</th>\n      <th>petal length</th>\n      <th>petal width</th>\n      <th>target</th>\n    </tr>\n  </thead>\n  <tbody>\n    <tr>\n      <th>0</th>\n      <td>5.1</td>\n      <td>3.5</td>\n      <td>1.4</td>\n      <td>0.2</td>\n      <td>Iris-setosa</td>\n    </tr>\n    <tr>\n      <th>1</th>\n      <td>4.9</td>\n      <td>3.0</td>\n      <td>1.4</td>\n      <td>0.2</td>\n      <td>Iris-setosa</td>\n    </tr>\n    <tr>\n      <th>2</th>\n      <td>4.7</td>\n      <td>3.2</td>\n      <td>1.3</td>\n      <td>0.2</td>\n      <td>Iris-setosa</td>\n    </tr>\n    <tr>\n      <th>3</th>\n      <td>4.6</td>\n      <td>3.1</td>\n      <td>1.5</td>\n      <td>0.2</td>\n      <td>Iris-setosa</td>\n    </tr>\n    <tr>\n      <th>4</th>\n      <td>5.0</td>\n      <td>3.6</td>\n      <td>1.4</td>\n      <td>0.2</td>\n      <td>Iris-setosa</td>\n    </tr>\n  </tbody>\n</table>\n</div>"
     },
     "execution_count": 18,
     "metadata": {},
     "output_type": "execute_result"
    }
   ],
   "source": [
    "df.head()"
   ],
   "metadata": {
    "collapsed": false,
    "pycharm": {
     "name": "#%%\n"
    }
   }
  },
  {
   "cell_type": "markdown",
   "source": [
    "## Explorar el dataset"
   ],
   "metadata": {
    "collapsed": false,
    "pycharm": {
     "name": "#%% md\n"
    }
   }
  },
  {
   "cell_type": "code",
   "execution_count": 19,
   "outputs": [
    {
     "name": "stdout",
     "output_type": "stream",
     "text": [
      "<class 'pandas.core.frame.DataFrame'>\n",
      "RangeIndex: 150 entries, 0 to 149\n",
      "Data columns (total 5 columns):\n",
      " #   Column        Non-Null Count  Dtype  \n",
      "---  ------        --------------  -----  \n",
      " 0   sepal length  150 non-null    float64\n",
      " 1   sepal width   150 non-null    float64\n",
      " 2   petal length  150 non-null    float64\n",
      " 3   petal width   150 non-null    float64\n",
      " 4   target        150 non-null    object \n",
      "dtypes: float64(4), object(1)\n",
      "memory usage: 6.0+ KB\n"
     ]
    }
   ],
   "source": [
    "df.info()"
   ],
   "metadata": {
    "collapsed": false,
    "pycharm": {
     "name": "#%%\n"
    }
   }
  },
  {
   "cell_type": "code",
   "execution_count": 20,
   "outputs": [
    {
     "data": {
      "text/plain": "       sepal length  sepal width  petal length  petal width\ncount    150.000000   150.000000    150.000000   150.000000\nmean       5.843333     3.054000      3.758667     1.198667\nstd        0.828066     0.433594      1.764420     0.763161\nmin        4.300000     2.000000      1.000000     0.100000\n25%        5.100000     2.800000      1.600000     0.300000\n50%        5.800000     3.000000      4.350000     1.300000\n75%        6.400000     3.300000      5.100000     1.800000\nmax        7.900000     4.400000      6.900000     2.500000",
      "text/html": "<div>\n<style scoped>\n    .dataframe tbody tr th:only-of-type {\n        vertical-align: middle;\n    }\n\n    .dataframe tbody tr th {\n        vertical-align: top;\n    }\n\n    .dataframe thead th {\n        text-align: right;\n    }\n</style>\n<table border=\"1\" class=\"dataframe\">\n  <thead>\n    <tr style=\"text-align: right;\">\n      <th></th>\n      <th>sepal length</th>\n      <th>sepal width</th>\n      <th>petal length</th>\n      <th>petal width</th>\n    </tr>\n  </thead>\n  <tbody>\n    <tr>\n      <th>count</th>\n      <td>150.000000</td>\n      <td>150.000000</td>\n      <td>150.000000</td>\n      <td>150.000000</td>\n    </tr>\n    <tr>\n      <th>mean</th>\n      <td>5.843333</td>\n      <td>3.054000</td>\n      <td>3.758667</td>\n      <td>1.198667</td>\n    </tr>\n    <tr>\n      <th>std</th>\n      <td>0.828066</td>\n      <td>0.433594</td>\n      <td>1.764420</td>\n      <td>0.763161</td>\n    </tr>\n    <tr>\n      <th>min</th>\n      <td>4.300000</td>\n      <td>2.000000</td>\n      <td>1.000000</td>\n      <td>0.100000</td>\n    </tr>\n    <tr>\n      <th>25%</th>\n      <td>5.100000</td>\n      <td>2.800000</td>\n      <td>1.600000</td>\n      <td>0.300000</td>\n    </tr>\n    <tr>\n      <th>50%</th>\n      <td>5.800000</td>\n      <td>3.000000</td>\n      <td>4.350000</td>\n      <td>1.300000</td>\n    </tr>\n    <tr>\n      <th>75%</th>\n      <td>6.400000</td>\n      <td>3.300000</td>\n      <td>5.100000</td>\n      <td>1.800000</td>\n    </tr>\n    <tr>\n      <th>max</th>\n      <td>7.900000</td>\n      <td>4.400000</td>\n      <td>6.900000</td>\n      <td>2.500000</td>\n    </tr>\n  </tbody>\n</table>\n</div>"
     },
     "execution_count": 20,
     "metadata": {},
     "output_type": "execute_result"
    }
   ],
   "source": [
    "df.describe()"
   ],
   "metadata": {
    "collapsed": false,
    "pycharm": {
     "name": "#%%\n"
    }
   }
  },
  {
   "cell_type": "code",
   "execution_count": 21,
   "outputs": [
    {
     "data": {
      "text/plain": "              count unique          top freq      mean       std  min  25%  \\\nsepal length  150.0    NaN          NaN  NaN  5.843333  0.828066  4.3  5.1   \nsepal width   150.0    NaN          NaN  NaN     3.054  0.433594  2.0  2.8   \npetal length  150.0    NaN          NaN  NaN  3.758667   1.76442  1.0  1.6   \npetal width   150.0    NaN          NaN  NaN  1.198667  0.763161  0.1  0.3   \ntarget          150      3  Iris-setosa   50       NaN       NaN  NaN  NaN   \n\n               50%  75%  max  \nsepal length   5.8  6.4  7.9  \nsepal width    3.0  3.3  4.4  \npetal length  4.35  5.1  6.9  \npetal width    1.3  1.8  2.5  \ntarget         NaN  NaN  NaN  ",
      "text/html": "<div>\n<style scoped>\n    .dataframe tbody tr th:only-of-type {\n        vertical-align: middle;\n    }\n\n    .dataframe tbody tr th {\n        vertical-align: top;\n    }\n\n    .dataframe thead th {\n        text-align: right;\n    }\n</style>\n<table border=\"1\" class=\"dataframe\">\n  <thead>\n    <tr style=\"text-align: right;\">\n      <th></th>\n      <th>count</th>\n      <th>unique</th>\n      <th>top</th>\n      <th>freq</th>\n      <th>mean</th>\n      <th>std</th>\n      <th>min</th>\n      <th>25%</th>\n      <th>50%</th>\n      <th>75%</th>\n      <th>max</th>\n    </tr>\n  </thead>\n  <tbody>\n    <tr>\n      <th>sepal length</th>\n      <td>150.0</td>\n      <td>NaN</td>\n      <td>NaN</td>\n      <td>NaN</td>\n      <td>5.843333</td>\n      <td>0.828066</td>\n      <td>4.3</td>\n      <td>5.1</td>\n      <td>5.8</td>\n      <td>6.4</td>\n      <td>7.9</td>\n    </tr>\n    <tr>\n      <th>sepal width</th>\n      <td>150.0</td>\n      <td>NaN</td>\n      <td>NaN</td>\n      <td>NaN</td>\n      <td>3.054</td>\n      <td>0.433594</td>\n      <td>2.0</td>\n      <td>2.8</td>\n      <td>3.0</td>\n      <td>3.3</td>\n      <td>4.4</td>\n    </tr>\n    <tr>\n      <th>petal length</th>\n      <td>150.0</td>\n      <td>NaN</td>\n      <td>NaN</td>\n      <td>NaN</td>\n      <td>3.758667</td>\n      <td>1.76442</td>\n      <td>1.0</td>\n      <td>1.6</td>\n      <td>4.35</td>\n      <td>5.1</td>\n      <td>6.9</td>\n    </tr>\n    <tr>\n      <th>petal width</th>\n      <td>150.0</td>\n      <td>NaN</td>\n      <td>NaN</td>\n      <td>NaN</td>\n      <td>1.198667</td>\n      <td>0.763161</td>\n      <td>0.1</td>\n      <td>0.3</td>\n      <td>1.3</td>\n      <td>1.8</td>\n      <td>2.5</td>\n    </tr>\n    <tr>\n      <th>target</th>\n      <td>150</td>\n      <td>3</td>\n      <td>Iris-setosa</td>\n      <td>50</td>\n      <td>NaN</td>\n      <td>NaN</td>\n      <td>NaN</td>\n      <td>NaN</td>\n      <td>NaN</td>\n      <td>NaN</td>\n      <td>NaN</td>\n    </tr>\n  </tbody>\n</table>\n</div>"
     },
     "execution_count": 21,
     "metadata": {},
     "output_type": "execute_result"
    }
   ],
   "source": [
    "df.describe(include='all').T"
   ],
   "metadata": {
    "collapsed": false,
    "pycharm": {
     "name": "#%%\n"
    }
   }
  },
  {
   "cell_type": "code",
   "execution_count": 8,
   "outputs": [],
   "source": [
    "features = ['sepal length', 'sepal width', 'petal length','petal width']\n",
    "\n",
    "x = df.loc[:,features].values\n",
    "\n",
    "y = df.loc[:,['target']].values\n",
    "\n",
    "## PCA necesita que los valores del dataset estén escalados\n",
    "x = StandardScaler().fit_transform(x)"
   ],
   "metadata": {
    "collapsed": false,
    "pycharm": {
     "name": "#%%\n"
    }
   }
  },
  {
   "cell_type": "code",
   "execution_count": 9,
   "outputs": [
    {
     "data": {
      "text/plain": "   sepal length  sepal width  petal length  petal width\n0     -0.900681     1.032057     -1.341272    -1.312977\n1     -1.143017    -0.124958     -1.341272    -1.312977\n2     -1.385353     0.337848     -1.398138    -1.312977\n3     -1.506521     0.106445     -1.284407    -1.312977\n4     -1.021849     1.263460     -1.341272    -1.312977",
      "text/html": "<div>\n<style scoped>\n    .dataframe tbody tr th:only-of-type {\n        vertical-align: middle;\n    }\n\n    .dataframe tbody tr th {\n        vertical-align: top;\n    }\n\n    .dataframe thead th {\n        text-align: right;\n    }\n</style>\n<table border=\"1\" class=\"dataframe\">\n  <thead>\n    <tr style=\"text-align: right;\">\n      <th></th>\n      <th>sepal length</th>\n      <th>sepal width</th>\n      <th>petal length</th>\n      <th>petal width</th>\n    </tr>\n  </thead>\n  <tbody>\n    <tr>\n      <th>0</th>\n      <td>-0.900681</td>\n      <td>1.032057</td>\n      <td>-1.341272</td>\n      <td>-1.312977</td>\n    </tr>\n    <tr>\n      <th>1</th>\n      <td>-1.143017</td>\n      <td>-0.124958</td>\n      <td>-1.341272</td>\n      <td>-1.312977</td>\n    </tr>\n    <tr>\n      <th>2</th>\n      <td>-1.385353</td>\n      <td>0.337848</td>\n      <td>-1.398138</td>\n      <td>-1.312977</td>\n    </tr>\n    <tr>\n      <th>3</th>\n      <td>-1.506521</td>\n      <td>0.106445</td>\n      <td>-1.284407</td>\n      <td>-1.312977</td>\n    </tr>\n    <tr>\n      <th>4</th>\n      <td>-1.021849</td>\n      <td>1.263460</td>\n      <td>-1.341272</td>\n      <td>-1.312977</td>\n    </tr>\n  </tbody>\n</table>\n</div>"
     },
     "execution_count": 9,
     "metadata": {},
     "output_type": "execute_result"
    }
   ],
   "source": [
    "x = pd.DataFrame(x, columns=features)\n",
    "x.head()"
   ],
   "metadata": {
    "collapsed": false,
    "pycharm": {
     "name": "#%%\n"
    }
   }
  },
  {
   "cell_type": "markdown",
   "source": [
    "## Aplicar el modelo\n",
    "Para este caso, utilizaremos PCA para reducción de dimensionalidad. Si bien el problema da buenos resultados con n_components = 2, utilizaremos 4 componenetes para poder observar como los dos primeros capturan la mayor variabilidad."
   ],
   "metadata": {
    "collapsed": false,
    "pycharm": {
     "name": "#%% md\n"
    }
   }
  },
  {
   "cell_type": "code",
   "execution_count": 10,
   "outputs": [],
   "source": [
    "##  Instanciamos PCA con 4 componentes\n",
    "pca = PCA(n_components=4)\n",
    "\n",
    "## Ajustamos el modelo\n",
    "principalComponents = pca.fit_transform(x)\n",
    "\n",
    "df_pca = pd.DataFrame(data= principalComponents, columns=['PC1', 'PC2','PC3','PC4'])"
   ],
   "metadata": {
    "collapsed": false,
    "pycharm": {
     "name": "#%%\n"
    }
   }
  },
  {
   "cell_type": "code",
   "execution_count": 13,
   "outputs": [
    {
     "data": {
      "text/plain": "        PC1       PC2       PC3       PC4\n0 -2.264542  0.505704 -0.121943 -0.023073\n1 -2.086426 -0.655405 -0.227251 -0.103208\n2 -2.367950 -0.318477  0.051480 -0.027825\n3 -2.304197 -0.575368  0.098860  0.066311\n4 -2.388777  0.674767  0.021428  0.037397",
      "text/html": "<div>\n<style scoped>\n    .dataframe tbody tr th:only-of-type {\n        vertical-align: middle;\n    }\n\n    .dataframe tbody tr th {\n        vertical-align: top;\n    }\n\n    .dataframe thead th {\n        text-align: right;\n    }\n</style>\n<table border=\"1\" class=\"dataframe\">\n  <thead>\n    <tr style=\"text-align: right;\">\n      <th></th>\n      <th>PC1</th>\n      <th>PC2</th>\n      <th>PC3</th>\n      <th>PC4</th>\n    </tr>\n  </thead>\n  <tbody>\n    <tr>\n      <th>0</th>\n      <td>-2.264542</td>\n      <td>0.505704</td>\n      <td>-0.121943</td>\n      <td>-0.023073</td>\n    </tr>\n    <tr>\n      <th>1</th>\n      <td>-2.086426</td>\n      <td>-0.655405</td>\n      <td>-0.227251</td>\n      <td>-0.103208</td>\n    </tr>\n    <tr>\n      <th>2</th>\n      <td>-2.367950</td>\n      <td>-0.318477</td>\n      <td>0.051480</td>\n      <td>-0.027825</td>\n    </tr>\n    <tr>\n      <th>3</th>\n      <td>-2.304197</td>\n      <td>-0.575368</td>\n      <td>0.098860</td>\n      <td>0.066311</td>\n    </tr>\n    <tr>\n      <th>4</th>\n      <td>-2.388777</td>\n      <td>0.674767</td>\n      <td>0.021428</td>\n      <td>0.037397</td>\n    </tr>\n  </tbody>\n</table>\n</div>"
     },
     "execution_count": 13,
     "metadata": {},
     "output_type": "execute_result"
    }
   ],
   "source": [
    "df_pca.head()"
   ],
   "metadata": {
    "collapsed": false,
    "pycharm": {
     "name": "#%%\n"
    }
   }
  },
  {
   "cell_type": "code",
   "execution_count": 11,
   "outputs": [],
   "source": [
    "df_pca_final = pd.concat([df_pca, df.target], axis=1)"
   ],
   "metadata": {
    "collapsed": false,
    "pycharm": {
     "name": "#%%\n"
    }
   }
  },
  {
   "cell_type": "code",
   "execution_count": 12,
   "outputs": [
    {
     "data": {
      "text/plain": "        PC1       PC2       PC3       PC4       target\n0 -2.264542  0.505704 -0.121943 -0.023073  Iris-setosa\n1 -2.086426 -0.655405 -0.227251 -0.103208  Iris-setosa\n2 -2.367950 -0.318477  0.051480 -0.027825  Iris-setosa\n3 -2.304197 -0.575368  0.098860  0.066311  Iris-setosa\n4 -2.388777  0.674767  0.021428  0.037397  Iris-setosa",
      "text/html": "<div>\n<style scoped>\n    .dataframe tbody tr th:only-of-type {\n        vertical-align: middle;\n    }\n\n    .dataframe tbody tr th {\n        vertical-align: top;\n    }\n\n    .dataframe thead th {\n        text-align: right;\n    }\n</style>\n<table border=\"1\" class=\"dataframe\">\n  <thead>\n    <tr style=\"text-align: right;\">\n      <th></th>\n      <th>PC1</th>\n      <th>PC2</th>\n      <th>PC3</th>\n      <th>PC4</th>\n      <th>target</th>\n    </tr>\n  </thead>\n  <tbody>\n    <tr>\n      <th>0</th>\n      <td>-2.264542</td>\n      <td>0.505704</td>\n      <td>-0.121943</td>\n      <td>-0.023073</td>\n      <td>Iris-setosa</td>\n    </tr>\n    <tr>\n      <th>1</th>\n      <td>-2.086426</td>\n      <td>-0.655405</td>\n      <td>-0.227251</td>\n      <td>-0.103208</td>\n      <td>Iris-setosa</td>\n    </tr>\n    <tr>\n      <th>2</th>\n      <td>-2.367950</td>\n      <td>-0.318477</td>\n      <td>0.051480</td>\n      <td>-0.027825</td>\n      <td>Iris-setosa</td>\n    </tr>\n    <tr>\n      <th>3</th>\n      <td>-2.304197</td>\n      <td>-0.575368</td>\n      <td>0.098860</td>\n      <td>0.066311</td>\n      <td>Iris-setosa</td>\n    </tr>\n    <tr>\n      <th>4</th>\n      <td>-2.388777</td>\n      <td>0.674767</td>\n      <td>0.021428</td>\n      <td>0.037397</td>\n      <td>Iris-setosa</td>\n    </tr>\n  </tbody>\n</table>\n</div>"
     },
     "execution_count": 12,
     "metadata": {},
     "output_type": "execute_result"
    }
   ],
   "source": [
    "df_pca_final.head()"
   ],
   "metadata": {
    "collapsed": false,
    "pycharm": {
     "name": "#%%\n"
    }
   }
  },
  {
   "cell_type": "code",
   "execution_count": 13,
   "outputs": [
    {
     "data": {
      "text/plain": "<Figure size 576x576 with 1 Axes>",
      "image/png": "[encoded data removed]"
     },
     "metadata": {
      "needs_background": "light"
     },
     "output_type": "display_data"
    }
   ],
   "source": [
    "fig = plt.figure(figsize=(8,8))\n",
    "ax = fig.add_subplot(1,1,1)\n",
    "ax.set_xlabel('PC1', fontsize=15)\n",
    "ax.set_ylabel('PC2', fontsize=15)\n",
    "ax.set_title('2 component PCA', fontsize = 20)\n",
    "\n",
    "targets = ['Iris-setosa', 'Iris-versicolor', 'Iris-virginica']\n",
    "colors = ['r','g','b']\n",
    "for target, color in zip(targets, colors):\n",
    "    indicesToKeep = df_pca_final['target'] == target\n",
    "    ax.scatter(df_pca_final.loc[indicesToKeep, 'PC1'],\n",
    "               df_pca_final.loc[indicesToKeep, 'PC2'],\n",
    "               c = color,\n",
    "               s = 50)\n",
    "ax.legend(targets)\n",
    "ax.grid()"
   ],
   "metadata": {
    "collapsed": false,
    "pycharm": {
     "name": "#%%\n"
    }
   }
  },
  {
   "cell_type": "code",
   "execution_count": 17,
   "outputs": [
    {
     "data": {
      "text/plain": "   Varianza\n0  0.727705\n1  0.230305\n2  0.036838\n3  0.005152",
      "text/html": "<div>\n<style scoped>\n    .dataframe tbody tr th:only-of-type {\n        vertical-align: middle;\n    }\n\n    .dataframe tbody tr th {\n        vertical-align: top;\n    }\n\n    .dataframe thead th {\n        text-align: right;\n    }\n</style>\n<table border=\"1\" class=\"dataframe\">\n  <thead>\n    <tr style=\"text-align: right;\">\n      <th></th>\n      <th>Varianza</th>\n    </tr>\n  </thead>\n  <tbody>\n    <tr>\n      <th>0</th>\n      <td>0.727705</td>\n    </tr>\n    <tr>\n      <th>1</th>\n      <td>0.230305</td>\n    </tr>\n    <tr>\n      <th>2</th>\n      <td>0.036838</td>\n    </tr>\n    <tr>\n      <th>3</th>\n      <td>0.005152</td>\n    </tr>\n  </tbody>\n</table>\n</div>"
     },
     "execution_count": 17,
     "metadata": {},
     "output_type": "execute_result"
    }
   ],
   "source": [
    "pd.DataFrame({'Varianza':pca.explained_variance_ratio_})"
   ],
   "metadata": {
    "collapsed": false,
    "pycharm": {
     "name": "#%%\n"
    }
   }
  },
  {
   "cell_type": "code",
   "execution_count": 30,
   "outputs": [
    {
     "data": {
      "text/plain": "<Figure size 1000x600 with 1 Axes>",
      "image/png": "[encoded data removed]"
     },
     "metadata": {},
     "output_type": "display_data"
    }
   ],
   "source": [
    "fig, ax = plt.subplots(figsize=(10,6))\n",
    "ax.bar(x = np.arange(pca.n_components_) + 1,\n",
    "       height=pca.explained_variance_ratio_\n",
    "       )\n",
    "\n",
    "ax.set_ylim(0,1)\n",
    "ax.set_title('Procentaje de la Varianza')\n",
    "ax.set_xlabel('Componente')\n",
    "ax.set_ylabel('Porcentaje de varianza')\n",
    "plt.show()"
   ],
   "metadata": {
    "collapsed": false,
    "pycharm": {
     "name": "#%%\n"
    }
   }
  },
  {
   "cell_type": "code",
   "execution_count": null,
   "outputs": [],
   "source": [],
   "metadata": {
    "collapsed": false,
    "pycharm": {
     "name": "#%%\n"
    }
   }
  },
  {
   "cell_type": "code",
   "execution_count": 19,
   "outputs": [
    {
     "data": {
      "text/plain": "array([0.72770452, 0.95800975, 0.99484807, 1.        ])"
     },
     "execution_count": 19,
     "metadata": {},
     "output_type": "execute_result"
    }
   ],
   "source": [
    "pca.explained_variance_ratio_.cumsum()"
   ],
   "metadata": {
    "collapsed": false,
    "pycharm": {
     "name": "#%%\n"
    }
   }
  },
  {
   "cell_type": "code",
   "execution_count": 53,
   "outputs": [
    {
     "data": {
      "text/plain": "<Figure size 1000x600 with 1 Axes>",
      "image/png": "[encoded data removed]"
     },
     "metadata": {},
     "output_type": "display_data"
    }
   ],
   "source": [
    "fig, ax = plt.subplots(nrows=1, ncols=1, figsize=(10,6))\n",
    "ax.plot( np.arange(len(pca.components_))+ 1 ,\n",
    "        pca.explained_variance_ratio_.cumsum(),\n",
    "        marker = 'o'\n",
    "        )\n",
    "\n",
    "ax.set_ylim(0,1.1)\n",
    "ax.set_title('Varianza Acumulada')\n",
    "ax.set_ylabel('Varianza')\n",
    "ax.set_xlabel('Componente principalsla')\n",
    "plt.show()"
   ],
   "metadata": {
    "collapsed": false,
    "pycharm": {
     "name": "#%%\n"
    }
   }
  },
  {
   "cell_type": "markdown",
   "source": [
    "## PIPELINE"
   ],
   "metadata": {
    "collapsed": false,
    "pycharm": {
     "name": "#%% md\n"
    }
   }
  },
  {
   "cell_type": "code",
   "execution_count": 3,
   "outputs": [],
   "source": [
    "from sklearn.pipeline import Pipeline"
   ],
   "metadata": {
    "collapsed": false,
    "pycharm": {
     "name": "#%%\n"
    }
   }
  },
  {
   "cell_type": "code",
   "execution_count": 91,
   "outputs": [],
   "source": [
    "features = ['sepal length', 'sepal width', 'petal length','petal width']\n",
    "\n",
    "x = df.loc[:,features].values\n",
    "\n",
    "y = df.loc[:,['target']].values"
   ],
   "metadata": {
    "collapsed": false,
    "pycharm": {
     "name": "#%%\n"
    }
   }
  },
  {
   "cell_type": "code",
   "execution_count": 88,
   "outputs": [],
   "source": [
    "def crear_dataframe():\n",
    "    return pd.DataFrame()"
   ],
   "metadata": {
    "collapsed": false,
    "pycharm": {
     "name": "#%%\n"
    }
   }
  },
  {
   "cell_type": "code",
   "execution_count": 89,
   "outputs": [],
   "source": [
    "pipe = Pipeline([\n",
    "    ('pca', PCA(n_components=4)),\n",
    "    ('escalar', StandardScaler())\n",
    "])"
   ],
   "metadata": {
    "collapsed": false,
    "pycharm": {
     "name": "#%%\n"
    }
   }
  },
  {
   "cell_type": "code",
   "execution_count": 90,
   "outputs": [
    {
     "data": {
      "text/plain": "array([[-2.26454173e+00,  5.05703903e-01, -1.21943348e-01,\n        -2.30733235e-02],\n       [-2.08642550e+00, -6.55404729e-01, -2.27250832e-01,\n        -1.03208244e-01],\n       [-2.36795045e+00, -3.18477311e-01,  5.14796236e-02,\n        -2.78252250e-02],\n       [-2.30419716e+00, -5.75367713e-01,  9.88604444e-02,\n         6.63114622e-02],\n       [-2.38877749e+00,  6.74767397e-01,  2.14278490e-02,\n         3.73972870e-02],\n       [-2.07053681e+00,  1.51854856e+00,  3.06842583e-02,\n        -4.39877494e-03],\n       [-2.44571134e+00,  7.45626750e-02,  3.42197636e-01,\n         3.80965668e-02],\n       [-2.23384186e+00,  2.47613932e-01, -8.25744645e-02,\n         2.55051623e-02],\n       [-2.34195768e+00, -1.09514636e+00,  1.53562399e-01,\n         2.67938291e-02],\n       [-2.18867576e+00, -4.48629048e-01, -2.46559522e-01,\n         3.99073035e-02],\n       [-2.16348656e+00,  1.07059558e+00, -2.64009373e-01,\n        -1.53011377e-02],\n       [-2.32737775e+00,  1.58587455e-01,  1.00165616e-01,\n         1.34554258e-01],\n       [-2.22408272e+00, -7.09118158e-01, -2.23214514e-01,\n        -2.63061382e-03],\n       [-2.63971626e+00, -9.38281982e-01,  1.89570030e-01,\n         1.94220183e-02],\n       [-2.19229151e+00,  1.88997851e+00, -4.69480095e-01,\n        -1.92782042e-01],\n       [-2.25146521e+00,  2.72237108e+00,  3.26037967e-02,\n        -4.71257043e-02],\n       [-2.20275048e+00,  1.51375028e+00, -1.36349158e-03,\n        -1.86631581e-01],\n       [-2.19017916e+00,  5.14304308e-01, -3.86155949e-02,\n        -9.19055067e-02],\n       [-1.89407429e+00,  1.43111071e+00, -3.70742834e-01,\n        -5.95280968e-02],\n       [-2.33994907e+00,  1.15803343e+00,  1.37417719e-01,\n         3.98281842e-02],\n       [-1.91455639e+00,  4.30465163e-01, -4.16006875e-01,\n        -1.03602240e-02],\n       [-2.20464540e+00,  9.52457317e-01,  1.64738346e-01,\n        -5.77291622e-02],\n       [-2.77416979e+00,  4.89517027e-01,  3.38836384e-01,\n        -1.78537297e-02],\n       [-1.82041156e+00,  1.06750793e-01,  4.00614724e-02,\n        -1.50345595e-01],\n       [-2.22821750e+00,  1.62186163e-01,  1.24201428e-01,\n         2.71228863e-01],\n       [-1.95702401e+00, -6.07892567e-01, -2.98591029e-01,\n        -4.38372887e-02],\n       [-2.05206331e+00,  2.66014312e-01,  9.20929788e-02,\n        -6.66010028e-02],\n       [-2.16819365e+00,  5.52016495e-01, -2.01295482e-01,\n        -9.26056927e-03],\n       [-2.14030596e+00,  3.36640409e-01, -2.65314545e-01,\n        -8.35439339e-02],\n       [-2.26879019e+00, -3.14878603e-01,  7.55154360e-02,\n         1.08849380e-01],\n       [-2.14455443e+00, -4.83942097e-01, -6.78557607e-02,\n         4.83787691e-02],\n       [-1.83193810e+00,  4.45266836e-01, -2.65375244e-01,\n        -2.39140994e-01],\n       [-2.60820287e+00,  1.82847519e+00,  5.14195182e-02,\n         2.31922593e-01],\n       [-2.43795086e+00,  2.18539162e+00, -7.93497549e-02,\n         5.10210291e-02],\n       [-2.18867576e+00, -4.48629048e-01, -2.46559522e-01,\n         3.99073035e-02],\n       [-2.21111990e+00, -1.84337811e-01, -2.18624528e-01,\n        -1.68619769e-01],\n       [-2.04441652e+00,  6.84956426e-01, -4.79411570e-01,\n        -1.95613314e-01],\n       [-2.18867576e+00, -4.48629048e-01, -2.46559522e-01,\n         3.99073035e-02],\n       [-2.43595220e+00, -8.82169415e-01,  2.01557587e-01,\n         9.96079072e-03],\n       [-2.17054720e+00,  2.92726955e-01, -1.69938536e-01,\n        -6.24028506e-03],\n       [-2.28652724e+00,  4.67991716e-01,  4.07365390e-02,\n        -1.05718261e-01],\n       [-1.87170722e+00, -2.32769161e+00, -1.94528610e-01,\n        -2.91692982e-01],\n       [-2.55783442e+00, -4.53816380e-01,  3.13571838e-01,\n         6.74111170e-02],\n       [-1.96427929e+00,  4.97391640e-01,  3.14755610e-01,\n        -1.75540206e-01],\n       [-2.13337283e+00,  1.17143211e+00,  2.52793222e-01,\n         1.53228807e-01],\n       [-2.07535759e+00, -6.91917347e-01, -5.65590082e-02,\n        -1.40294980e-01],\n       [-2.38125822e+00,  1.15063259e+00,  6.21019035e-02,\n         1.54218569e-01],\n       [-2.39819169e+00, -3.62390765e-01,  1.46855632e-01,\n         4.94784238e-02],\n       [-2.22678121e+00,  1.02548255e+00, -1.76645302e-01,\n         1.64443096e-02],\n       [-2.20595417e+00,  3.22378453e-02, -1.46593527e-01,\n        -4.87782024e-02],\n       [ 1.10399365e+00,  8.63112446e-01, -6.85555108e-01,\n        -3.49778613e-02],\n       [ 7.32481440e-01,  5.98635573e-01, -9.40668020e-02,\n        -4.45376367e-03],\n       [ 1.24210951e+00,  6.14822450e-01, -5.54846534e-01,\n        -9.67335738e-03],\n       [ 3.97307283e-01, -1.75816895e+00, -1.85694824e-02,\n        -6.73978468e-02],\n       [ 1.07259395e+00, -2.11757903e-01, -3.97447438e-01,\n        -1.05541662e-01],\n       [ 3.84458146e-01, -5.91062469e-01,  1.26797690e-01,\n         2.40528082e-01],\n       [ 7.48715076e-01,  7.78698611e-01,  1.48656023e-01,\n         7.83010665e-02],\n       [-4.97863388e-01, -1.84886877e+00,  2.55555250e-01,\n         3.93891395e-02],\n       [ 9.26222368e-01,  3.03308268e-02, -5.95459889e-01,\n         2.91024204e-02],\n       [ 4.96802558e-03, -1.02940111e+00,  5.42867049e-01,\n         2.83487629e-02],\n       [-1.24697461e-01, -2.65806268e+00, -3.98134482e-02,\n        -1.61405573e-02],\n       [ 4.38730118e-01, -5.88812850e-02,  2.06703491e-01,\n        -3.98514578e-02],\n       [ 5.51633981e-01, -1.77258156e+00, -7.61380223e-01,\n        -4.83536968e-02],\n       [ 7.17165066e-01, -1.85434315e-01, -6.72998424e-02,\n         1.64555675e-01],\n       [-3.72583830e-02, -4.32795099e-01,  1.98061449e-01,\n        -1.09025121e-01],\n       [ 8.75890536e-01,  5.09998151e-01, -5.03505832e-01,\n        -1.05141287e-01],\n       [ 3.48006402e-01, -1.90621647e-01,  4.92831518e-01,\n         1.92059489e-01],\n       [ 1.53392545e-01, -7.90725456e-01, -2.98604516e-01,\n         2.04321215e-01],\n       [ 1.21530321e+00, -1.63335564e+00, -4.79409914e-01,\n        -2.28214500e-01],\n       [ 1.56941176e-01, -1.30310327e+00, -1.68586746e-01,\n         5.04131971e-02],\n       [ 7.38256104e-01,  4.02470382e-01,  6.16772626e-01,\n         8.44515277e-02],\n       [ 4.72369682e-01, -4.16608222e-01, -2.62718283e-01,\n        -1.14244715e-01],\n       [ 1.22798821e+00, -9.40914793e-01, -3.66704859e-01,\n         8.44834785e-03],\n       [ 6.29381045e-01, -4.16811643e-01, -2.89962474e-01,\n         2.73494879e-01],\n       [ 7.00472799e-01, -6.34939277e-02, -4.44767559e-01,\n        -4.40812895e-02],\n       [ 8.73536987e-01,  2.50708611e-01, -4.72148886e-01,\n        -1.02121003e-01],\n       [ 1.25422219e+00, -8.26200998e-02, -7.26843529e-01,\n        -4.08294177e-02],\n       [ 1.35823985e+00,  3.28820266e-01, -2.61458074e-01,\n        -6.70137909e-02],\n       [ 6.62126138e-01, -2.24346071e-01,  8.73681069e-02,\n         3.63525363e-02],\n       [-4.72815133e-02, -1.05721241e+00, -3.15319195e-01,\n        -6.60077099e-02],\n       [ 1.21534209e-01, -1.56359238e+00, -1.45241738e-01,\n         7.87527979e-03],\n       [ 1.41182261e-02, -1.57339235e+00, -2.36581428e-01,\n         3.11492615e-02],\n       [ 2.36010837e-01, -7.75923784e-01, -1.47972885e-01,\n        -2.44595546e-02],\n       [ 1.05669143e+00, -6.36901284e-01,  1.06753234e-01,\n         1.83419236e-01],\n       [ 2.21417088e-01, -2.80847693e-01,  6.67559660e-01,\n         2.55550383e-01],\n       [ 4.31783161e-01,  8.55136920e-01,  4.50731487e-01,\n         1.11146169e-01],\n       [ 1.04941336e+00,  5.22197265e-01, -3.96142266e-01,\n        -3.72988658e-02],\n       [ 1.03587821e+00, -1.39246648e+00, -6.85434303e-01,\n        -1.39128619e-01],\n       [ 6.70675999e-02, -2.12620735e-01,  2.94128262e-01,\n         1.47491049e-01],\n       [ 2.75425066e-01, -1.32981591e+00,  9.34447685e-02,\n        -9.94752060e-03],\n       [ 2.72335066e-01, -1.11944152e+00,  9.81718909e-02,\n         2.69842632e-01],\n       [ 6.23170540e-01,  2.75426333e-02, -1.93046544e-02,\n         1.47722637e-01],\n       [ 3.30005364e-01, -9.88900732e-01, -1.95968073e-01,\n        -7.62651620e-03],\n       [-3.73627623e-01, -2.01793227e+00,  1.12184053e-01,\n        -2.10814710e-02],\n       [ 2.82944343e-01, -8.53950717e-01,  1.34118823e-01,\n         1.06873761e-01],\n       [ 8.90531103e-02, -1.74908548e-01,  1.31448375e-01,\n         2.30135987e-01],\n       [ 2.24356783e-01, -3.80484659e-01,  1.58769003e-01,\n         1.32578640e-01],\n       [ 5.73883486e-01, -1.53719974e-01, -2.70039416e-01,\n         1.94096051e-02],\n       [-4.57012873e-01, -1.53946451e+00,  1.96126173e-01,\n        -2.00883380e-01],\n       [ 2.52244473e-01, -5.95860746e-01,  9.47499397e-02,\n         5.82952756e-02],\n       [ 1.84767259e+00,  8.71696662e-01,  1.00276099e+00,\n         5.10680368e-02],\n       [ 1.15318981e+00, -7.01326114e-01,  5.31464635e-01,\n         4.04135807e-02],\n       [ 2.20634950e+00,  5.54470105e-01, -2.05495910e-01,\n        -5.93004996e-02],\n       [ 1.43868540e+00, -5.00105223e-02,  1.63390464e-01,\n         2.35759861e-01],\n       [ 1.86789070e+00,  2.91192802e-01,  3.94004333e-01,\n         1.67817996e-02],\n       [ 2.75419671e+00,  7.88432206e-01, -5.86232704e-01,\n         1.00879674e-01],\n       [ 3.58374475e-01, -1.56009458e+00,  9.90999895e-01,\n         1.32987438e-01],\n       [ 2.30300590e+00,  4.09516695e-01, -6.54166687e-01,\n         2.37212798e-01],\n       [ 2.00173530e+00, -7.23865359e-01, -3.94070448e-01,\n         8.49938224e-02],\n       [ 2.26755460e+00,  1.92144299e+00,  3.92517658e-01,\n        -1.02907298e-01],\n       [ 1.36590943e+00,  6.93948040e-01,  2.83279516e-01,\n        -1.07010918e-01],\n       [ 1.59906459e+00, -4.28248836e-01,  2.33040821e-02,\n        -5.89427002e-02],\n       [ 1.88425185e+00,  4.14332758e-01,  2.45485540e-02,\n        -1.46296964e-01],\n       [ 1.25308651e+00, -1.16739134e+00,  5.82130271e-01,\n        -9.96816830e-02],\n       [ 1.46406152e+00, -4.44147569e-01,  1.00411052e+00,\n        -2.75022173e-01],\n       [ 1.59180930e+00,  6.77035372e-01,  6.36650721e-01,\n        -1.90645618e-01],\n       [ 1.47128019e+00,  2.53192472e-01,  3.66575092e-02,\n         1.55435928e-01],\n       [ 2.43737848e+00,  2.55675734e+00, -1.34200082e-01,\n         2.75661550e-01],\n       [ 3.30914118e+00, -2.36132010e-03, -7.06933959e-01,\n        -4.67561875e-02],\n       [ 1.25398099e+00, -1.71758384e+00, -2.64622084e-01,\n         6.30674020e-02],\n       [ 2.04049626e+00,  9.07398765e-01,  2.31878114e-01,\n        -1.67140048e-01],\n       [ 9.73915114e-01, -5.71174376e-01,  8.29503781e-01,\n        -2.73189478e-02],\n       [ 2.89806444e+00,  3.97791359e-01, -8.60926842e-01,\n         1.26074286e-01],\n       [ 1.32919369e+00, -4.86760542e-01, -4.70734933e-03,\n        -1.40597876e-01],\n       [ 1.70424071e+00,  1.01414842e+00,  2.95957877e-01,\n         6.27403760e-02],\n       [ 1.95772766e+00,  1.00333452e+00, -4.22817052e-01,\n         2.18459131e-01],\n       [ 1.17190451e+00, -3.18896617e-01,  1.30651910e-01,\n        -1.25685467e-01],\n       [ 1.01978105e+00,  6.55429631e-02,  3.38042170e-01,\n         9.06850833e-03],\n       [ 1.78600886e+00, -1.93272800e-01,  2.70002526e-01,\n        -3.12072991e-02],\n       [ 1.86477791e+00,  5.55381532e-01, -7.17510683e-01,\n         2.07556768e-01],\n       [ 2.43549739e+00,  2.46654468e-01, -7.30234006e-01,\n         1.67936017e-02],\n       [ 2.31608241e+00,  2.62618387e+00, -4.99619543e-01,\n         2.13160418e-01],\n       [ 1.86037143e+00, -1.84672394e-01,  3.53330279e-01,\n        -1.00039482e-01],\n       [ 1.11127173e+00, -2.95986102e-01, -1.82659608e-01,\n         1.85740240e-01],\n       [ 1.19746916e+00, -8.17167742e-01, -1.63213782e-01,\n         4.88404000e-01],\n       [ 2.80094940e+00,  8.44748194e-01, -5.47000957e-01,\n        -2.96321147e-01],\n       [ 1.58015525e+00,  1.07247450e+00,  9.43392608e-01,\n        -3.36074229e-02],\n       [ 1.34704442e+00,  4.22255966e-01,  1.80028706e-01,\n         2.15906539e-01],\n       [ 9.23432978e-01,  1.92303705e-02,  4.17394303e-01,\n        -4.74424586e-03],\n       [ 1.85355198e+00,  6.72422729e-01, -1.48203294e-02,\n        -1.94875449e-01],\n       [ 2.01615720e+00,  6.10397038e-01,  4.25914947e-01,\n        -2.46764702e-01],\n       [ 1.90311686e+00,  6.86024832e-01,  1.27799364e-01,\n        -4.69214421e-01],\n       [ 1.15318981e+00, -7.01326114e-01,  5.31464635e-01,\n         4.04135807e-02],\n       [ 2.04330844e+00,  8.64684880e-01,  3.35266061e-01,\n        -4.42781979e-02],\n       [ 2.00169097e+00,  1.04855005e+00,  6.29268888e-01,\n        -2.12588357e-01],\n       [ 1.87052207e+00,  3.82821838e-01,  2.54532319e-01,\n        -3.88890487e-01],\n       [ 1.55849189e+00, -9.05313601e-01, -2.53819099e-02,\n        -2.21322184e-01],\n       [ 1.52084506e+00,  2.66794575e-01,  1.79277203e-01,\n        -1.18903043e-01],\n       [ 1.37639119e+00,  1.01636193e+00,  9.31405052e-01,\n        -2.41461953e-02],\n       [ 9.59298576e-01, -2.22839447e-02,  5.28794187e-01,\n         1.63675806e-01]])"
     },
     "execution_count": 90,
     "metadata": {},
     "output_type": "execute_result"
    }
   ],
   "source": [
    "pd.DataFrame(pipe.fit_transform(x))"
   ],
   "metadata": {
    "collapsed": false,
    "pycharm": {
     "name": "#%%\n"
    }
   }
  }
 ],
 "metadata": {
  "kernelspec": {
   "display_name": "Python 3",
   "language": "python",
   "name": "python3"
  },
  "language_info": {
   "codemirror_mode": {
    "name": "ipython",
    "version": 2
   },
   "file_extension": ".py",
   "mimetype": "text/x-python",
   "name": "python",
   "nbconvert_exporter": "python",
   "pygments_lexer": "ipython2",
   "version": "2.7.6"
  }
 },
 "nbformat": 4,
 "nbformat_minor": 0
}