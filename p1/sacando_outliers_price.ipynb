{
 "cells": [
  {
   "cell_type": "code",
   "execution_count": 111,
   "metadata": {
    "collapsed": true,
    "pycharm": {
     "name": "#%%\n"
    }
   },
   "outputs": [],
   "source": [
    "import pandas as pd\n",
    "import numpy as np\n",
    "import statsmodels.api as sm\n",
    "from sklearn.preprocessing import MinMaxScaler, OneHotEncoder, PowerTransformer, QuantileTransformer, StandardScaler\n",
    "from sklearn.linear_model import LinearRegression, LassoCV\n",
    "from sklearn.feature_selection import RFECV, RFE, SelectKBest, f_regression\n",
    "from sklearn.model_selection import train_test_split, KFold\n",
    "from sklearn.metrics import mean_squared_error\n",
    "import seaborn as sns\n",
    "from matplotlib import pyplot as plt\n",
    "import math\n",
    "import mlflow\n",
    "from mlflow.models.signature import infer_signature"
   ]
  },
  {
   "cell_type": "code",
   "execution_count": 112,
   "outputs": [],
   "source": [
    "one_hot_encoder = OneHotEncoder(handle_unknown='ignore')\n",
    "min_max_scaler = MinMaxScaler()\n",
    "standar_scaler = StandardScaler()\n",
    "bc = PowerTransformer(method=\"box-cox\")\n",
    "yj = PowerTransformer(method=\"yeo-johnson\")\n",
    "rng = np.random.RandomState(304)\n",
    "qt = QuantileTransformer(n_quantiles=500, output_distribution=\"normal\", random_state=rng)"
   ],
   "metadata": {
    "collapsed": false,
    "pycharm": {
     "name": "#%%\n"
    }
   }
  },
  {
   "cell_type": "code",
   "execution_count": 113,
   "outputs": [],
   "source": [
    "def graficar_info_variable(variable, b=8):\n",
    "    _, axes = plt.subplots(1, 3, figsize=(15, 5))\n",
    "    sns.histplot(data=variable, bins=b ,ax=axes[0])\n",
    "    sns.boxplot(data=variable, ax=axes[1])\n",
    "    sns.violinplot(data=variable, ax=axes[2])\n",
    "\n",
    "def porcentaje_outliers(data):\n",
    "    Q1 = data.quantile(0.25)\n",
    "    Q3 = data.quantile(0.75)\n",
    "    IQR = Q3 - Q1\n",
    "    BI = Q1 - 1.5*IQR\n",
    "    BS = Q3 + 1.5*IQR\n",
    "    out = ((data < BI) | (data > BS))\n",
    "    print(\"Porcentaje de outliers: \", 100*out.sum()/out.count())\n",
    "\n",
    "def quitar_outliers(data, df_feature):\n",
    "    Q1 = df_feature.quantile(0.25)\n",
    "    Q3 = df_feature.quantile(0.75)\n",
    "    IQR = Q3 - Q1\n",
    "    BI = Q1 - 1.5*IQR\n",
    "    BS = Q3 + 1.5*IQR\n",
    "    out = ((df_feature > BI) & (df_feature < BS))\n",
    "    data = data.loc[out]\n",
    "    return data"
   ],
   "metadata": {
    "collapsed": false,
    "pycharm": {
     "name": "#%%\n"
    }
   }
  },
  {
   "cell_type": "code",
   "execution_count": 114,
   "outputs": [
    {
     "data": {
      "text/plain": "   Id                                           Model  Price  Age_08_04  \\\n0   1   TOYOTA Corolla 2.0 D4D HATCHB TERRA 2/3-Doors  13500         23   \n1   2   TOYOTA Corolla 2.0 D4D HATCHB TERRA 2/3-Doors  13750         23   \n2   3  ?TOYOTA Corolla 2.0 D4D HATCHB TERRA 2/3-Doors  13950         24   \n3   4   TOYOTA Corolla 2.0 D4D HATCHB TERRA 2/3-Doors  14950         26   \n4   5     TOYOTA Corolla 2.0 D4D HATCHB SOL 2/3-Doors  13750         30   \n\n   Mfg_Month  Mfg_Year     KM Fuel_Type  HP  Met_Color  ...  Central_Lock  \\\n0         10      2002  46986    Diesel  90          1  ...             1   \n1         10      2002  72937    Diesel  90          1  ...             1   \n2          9      2002  41711    Diesel  90          1  ...             0   \n3          7      2002  48000    Diesel  90          0  ...             0   \n4          3      2002  38500    Diesel  90          0  ...             1   \n\n   Powered_Windows  Power_Steering  Radio  Mistlamps  Sport_Model  \\\n0                1               1      0          0            0   \n1                0               1      0          0            0   \n2                0               1      0          0            0   \n3                0               1      0          0            0   \n4                1               1      0          1            0   \n\n   Backseat_Divider  Metallic_Rim  Radio_cassette  Tow_Bar  \n0                 1             0               0        0  \n1                 1             0               0        0  \n2                 1             0               0        0  \n3                 1             0               0        0  \n4                 1             0               0        0  \n\n[5 rows x 37 columns]",
      "text/html": "<div>\n<style scoped>\n    .dataframe tbody tr th:only-of-type {\n        vertical-align: middle;\n    }\n\n    .dataframe tbody tr th {\n        vertical-align: top;\n    }\n\n    .dataframe thead th {\n        text-align: right;\n    }\n</style>\n<table border=\"1\" class=\"dataframe\">\n  <thead>\n    <tr style=\"text-align: right;\">\n      <th></th>\n      <th>Id</th>\n      <th>Model</th>\n      <th>Price</th>\n      <th>Age_08_04</th>\n      <th>Mfg_Month</th>\n      <th>Mfg_Year</th>\n      <th>KM</th>\n      <th>Fuel_Type</th>\n      <th>HP</th>\n      <th>Met_Color</th>\n      <th>...</th>\n      <th>Central_Lock</th>\n      <th>Powered_Windows</th>\n      <th>Power_Steering</th>\n      <th>Radio</th>\n      <th>Mistlamps</th>\n      <th>Sport_Model</th>\n      <th>Backseat_Divider</th>\n      <th>Metallic_Rim</th>\n      <th>Radio_cassette</th>\n      <th>Tow_Bar</th>\n    </tr>\n  </thead>\n  <tbody>\n    <tr>\n      <th>0</th>\n      <td>1</td>\n      <td>TOYOTA Corolla 2.0 D4D HATCHB TERRA 2/3-Doors</td>\n      <td>13500</td>\n      <td>23</td>\n      <td>10</td>\n      <td>2002</td>\n      <td>46986</td>\n      <td>Diesel</td>\n      <td>90</td>\n      <td>1</td>\n      <td>...</td>\n      <td>1</td>\n      <td>1</td>\n      <td>1</td>\n      <td>0</td>\n      <td>0</td>\n      <td>0</td>\n      <td>1</td>\n      <td>0</td>\n      <td>0</td>\n      <td>0</td>\n    </tr>\n    <tr>\n      <th>1</th>\n      <td>2</td>\n      <td>TOYOTA Corolla 2.0 D4D HATCHB TERRA 2/3-Doors</td>\n      <td>13750</td>\n      <td>23</td>\n      <td>10</td>\n      <td>2002</td>\n      <td>72937</td>\n      <td>Diesel</td>\n      <td>90</td>\n      <td>1</td>\n      <td>...</td>\n      <td>1</td>\n      <td>0</td>\n      <td>1</td>\n      <td>0</td>\n      <td>0</td>\n      <td>0</td>\n      <td>1</td>\n      <td>0</td>\n      <td>0</td>\n      <td>0</td>\n    </tr>\n    <tr>\n      <th>2</th>\n      <td>3</td>\n      <td>?TOYOTA Corolla 2.0 D4D HATCHB TERRA 2/3-Doors</td>\n      <td>13950</td>\n      <td>24</td>\n      <td>9</td>\n      <td>2002</td>\n      <td>41711</td>\n      <td>Diesel</td>\n      <td>90</td>\n      <td>1</td>\n      <td>...</td>\n      <td>0</td>\n      <td>0</td>\n      <td>1</td>\n      <td>0</td>\n      <td>0</td>\n      <td>0</td>\n      <td>1</td>\n      <td>0</td>\n      <td>0</td>\n      <td>0</td>\n    </tr>\n    <tr>\n      <th>3</th>\n      <td>4</td>\n      <td>TOYOTA Corolla 2.0 D4D HATCHB TERRA 2/3-Doors</td>\n      <td>14950</td>\n      <td>26</td>\n      <td>7</td>\n      <td>2002</td>\n      <td>48000</td>\n      <td>Diesel</td>\n      <td>90</td>\n      <td>0</td>\n      <td>...</td>\n      <td>0</td>\n      <td>0</td>\n      <td>1</td>\n      <td>0</td>\n      <td>0</td>\n      <td>0</td>\n      <td>1</td>\n      <td>0</td>\n      <td>0</td>\n      <td>0</td>\n    </tr>\n    <tr>\n      <th>4</th>\n      <td>5</td>\n      <td>TOYOTA Corolla 2.0 D4D HATCHB SOL 2/3-Doors</td>\n      <td>13750</td>\n      <td>30</td>\n      <td>3</td>\n      <td>2002</td>\n      <td>38500</td>\n      <td>Diesel</td>\n      <td>90</td>\n      <td>0</td>\n      <td>...</td>\n      <td>1</td>\n      <td>1</td>\n      <td>1</td>\n      <td>0</td>\n      <td>1</td>\n      <td>0</td>\n      <td>1</td>\n      <td>0</td>\n      <td>0</td>\n      <td>0</td>\n    </tr>\n  </tbody>\n</table>\n<p>5 rows × 37 columns</p>\n</div>"
     },
     "execution_count": 114,
     "metadata": {},
     "output_type": "execute_result"
    }
   ],
   "source": [
    "df = pd.read_csv('ToyotaCorolla_modificado - ToyotaCorolla_modificado.csv')\n",
    "df.head()"
   ],
   "metadata": {
    "collapsed": false,
    "pycharm": {
     "name": "#%%\n"
    }
   }
  },
  {
   "cell_type": "code",
   "execution_count": 115,
   "outputs": [
    {
     "name": "stdout",
     "output_type": "stream",
     "text": [
      "<class 'pandas.core.frame.DataFrame'>\n",
      "RangeIndex: 1436 entries, 0 to 1435\n",
      "Data columns (total 37 columns):\n",
      " #   Column            Non-Null Count  Dtype \n",
      "---  ------            --------------  ----- \n",
      " 0   Id                1436 non-null   int64 \n",
      " 1   Model             1436 non-null   object\n",
      " 2   Price             1436 non-null   int64 \n",
      " 3   Age_08_04         1436 non-null   int64 \n",
      " 4   Mfg_Month         1436 non-null   int64 \n",
      " 5   Mfg_Year          1436 non-null   int64 \n",
      " 6   KM                1436 non-null   int64 \n",
      " 7   Fuel_Type         1436 non-null   object\n",
      " 8   HP                1436 non-null   int64 \n",
      " 9   Met_Color         1436 non-null   int64 \n",
      " 10  Automatic         1436 non-null   int64 \n",
      " 11  cc                1436 non-null   int64 \n",
      " 12  Doors             1436 non-null   int64 \n",
      " 13  Cylinders         1436 non-null   int64 \n",
      " 14  Gears             1436 non-null   int64 \n",
      " 15  Quarterly_Tax     1436 non-null   int64 \n",
      " 16  Weight            1436 non-null   int64 \n",
      " 17  Mfr_Guarantee     1436 non-null   int64 \n",
      " 18  BOVAG_Guarantee   1436 non-null   int64 \n",
      " 19  Guarantee_Period  1436 non-null   int64 \n",
      " 20  ABS               1436 non-null   int64 \n",
      " 21  Airbag_1          1436 non-null   int64 \n",
      " 22  Airbag_2          1436 non-null   int64 \n",
      " 23  Airco             1436 non-null   int64 \n",
      " 24  Automatic_airco   1436 non-null   int64 \n",
      " 25  Boardcomputer     1436 non-null   int64 \n",
      " 26  CD_Player         1436 non-null   int64 \n",
      " 27  Central_Lock      1436 non-null   int64 \n",
      " 28  Powered_Windows   1436 non-null   int64 \n",
      " 29  Power_Steering    1436 non-null   int64 \n",
      " 30  Radio             1436 non-null   int64 \n",
      " 31  Mistlamps         1436 non-null   int64 \n",
      " 32  Sport_Model       1436 non-null   int64 \n",
      " 33  Backseat_Divider  1436 non-null   int64 \n",
      " 34  Metallic_Rim      1436 non-null   int64 \n",
      " 35  Radio_cassette    1436 non-null   int64 \n",
      " 36  Tow_Bar           1436 non-null   int64 \n",
      "dtypes: int64(35), object(2)\n",
      "memory usage: 415.2+ KB\n"
     ]
    }
   ],
   "source": [
    "df.info()"
   ],
   "metadata": {
    "collapsed": false,
    "pycharm": {
     "name": "#%%\n"
    }
   }
  },
  {
   "cell_type": "code",
   "execution_count": 116,
   "outputs": [
    {
     "data": {
      "text/plain": "                Id         Price    Age_08_04    Mfg_Month     Mfg_Year  \\\ncount  1436.000000   1436.000000  1436.000000  1436.000000  1436.000000   \nmean    721.555014  10730.824513    55.947075     5.548747  1999.625348   \nstd     416.476890   3626.964585    18.599988     3.354085     1.540722   \nmin       1.000000   4350.000000     1.000000     1.000000  1998.000000   \n25%     361.750000   8450.000000    44.000000     3.000000  1998.000000   \n50%     721.500000   9900.000000    61.000000     5.000000  1999.000000   \n75%    1081.250000  11950.000000    70.000000     8.000000  2001.000000   \nmax    1442.000000  32500.000000    80.000000    12.000000  2004.000000   \n\n                  KM           HP    Met_Color    Automatic           cc  ...  \\\ncount    1436.000000  1436.000000  1436.000000  1436.000000   1436.00000  ...   \nmean    68533.259749   101.502089     0.674791     0.055710   1576.85585  ...   \nstd     37506.448872    14.981080     0.468616     0.229441    424.38677  ...   \nmin         1.000000    69.000000     0.000000     0.000000   1300.00000  ...   \n25%     43000.000000    90.000000     0.000000     0.000000   1400.00000  ...   \n50%     63389.500000   110.000000     1.000000     0.000000   1600.00000  ...   \n75%     87020.750000   110.000000     1.000000     0.000000   1600.00000  ...   \nmax    243000.000000   192.000000     1.000000     1.000000  16000.00000  ...   \n\n       Central_Lock  Powered_Windows  Power_Steering        Radio  \\\ncount   1436.000000      1436.000000     1436.000000  1436.000000   \nmean       0.580084         0.561978        0.977716     0.146240   \nstd        0.493717         0.496317        0.147657     0.353469   \nmin        0.000000         0.000000        0.000000     0.000000   \n25%        0.000000         0.000000        1.000000     0.000000   \n50%        1.000000         1.000000        1.000000     0.000000   \n75%        1.000000         1.000000        1.000000     0.000000   \nmax        1.000000         1.000000        1.000000     1.000000   \n\n         Mistlamps  Sport_Model  Backseat_Divider  Metallic_Rim  \\\ncount  1436.000000  1436.000000       1436.000000   1436.000000   \nmean      0.256964     0.300139          0.770195      0.204735   \nstd       0.437111     0.458478          0.420854      0.403649   \nmin       0.000000     0.000000          0.000000      0.000000   \n25%       0.000000     0.000000          1.000000      0.000000   \n50%       0.000000     0.000000          1.000000      0.000000   \n75%       1.000000     1.000000          1.000000      0.000000   \nmax       1.000000     1.000000          1.000000      1.000000   \n\n       Radio_cassette      Tow_Bar  \ncount     1436.000000  1436.000000  \nmean         0.145543     0.277855  \nstd          0.352770     0.448098  \nmin          0.000000     0.000000  \n25%          0.000000     0.000000  \n50%          0.000000     0.000000  \n75%          0.000000     1.000000  \nmax          1.000000     1.000000  \n\n[8 rows x 35 columns]",
      "text/html": "<div>\n<style scoped>\n    .dataframe tbody tr th:only-of-type {\n        vertical-align: middle;\n    }\n\n    .dataframe tbody tr th {\n        vertical-align: top;\n    }\n\n    .dataframe thead th {\n        text-align: right;\n    }\n</style>\n<table border=\"1\" class=\"dataframe\">\n  <thead>\n    <tr style=\"text-align: right;\">\n      <th></th>\n      <th>Id</th>\n      <th>Price</th>\n      <th>Age_08_04</th>\n      <th>Mfg_Month</th>\n      <th>Mfg_Year</th>\n      <th>KM</th>\n      <th>HP</th>\n      <th>Met_Color</th>\n      <th>Automatic</th>\n      <th>cc</th>\n      <th>...</th>\n      <th>Central_Lock</th>\n      <th>Powered_Windows</th>\n      <th>Power_Steering</th>\n      <th>Radio</th>\n      <th>Mistlamps</th>\n      <th>Sport_Model</th>\n      <th>Backseat_Divider</th>\n      <th>Metallic_Rim</th>\n      <th>Radio_cassette</th>\n      <th>Tow_Bar</th>\n    </tr>\n  </thead>\n  <tbody>\n    <tr>\n      <th>count</th>\n      <td>1436.000000</td>\n      <td>1436.000000</td>\n      <td>1436.000000</td>\n      <td>1436.000000</td>\n      <td>1436.000000</td>\n      <td>1436.000000</td>\n      <td>1436.000000</td>\n      <td>1436.000000</td>\n      <td>1436.000000</td>\n      <td>1436.00000</td>\n      <td>...</td>\n      <td>1436.000000</td>\n      <td>1436.000000</td>\n      <td>1436.000000</td>\n      <td>1436.000000</td>\n      <td>1436.000000</td>\n      <td>1436.000000</td>\n      <td>1436.000000</td>\n      <td>1436.000000</td>\n      <td>1436.000000</td>\n      <td>1436.000000</td>\n    </tr>\n    <tr>\n      <th>mean</th>\n      <td>721.555014</td>\n      <td>10730.824513</td>\n      <td>55.947075</td>\n      <td>5.548747</td>\n      <td>1999.625348</td>\n      <td>68533.259749</td>\n      <td>101.502089</td>\n      <td>0.674791</td>\n      <td>0.055710</td>\n      <td>1576.85585</td>\n      <td>...</td>\n      <td>0.580084</td>\n      <td>0.561978</td>\n      <td>0.977716</td>\n      <td>0.146240</td>\n      <td>0.256964</td>\n      <td>0.300139</td>\n      <td>0.770195</td>\n      <td>0.204735</td>\n      <td>0.145543</td>\n      <td>0.277855</td>\n    </tr>\n    <tr>\n      <th>std</th>\n      <td>416.476890</td>\n      <td>3626.964585</td>\n      <td>18.599988</td>\n      <td>3.354085</td>\n      <td>1.540722</td>\n      <td>37506.448872</td>\n      <td>14.981080</td>\n      <td>0.468616</td>\n      <td>0.229441</td>\n      <td>424.38677</td>\n      <td>...</td>\n      <td>0.493717</td>\n      <td>0.496317</td>\n      <td>0.147657</td>\n      <td>0.353469</td>\n      <td>0.437111</td>\n      <td>0.458478</td>\n      <td>0.420854</td>\n      <td>0.403649</td>\n      <td>0.352770</td>\n      <td>0.448098</td>\n    </tr>\n    <tr>\n      <th>min</th>\n      <td>1.000000</td>\n      <td>4350.000000</td>\n      <td>1.000000</td>\n      <td>1.000000</td>\n      <td>1998.000000</td>\n      <td>1.000000</td>\n      <td>69.000000</td>\n      <td>0.000000</td>\n      <td>0.000000</td>\n      <td>1300.00000</td>\n      <td>...</td>\n      <td>0.000000</td>\n      <td>0.000000</td>\n      <td>0.000000</td>\n      <td>0.000000</td>\n      <td>0.000000</td>\n      <td>0.000000</td>\n      <td>0.000000</td>\n      <td>0.000000</td>\n      <td>0.000000</td>\n      <td>0.000000</td>\n    </tr>\n    <tr>\n      <th>25%</th>\n      <td>361.750000</td>\n      <td>8450.000000</td>\n      <td>44.000000</td>\n      <td>3.000000</td>\n      <td>1998.000000</td>\n      <td>43000.000000</td>\n      <td>90.000000</td>\n      <td>0.000000</td>\n      <td>0.000000</td>\n      <td>1400.00000</td>\n      <td>...</td>\n      <td>0.000000</td>\n      <td>0.000000</td>\n      <td>1.000000</td>\n      <td>0.000000</td>\n      <td>0.000000</td>\n      <td>0.000000</td>\n      <td>1.000000</td>\n      <td>0.000000</td>\n      <td>0.000000</td>\n      <td>0.000000</td>\n    </tr>\n    <tr>\n      <th>50%</th>\n      <td>721.500000</td>\n      <td>9900.000000</td>\n      <td>61.000000</td>\n      <td>5.000000</td>\n      <td>1999.000000</td>\n      <td>63389.500000</td>\n      <td>110.000000</td>\n      <td>1.000000</td>\n      <td>0.000000</td>\n      <td>1600.00000</td>\n      <td>...</td>\n      <td>1.000000</td>\n      <td>1.000000</td>\n      <td>1.000000</td>\n      <td>0.000000</td>\n      <td>0.000000</td>\n      <td>0.000000</td>\n      <td>1.000000</td>\n      <td>0.000000</td>\n      <td>0.000000</td>\n      <td>0.000000</td>\n    </tr>\n    <tr>\n      <th>75%</th>\n      <td>1081.250000</td>\n      <td>11950.000000</td>\n      <td>70.000000</td>\n      <td>8.000000</td>\n      <td>2001.000000</td>\n      <td>87020.750000</td>\n      <td>110.000000</td>\n      <td>1.000000</td>\n      <td>0.000000</td>\n      <td>1600.00000</td>\n      <td>...</td>\n      <td>1.000000</td>\n      <td>1.000000</td>\n      <td>1.000000</td>\n      <td>0.000000</td>\n      <td>1.000000</td>\n      <td>1.000000</td>\n      <td>1.000000</td>\n      <td>0.000000</td>\n      <td>0.000000</td>\n      <td>1.000000</td>\n    </tr>\n    <tr>\n      <th>max</th>\n      <td>1442.000000</td>\n      <td>32500.000000</td>\n      <td>80.000000</td>\n      <td>12.000000</td>\n      <td>2004.000000</td>\n      <td>243000.000000</td>\n      <td>192.000000</td>\n      <td>1.000000</td>\n      <td>1.000000</td>\n      <td>16000.00000</td>\n      <td>...</td>\n      <td>1.000000</td>\n      <td>1.000000</td>\n      <td>1.000000</td>\n      <td>1.000000</td>\n      <td>1.000000</td>\n      <td>1.000000</td>\n      <td>1.000000</td>\n      <td>1.000000</td>\n      <td>1.000000</td>\n      <td>1.000000</td>\n    </tr>\n  </tbody>\n</table>\n<p>8 rows × 35 columns</p>\n</div>"
     },
     "execution_count": 116,
     "metadata": {},
     "output_type": "execute_result"
    }
   ],
   "source": [
    "df.describe()"
   ],
   "metadata": {
    "collapsed": false,
    "pycharm": {
     "name": "#%%\n"
    }
   }
  },
  {
   "cell_type": "code",
   "execution_count": 117,
   "outputs": [
    {
     "name": "stdout",
     "output_type": "stream",
     "text": [
      "Valores únicos de modelos:  319\n"
     ]
    }
   ],
   "source": [
    "#Eliminar signo de interrogación de modelo y calcular valores únicos\n",
    "df.Model = df.Model.apply(lambda x: x.replace('?', ''))\n",
    "print(\"Valores únicos de modelos: \",len(df.Model.value_counts()))"
   ],
   "metadata": {
    "collapsed": false,
    "pycharm": {
     "name": "#%%\n"
    }
   }
  },
  {
   "cell_type": "code",
   "execution_count": 118,
   "outputs": [],
   "source": [
    "#Encoder Fuel Type\n",
    "fuel_encoder = one_hot_encoder.fit(df.Fuel_Type.values.reshape(-1, 1))\n",
    "name_fuel = fuel_encoder.categories_[0]\n",
    "fuel_encoder = fuel_encoder.transform(df.Fuel_Type.values.reshape(-1, 1))\n",
    "fuel_type_encoder = pd.DataFrame(fuel_encoder.toarray(), columns=name_fuel)\n",
    "df = df.drop(columns=['Fuel_Type'])\n",
    "df = pd.concat([df, fuel_type_encoder], axis=1)"
   ],
   "metadata": {
    "collapsed": false,
    "pycharm": {
     "name": "#%%\n"
    }
   }
  },
  {
   "cell_type": "code",
   "execution_count": 119,
   "outputs": [],
   "source": [
    "drop_columns = ['Model', 'Id', 'Cylinders']"
   ],
   "metadata": {
    "collapsed": false,
    "pycharm": {
     "name": "#%%\n"
    }
   }
  },
  {
   "cell_type": "code",
   "execution_count": 120,
   "outputs": [],
   "source": [
    "df = df.drop(columns=drop_columns)"
   ],
   "metadata": {
    "collapsed": false,
    "pycharm": {
     "name": "#%%\n"
    }
   }
  },
  {
   "cell_type": "markdown",
   "source": [
    "#### Definir x e y"
   ],
   "metadata": {
    "collapsed": false,
    "pycharm": {
     "name": "#%% md\n"
    }
   }
  },
  {
   "cell_type": "code",
   "execution_count": 121,
   "outputs": [],
   "source": [
    "y = df.Price\n",
    "x = df.drop(columns=['Price'])\n",
    "names=pd.DataFrame(x.columns)"
   ],
   "metadata": {
    "collapsed": false,
    "pycharm": {
     "name": "#%%\n"
    }
   }
  },
  {
   "cell_type": "code",
   "execution_count": 122,
   "outputs": [
    {
     "data": {
      "text/plain": "<Figure size 1080x360 with 3 Axes>",
      "image/png": "[encoded data removed]"
     },
     "metadata": {},
     "output_type": "display_data"
    }
   ],
   "source": [
    "#Si modifico la variable price\n",
    "#df.Price = np.log(df.Price)\n",
    "graficar_info_variable(df.Price)"
   ],
   "metadata": {
    "collapsed": false,
    "pycharm": {
     "name": "#%%\n"
    }
   }
  },
  {
   "cell_type": "code",
   "execution_count": 123,
   "outputs": [
    {
     "name": "stdout",
     "output_type": "stream",
     "text": [
      "Porcentaje de outliers:  7.66016713091922\n"
     ]
    }
   ],
   "source": [
    "porcentaje_outliers(df.Price)"
   ],
   "metadata": {
    "collapsed": false,
    "pycharm": {
     "name": "#%%\n"
    }
   }
  },
  {
   "cell_type": "code",
   "execution_count": 124,
   "outputs": [
    {
     "name": "stdout",
     "output_type": "stream",
     "text": [
      "Porcentaje de outliers:  4.30188679245283\n"
     ]
    }
   ],
   "source": [
    "df = quitar_outliers(df, df.Price)\n",
    "porcentaje_outliers(df.Price)"
   ],
   "metadata": {
    "collapsed": false,
    "pycharm": {
     "name": "#%%\n"
    }
   }
  },
  {
   "cell_type": "code",
   "execution_count": 125,
   "outputs": [
    {
     "name": "stdout",
     "output_type": "stream",
     "text": [
      "Porcentaje de outliers:  0.0\n"
     ]
    }
   ],
   "source": [
    "df = quitar_outliers(df, df.Price)\n",
    "porcentaje_outliers(df.Price)"
   ],
   "metadata": {
    "collapsed": false,
    "pycharm": {
     "name": "#%%\n"
    }
   }
  },
  {
   "cell_type": "code",
   "execution_count": 126,
   "outputs": [
    {
     "data": {
      "text/plain": "<Figure size 1080x360 with 3 Axes>",
      "image/png": "[encoded data removed]"
     },
     "metadata": {},
     "output_type": "display_data"
    }
   ],
   "source": [
    "graficar_info_variable(df.KM)"
   ],
   "metadata": {
    "collapsed": false,
    "pycharm": {
     "name": "#%%\n"
    }
   }
  },
  {
   "cell_type": "code",
   "execution_count": 127,
   "outputs": [
    {
     "data": {
      "text/plain": "<Figure size 1080x360 with 3 Axes>",
      "image/png": "[encoded data removed]"
     },
     "metadata": {},
     "output_type": "display_data"
    }
   ],
   "source": [
    "df.KM = np.sqrt(df.KM)\n",
    "graficar_info_variable(df.KM)"
   ],
   "metadata": {
    "collapsed": false,
    "pycharm": {
     "name": "#%%\n"
    }
   }
  },
  {
   "cell_type": "code",
   "execution_count": 128,
   "outputs": [
    {
     "name": "stdout",
     "output_type": "stream",
     "text": [
      "Porcentaje de outliers:  2.6025236593059935\n"
     ]
    }
   ],
   "source": [
    "porcentaje_outliers(df.KM)"
   ],
   "metadata": {
    "collapsed": false,
    "pycharm": {
     "name": "#%%\n"
    }
   }
  },
  {
   "cell_type": "code",
   "execution_count": 129,
   "outputs": [
    {
     "name": "stdout",
     "output_type": "stream",
     "text": [
      "Porcentaje de outliers:  0.48582995951417\n"
     ]
    }
   ],
   "source": [
    "df = quitar_outliers(df, df.KM)\n",
    "porcentaje_outliers(df.KM)"
   ],
   "metadata": {
    "collapsed": false,
    "pycharm": {
     "name": "#%%\n"
    }
   }
  },
  {
   "cell_type": "code",
   "execution_count": 130,
   "outputs": [
    {
     "name": "stdout",
     "output_type": "stream",
     "text": [
      "Porcentaje de outliers:  0.0\n"
     ]
    }
   ],
   "source": [
    "df = quitar_outliers(df, df.KM)\n",
    "porcentaje_outliers(df.KM)"
   ],
   "metadata": {
    "collapsed": false,
    "pycharm": {
     "name": "#%%\n"
    }
   }
  },
  {
   "cell_type": "code",
   "execution_count": 131,
   "outputs": [
    {
     "data": {
      "text/plain": "<Figure size 1080x360 with 3 Axes>",
      "image/png": "[encoded data removed]"
     },
     "metadata": {},
     "output_type": "display_data"
    }
   ],
   "source": [
    "graficar_info_variable(df.Weight)"
   ],
   "metadata": {
    "collapsed": false,
    "pycharm": {
     "name": "#%%\n"
    }
   }
  },
  {
   "cell_type": "code",
   "execution_count": 132,
   "outputs": [
    {
     "data": {
      "text/plain": "<Figure size 1080x360 with 3 Axes>",
      "image/png": "[encoded data removed]"
     },
     "metadata": {},
     "output_type": "display_data"
    }
   ],
   "source": [
    "df.Weight = qt.fit_transform(df.Weight.values.reshape(-1, 1))\n",
    "graficar_info_variable(df.Weight, 12)"
   ],
   "metadata": {
    "collapsed": false,
    "pycharm": {
     "name": "#%%\n"
    }
   }
  },
  {
   "cell_type": "code",
   "execution_count": 133,
   "outputs": [
    {
     "name": "stdout",
     "output_type": "stream",
     "text": [
      "Porcentaje de outliers:  1.790073230268511\n"
     ]
    }
   ],
   "source": [
    "porcentaje_outliers(df.Weight)"
   ],
   "metadata": {
    "collapsed": false,
    "pycharm": {
     "name": "#%%\n"
    }
   }
  },
  {
   "cell_type": "code",
   "execution_count": 134,
   "outputs": [
    {
     "name": "stdout",
     "output_type": "stream",
     "text": [
      "Porcentaje de outliers:  0.0\n"
     ]
    }
   ],
   "source": [
    "df = quitar_outliers(df, df.Weight)\n",
    "porcentaje_outliers(df.Weight)"
   ],
   "metadata": {
    "collapsed": false,
    "pycharm": {
     "name": "#%%\n"
    }
   }
  },
  {
   "cell_type": "markdown",
   "source": [
    "#### Matriz de Correlación"
   ],
   "metadata": {
    "collapsed": false,
    "pycharm": {
     "name": "#%% md\n"
    }
   }
  },
  {
   "cell_type": "code",
   "execution_count": null,
   "outputs": [],
   "source": [
    "df.corr().style.background_gradient(cmap='Greens')"
   ],
   "metadata": {
    "collapsed": false,
    "pycharm": {
     "name": "#%%\n"
    }
   }
  },
  {
   "cell_type": "markdown",
   "source": [
    "#### Univariate Feature Selection"
   ],
   "metadata": {
    "collapsed": false,
    "pycharm": {
     "name": "#%% md\n"
    }
   }
  },
  {
   "cell_type": "code",
   "execution_count": 135,
   "outputs": [
    {
     "data": {
      "text/plain": "             Feature        Score\n1          Mfg_Month     0.471934\n13   BOVAG_Guarantee     1.135864\n6          Automatic     1.570992\n34            Petrol     2.130519\n32               CNG     2.245020\n25             Radio     2.520447\n30    Radio_cassette     2.678580\n33            Diesel     4.206904\n9              Gears     5.733157\n24    Power_Steering     5.948894\n16          Airbag_1    12.670942\n28  Backseat_Divider    15.246698\n29      Metallic_Rim    17.102899\n5          Met_Color    17.211727\n7                 cc    23.278907\n14  Guarantee_Period    31.507479\n27       Sport_Model    39.694992\n31           Tow_Bar    43.910091\n8              Doors    51.003268\n12     Mfr_Guarantee    58.390724\n10     Quarterly_Tax    72.377343\n26         Mistlamps    74.395016\n17          Airbag_2    94.765092\n15               ABS   148.293103\n4                 HP   157.951153\n22      Central_Lock   191.782329\n23   Powered_Windows   208.809734\n18             Airco   323.920943\n21         CD_Player   432.510281\n3                 KM   689.986888\n11            Weight   731.478292\n19   Automatic_airco   758.835491\n20     Boardcomputer   812.071784\n0          Age_08_04  4758.001256\n2           Mfg_Year  5189.766023",
      "text/html": "<div>\n<style scoped>\n    .dataframe tbody tr th:only-of-type {\n        vertical-align: middle;\n    }\n\n    .dataframe tbody tr th {\n        vertical-align: top;\n    }\n\n    .dataframe thead th {\n        text-align: right;\n    }\n</style>\n<table border=\"1\" class=\"dataframe\">\n  <thead>\n    <tr style=\"text-align: right;\">\n      <th></th>\n      <th>Feature</th>\n      <th>Score</th>\n    </tr>\n  </thead>\n  <tbody>\n    <tr>\n      <th>1</th>\n      <td>Mfg_Month</td>\n      <td>0.471934</td>\n    </tr>\n    <tr>\n      <th>13</th>\n      <td>BOVAG_Guarantee</td>\n      <td>1.135864</td>\n    </tr>\n    <tr>\n      <th>6</th>\n      <td>Automatic</td>\n      <td>1.570992</td>\n    </tr>\n    <tr>\n      <th>34</th>\n      <td>Petrol</td>\n      <td>2.130519</td>\n    </tr>\n    <tr>\n      <th>32</th>\n      <td>CNG</td>\n      <td>2.245020</td>\n    </tr>\n    <tr>\n      <th>25</th>\n      <td>Radio</td>\n      <td>2.520447</td>\n    </tr>\n    <tr>\n      <th>30</th>\n      <td>Radio_cassette</td>\n      <td>2.678580</td>\n    </tr>\n    <tr>\n      <th>33</th>\n      <td>Diesel</td>\n      <td>4.206904</td>\n    </tr>\n    <tr>\n      <th>9</th>\n      <td>Gears</td>\n      <td>5.733157</td>\n    </tr>\n    <tr>\n      <th>24</th>\n      <td>Power_Steering</td>\n      <td>5.948894</td>\n    </tr>\n    <tr>\n      <th>16</th>\n      <td>Airbag_1</td>\n      <td>12.670942</td>\n    </tr>\n    <tr>\n      <th>28</th>\n      <td>Backseat_Divider</td>\n      <td>15.246698</td>\n    </tr>\n    <tr>\n      <th>29</th>\n      <td>Metallic_Rim</td>\n      <td>17.102899</td>\n    </tr>\n    <tr>\n      <th>5</th>\n      <td>Met_Color</td>\n      <td>17.211727</td>\n    </tr>\n    <tr>\n      <th>7</th>\n      <td>cc</td>\n      <td>23.278907</td>\n    </tr>\n    <tr>\n      <th>14</th>\n      <td>Guarantee_Period</td>\n      <td>31.507479</td>\n    </tr>\n    <tr>\n      <th>27</th>\n      <td>Sport_Model</td>\n      <td>39.694992</td>\n    </tr>\n    <tr>\n      <th>31</th>\n      <td>Tow_Bar</td>\n      <td>43.910091</td>\n    </tr>\n    <tr>\n      <th>8</th>\n      <td>Doors</td>\n      <td>51.003268</td>\n    </tr>\n    <tr>\n      <th>12</th>\n      <td>Mfr_Guarantee</td>\n      <td>58.390724</td>\n    </tr>\n    <tr>\n      <th>10</th>\n      <td>Quarterly_Tax</td>\n      <td>72.377343</td>\n    </tr>\n    <tr>\n      <th>26</th>\n      <td>Mistlamps</td>\n      <td>74.395016</td>\n    </tr>\n    <tr>\n      <th>17</th>\n      <td>Airbag_2</td>\n      <td>94.765092</td>\n    </tr>\n    <tr>\n      <th>15</th>\n      <td>ABS</td>\n      <td>148.293103</td>\n    </tr>\n    <tr>\n      <th>4</th>\n      <td>HP</td>\n      <td>157.951153</td>\n    </tr>\n    <tr>\n      <th>22</th>\n      <td>Central_Lock</td>\n      <td>191.782329</td>\n    </tr>\n    <tr>\n      <th>23</th>\n      <td>Powered_Windows</td>\n      <td>208.809734</td>\n    </tr>\n    <tr>\n      <th>18</th>\n      <td>Airco</td>\n      <td>323.920943</td>\n    </tr>\n    <tr>\n      <th>21</th>\n      <td>CD_Player</td>\n      <td>432.510281</td>\n    </tr>\n    <tr>\n      <th>3</th>\n      <td>KM</td>\n      <td>689.986888</td>\n    </tr>\n    <tr>\n      <th>11</th>\n      <td>Weight</td>\n      <td>731.478292</td>\n    </tr>\n    <tr>\n      <th>19</th>\n      <td>Automatic_airco</td>\n      <td>758.835491</td>\n    </tr>\n    <tr>\n      <th>20</th>\n      <td>Boardcomputer</td>\n      <td>812.071784</td>\n    </tr>\n    <tr>\n      <th>0</th>\n      <td>Age_08_04</td>\n      <td>4758.001256</td>\n    </tr>\n    <tr>\n      <th>2</th>\n      <td>Mfg_Year</td>\n      <td>5189.766023</td>\n    </tr>\n  </tbody>\n</table>\n</div>"
     },
     "execution_count": 135,
     "metadata": {},
     "output_type": "execute_result"
    }
   ],
   "source": [
    "m = SelectKBest(score_func=f_regression, k=4)\n",
    "r = m.fit(x, y)\n",
    "results_df=pd.DataFrame(r.scores_)\n",
    "scored=pd.concat([names,results_df], axis=1)\n",
    "scored.columns = [\"Feature\", \"Score\"]\n",
    "scored.sort_values(by=['Score'])"
   ],
   "metadata": {
    "collapsed": false,
    "pycharm": {
     "name": "#%%\n"
    }
   }
  },
  {
   "cell_type": "code",
   "execution_count": 136,
   "outputs": [],
   "source": [
    "columns = ['Mfg_Year', 'Age_08_04', 'Boardcomputer','Automatic_airco', 'Weight', 'KM', 'CD_Player', 'Airco', 'Powered_Windows',\n",
    "           'Central_Lock', 'HP', 'ABS', 'Price']"
   ],
   "metadata": {
    "collapsed": false,
    "pycharm": {
     "name": "#%%\n"
    }
   }
  },
  {
   "cell_type": "code",
   "execution_count": 137,
   "outputs": [],
   "source": [
    "df = df[columns]"
   ],
   "metadata": {
    "collapsed": false,
    "pycharm": {
     "name": "#%%\n"
    }
   }
  },
  {
   "cell_type": "code",
   "execution_count": 138,
   "outputs": [],
   "source": [
    "y = df.Price.values.reshape(-1, 1)\n",
    "x = df.drop(columns=['Price'])"
   ],
   "metadata": {
    "collapsed": false,
    "pycharm": {
     "name": "#%%\n"
    }
   }
  },
  {
   "cell_type": "code",
   "execution_count": 139,
   "outputs": [],
   "source": [
    "x.KM = standar_scaler.fit_transform(x.KM.values.reshape(-1, 1))\n",
    "x.Weight = standar_scaler.fit_transform(x.Weight.values.reshape(-1, 1))\n",
    "x.Mfg_Year = standar_scaler.fit_transform(x.Mfg_Year.values.reshape(-1, 1))\n",
    "x.Age_08_04 = standar_scaler.fit_transform(x.Age_08_04.values.reshape(-1, 1))\n",
    "x.HP = standar_scaler.fit_transform(x.HP.values.reshape(-1, 1))\n",
    "y = standar_scaler.fit_transform(y)"
   ],
   "metadata": {
    "collapsed": false,
    "pycharm": {
     "name": "#%%\n"
    }
   }
  },
  {
   "cell_type": "code",
   "execution_count": 140,
   "outputs": [],
   "source": [
    "#x.head()"
   ],
   "metadata": {
    "collapsed": false,
    "pycharm": {
     "name": "#%%\n"
    }
   }
  },
  {
   "cell_type": "code",
   "execution_count": 141,
   "outputs": [
    {
     "name": "stdout",
     "output_type": "stream",
     "text": [
      "RMSE: 0.4928\n"
     ]
    }
   ],
   "source": [
    "x_train, x_test, y_train, y_test = train_test_split(x, y, test_size=0.3, random_state=42)\n",
    "ml = sm.OLS(y_train, sm.add_constant(x_train))\n",
    "ml_results = ml.fit()\n",
    "y_pred = ml_results.predict(sm.add_constant(x_test))\n",
    "print(\"RMSE: %.4f\" % mean_squared_error(y_test,y_pred, squared=False))"
   ],
   "metadata": {
    "collapsed": false,
    "pycharm": {
     "name": "#%%\n"
    }
   }
  },
  {
   "cell_type": "code",
   "execution_count": 142,
   "outputs": [
    {
     "data": {
      "text/plain": "<class 'statsmodels.iolib.summary.Summary'>\n\"\"\"\n                            OLS Regression Results                            \n==============================================================================\nDep. Variable:                      y   R-squared:                       0.752\nModel:                            OLS   Adj. R-squared:                  0.749\nMethod:                 Least Squares   F-statistic:                     210.1\nDate:                Sun, 23 Oct 2022   Prob (F-statistic):          5.32e-242\nTime:                        16:46:17   Log-Likelihood:                -616.65\nNo. Observations:                 844   AIC:                             1259.\nDf Residuals:                     831   BIC:                             1321.\nDf Model:                          12                                         \nCovariance Type:            nonrobust                                         \n===================================================================================\n                      coef    std err          t      P>|t|      [0.025      0.975]\n-----------------------------------------------------------------------------------\nconst              -0.1460      0.048     -3.021      0.003      -0.241      -0.051\nMfg_Year            0.5412      0.071      7.607      0.000       0.402       0.681\nAge_08_04          -0.0977      0.070     -1.392      0.164      -0.236       0.040\nBoardcomputer       0.0309      0.059      0.523      0.601      -0.085       0.147\nAutomatic_airco    -0.0352      0.210     -0.168      0.867      -0.446       0.376\nWeight              0.1562      0.019      8.185      0.000       0.119       0.194\nKM                 -0.2542      0.021    -12.155      0.000      -0.295      -0.213\nCD_Player           0.0416      0.053      0.780      0.435      -0.063       0.146\nAirco               0.1818      0.044      4.139      0.000       0.096       0.268\nPowered_Windows     0.0702      0.069      1.020      0.308      -0.065       0.205\nCentral_Lock        0.0562      0.069      0.817      0.414      -0.079       0.191\nHP                  0.0508      0.019      2.713      0.007       0.014       0.088\nABS                 0.0016      0.047      0.033      0.974      -0.091       0.094\n==============================================================================\nOmnibus:                      133.871   Durbin-Watson:                   2.051\nProb(Omnibus):                  0.000   Jarque-Bera (JB):              699.715\nSkew:                          -0.605   Prob(JB):                    1.15e-152\nKurtosis:                       7.294   Cond. No.                         20.7\n==============================================================================\n\nNotes:\n[1] Standard Errors assume that the covariance matrix of the errors is correctly specified.\n\"\"\"",
      "text/html": "<table class=\"simpletable\">\n<caption>OLS Regression Results</caption>\n<tr>\n  <th>Dep. Variable:</th>            <td>y</td>        <th>  R-squared:         </th> <td>   0.752</td> \n</tr>\n<tr>\n  <th>Model:</th>                   <td>OLS</td>       <th>  Adj. R-squared:    </th> <td>   0.749</td> \n</tr>\n<tr>\n  <th>Method:</th>             <td>Least Squares</td>  <th>  F-statistic:       </th> <td>   210.1</td> \n</tr>\n<tr>\n  <th>Date:</th>             <td>Sun, 23 Oct 2022</td> <th>  Prob (F-statistic):</th> <td>5.32e-242</td>\n</tr>\n<tr>\n  <th>Time:</th>                 <td>16:46:17</td>     <th>  Log-Likelihood:    </th> <td> -616.65</td> \n</tr>\n<tr>\n  <th>No. Observations:</th>      <td>   844</td>      <th>  AIC:               </th> <td>   1259.</td> \n</tr>\n<tr>\n  <th>Df Residuals:</th>          <td>   831</td>      <th>  BIC:               </th> <td>   1321.</td> \n</tr>\n<tr>\n  <th>Df Model:</th>              <td>    12</td>      <th>                     </th>     <td> </td>    \n</tr>\n<tr>\n  <th>Covariance Type:</th>      <td>nonrobust</td>    <th>                     </th>     <td> </td>    \n</tr>\n</table>\n<table class=\"simpletable\">\n<tr>\n         <td></td>            <th>coef</th>     <th>std err</th>      <th>t</th>      <th>P>|t|</th>  <th>[0.025</th>    <th>0.975]</th>  \n</tr>\n<tr>\n  <th>const</th>           <td>   -0.1460</td> <td>    0.048</td> <td>   -3.021</td> <td> 0.003</td> <td>   -0.241</td> <td>   -0.051</td>\n</tr>\n<tr>\n  <th>Mfg_Year</th>        <td>    0.5412</td> <td>    0.071</td> <td>    7.607</td> <td> 0.000</td> <td>    0.402</td> <td>    0.681</td>\n</tr>\n<tr>\n  <th>Age_08_04</th>       <td>   -0.0977</td> <td>    0.070</td> <td>   -1.392</td> <td> 0.164</td> <td>   -0.236</td> <td>    0.040</td>\n</tr>\n<tr>\n  <th>Boardcomputer</th>   <td>    0.0309</td> <td>    0.059</td> <td>    0.523</td> <td> 0.601</td> <td>   -0.085</td> <td>    0.147</td>\n</tr>\n<tr>\n  <th>Automatic_airco</th> <td>   -0.0352</td> <td>    0.210</td> <td>   -0.168</td> <td> 0.867</td> <td>   -0.446</td> <td>    0.376</td>\n</tr>\n<tr>\n  <th>Weight</th>          <td>    0.1562</td> <td>    0.019</td> <td>    8.185</td> <td> 0.000</td> <td>    0.119</td> <td>    0.194</td>\n</tr>\n<tr>\n  <th>KM</th>              <td>   -0.2542</td> <td>    0.021</td> <td>  -12.155</td> <td> 0.000</td> <td>   -0.295</td> <td>   -0.213</td>\n</tr>\n<tr>\n  <th>CD_Player</th>       <td>    0.0416</td> <td>    0.053</td> <td>    0.780</td> <td> 0.435</td> <td>   -0.063</td> <td>    0.146</td>\n</tr>\n<tr>\n  <th>Airco</th>           <td>    0.1818</td> <td>    0.044</td> <td>    4.139</td> <td> 0.000</td> <td>    0.096</td> <td>    0.268</td>\n</tr>\n<tr>\n  <th>Powered_Windows</th> <td>    0.0702</td> <td>    0.069</td> <td>    1.020</td> <td> 0.308</td> <td>   -0.065</td> <td>    0.205</td>\n</tr>\n<tr>\n  <th>Central_Lock</th>    <td>    0.0562</td> <td>    0.069</td> <td>    0.817</td> <td> 0.414</td> <td>   -0.079</td> <td>    0.191</td>\n</tr>\n<tr>\n  <th>HP</th>              <td>    0.0508</td> <td>    0.019</td> <td>    2.713</td> <td> 0.007</td> <td>    0.014</td> <td>    0.088</td>\n</tr>\n<tr>\n  <th>ABS</th>             <td>    0.0016</td> <td>    0.047</td> <td>    0.033</td> <td> 0.974</td> <td>   -0.091</td> <td>    0.094</td>\n</tr>\n</table>\n<table class=\"simpletable\">\n<tr>\n  <th>Omnibus:</th>       <td>133.871</td> <th>  Durbin-Watson:     </th> <td>   2.051</td> \n</tr>\n<tr>\n  <th>Prob(Omnibus):</th> <td> 0.000</td>  <th>  Jarque-Bera (JB):  </th> <td> 699.715</td> \n</tr>\n<tr>\n  <th>Skew:</th>          <td>-0.605</td>  <th>  Prob(JB):          </th> <td>1.15e-152</td>\n</tr>\n<tr>\n  <th>Kurtosis:</th>      <td> 7.294</td>  <th>  Cond. No.          </th> <td>    20.7</td> \n</tr>\n</table><br/><br/>Notes:<br/>[1] Standard Errors assume that the covariance matrix of the errors is correctly specified."
     },
     "execution_count": 142,
     "metadata": {},
     "output_type": "execute_result"
    }
   ],
   "source": [
    "ml_results.summary()"
   ],
   "metadata": {
    "collapsed": false,
    "pycharm": {
     "name": "#%%\n"
    }
   }
  },
  {
   "cell_type": "code",
   "execution_count": 143,
   "outputs": [],
   "source": [
    "columns_final = ['Mfg_Year', 'Weight', 'KM', 'Airco','HP']"
   ],
   "metadata": {
    "collapsed": false,
    "pycharm": {
     "name": "#%%\n"
    }
   }
  },
  {
   "cell_type": "code",
   "execution_count": 144,
   "outputs": [],
   "source": [
    "x_final = x[columns_final]"
   ],
   "metadata": {
    "collapsed": false,
    "pycharm": {
     "name": "#%%\n"
    }
   }
  },
  {
   "cell_type": "markdown",
   "source": [
    "#### Guardar modelos mlflow"
   ],
   "metadata": {
    "collapsed": false,
    "pycharm": {
     "name": "#%% md\n"
    }
   }
  },
  {
   "cell_type": "code",
   "execution_count": 145,
   "outputs": [],
   "source": [
    "mlflow.set_tracking_uri('http://66.97.41.26:8080/')\n",
    "experiment_name = \"dataset_toyota_corolla\"\n",
    "if not mlflow.get_experiment_by_name(experiment_name):\n",
    "    mlflow.create_experiment(name=experiment_name)\n",
    "experiment = mlflow.get_experiment_by_name(experiment_name)"
   ],
   "metadata": {
    "collapsed": false,
    "pycharm": {
     "name": "#%%\n"
    }
   }
  },
  {
   "cell_type": "markdown",
   "source": [
    "##### Linear Regression"
   ],
   "metadata": {
    "collapsed": false,
    "pycharm": {
     "name": "#%% md\n"
    }
   }
  },
  {
   "cell_type": "code",
   "execution_count": 146,
   "outputs": [],
   "source": [
    "from sklearn.linear_model import LinearRegression\n",
    "from sklearn.model_selection import cross_val_score\n",
    "from sklearn.model_selection import KFold"
   ],
   "metadata": {
    "collapsed": false,
    "pycharm": {
     "name": "#%%\n"
    }
   }
  },
  {
   "cell_type": "code",
   "execution_count": 147,
   "outputs": [
    {
     "name": "stderr",
     "output_type": "stream",
     "text": [
      "/home/jeo/anaconda3/envs/data/lib/python3.9/site-packages/mlflow/models/signature.py:129: UserWarning: Hint: Inferred schema contains integer column(s). Integer columns in Python cannot represent missing values. If your input data contains missing values at inference time, it will be encoded as floats and will cause a schema enforcement error. The best way to avoid this problem is to infer the model schema based on a realistic data sample (training dataset) that includes missing values. Alternatively, you can declare integer columns as doubles (float64) whenever these columns may have missing values. See `Handling Integers With Missing Values <https://www.mlflow.org/docs/latest/models.html#handling-integers-with-missing-values>`_ for more details.\n",
      "  inputs = _infer_schema(model_input)\n"
     ]
    }
   ],
   "source": [
    "with mlflow.start_run(experiment_id = experiment.experiment_id):\n",
    "    linear_regression = LinearRegression()\n",
    "    folds = KFold(n_splits = 5, shuffle = True, random_state = 100)\n",
    "    r2 = cross_val_score(linear_regression, x_final, y, scoring='r2', cv=folds).mean()\n",
    "    mse = cross_val_score(linear_regression, x_final, y, scoring='neg_mean_squared_error', cv=folds).mean()*-1\n",
    "    rmse = math.sqrt(mse)\n",
    "    linear_regression.fit(x_final, y)\n",
    "    signature = infer_signature(x_final, linear_regression.predict(x_final))\n",
    "    mlflow.log_param(\"n_features\", len(columns_final))\n",
    "    mlflow.log_metric(\"rmse\", rmse)\n",
    "    mlflow.log_metric(\"r2\", r2)\n",
    "    mlflow.sklearn.log_model(linear_regression, \"linear_regression_sin_out_price\", signature=signature)"
   ],
   "metadata": {
    "collapsed": false,
    "pycharm": {
     "name": "#%%\n"
    }
   }
  },
  {
   "cell_type": "code",
   "execution_count": 148,
   "outputs": [
    {
     "data": {
      "text/plain": "(0.7429530115921139, 0.5071273472713994)"
     },
     "execution_count": 148,
     "metadata": {},
     "output_type": "execute_result"
    }
   ],
   "source": [
    "r2, rmse"
   ],
   "metadata": {
    "collapsed": false,
    "pycharm": {
     "name": "#%%\n"
    }
   }
  },
  {
   "cell_type": "markdown",
   "source": [
    "##### Lasso"
   ],
   "metadata": {
    "collapsed": false,
    "pycharm": {
     "name": "#%% md\n"
    }
   }
  },
  {
   "cell_type": "code",
   "execution_count": 149,
   "outputs": [],
   "source": [
    "from sklearn.linear_model import LassoCV"
   ],
   "metadata": {
    "collapsed": false,
    "pycharm": {
     "name": "#%%\n"
    }
   }
  },
  {
   "cell_type": "code",
   "execution_count": 150,
   "outputs": [
    {
     "name": "stderr",
     "output_type": "stream",
     "text": [
      "/home/jeo/anaconda3/envs/data/lib/python3.9/site-packages/mlflow/models/signature.py:129: UserWarning: Hint: Inferred schema contains integer column(s). Integer columns in Python cannot represent missing values. If your input data contains missing values at inference time, it will be encoded as floats and will cause a schema enforcement error. The best way to avoid this problem is to infer the model schema based on a realistic data sample (training dataset) that includes missing values. Alternatively, you can declare integer columns as doubles (float64) whenever these columns may have missing values. See `Handling Integers With Missing Values <https://www.mlflow.org/docs/latest/models.html#handling-integers-with-missing-values>`_ for more details.\n",
      "  inputs = _infer_schema(model_input)\n"
     ]
    }
   ],
   "source": [
    "with mlflow.start_run(experiment_id = experiment.experiment_id):\n",
    "    lasso = LassoCV(cv=5, random_state=0)\n",
    "    r2 = cross_val_score(lasso, x_final, y.ravel(), scoring='r2', cv=folds).mean()\n",
    "    mse = cross_val_score(linear_regression, x_final, y.ravel(), scoring='neg_mean_squared_error', cv=folds).mean()*-1\n",
    "    rmse = math.sqrt(mse)\n",
    "    lasso.fit(x_final, y.ravel())\n",
    "    signature = infer_signature(x_final, lasso.predict(x_final))\n",
    "    mlflow.log_param(\"n_features\", len(columns_final))\n",
    "    mlflow.log_metric(\"rmse\", rmse)\n",
    "    mlflow.log_metric(\"r2\", r2)\n",
    "    mlflow.sklearn.log_model(lasso, \"lasso_sin_out_price\", signature=signature)"
   ],
   "metadata": {
    "collapsed": false,
    "pycharm": {
     "name": "#%%\n"
    }
   }
  },
  {
   "cell_type": "code",
   "execution_count": 151,
   "outputs": [
    {
     "data": {
      "text/plain": "(0.7423927021557922, 0.5071273472713994)"
     },
     "execution_count": 151,
     "metadata": {},
     "output_type": "execute_result"
    }
   ],
   "source": [
    "r2, rmse"
   ],
   "metadata": {
    "collapsed": false,
    "pycharm": {
     "name": "#%%\n"
    }
   }
  },
  {
   "cell_type": "markdown",
   "source": [
    "##### Random Forest"
   ],
   "metadata": {
    "collapsed": false,
    "pycharm": {
     "name": "#%% md\n"
    }
   }
  },
  {
   "cell_type": "code",
   "execution_count": 55,
   "outputs": [],
   "source": [
    "from sklearn.ensemble import RandomForestRegressor\n",
    "from sklearn.model_selection import RandomizedSearchCV"
   ],
   "metadata": {
    "collapsed": false,
    "pycharm": {
     "name": "#%%\n"
    }
   }
  },
  {
   "cell_type": "code",
   "execution_count": 56,
   "outputs": [],
   "source": [
    "x_train, x_test, y_train, y_test = train_test_split(x_final, y, test_size=0.2, random_state=42)"
   ],
   "metadata": {
    "collapsed": false,
    "pycharm": {
     "name": "#%%\n"
    }
   }
  },
  {
   "cell_type": "code",
   "execution_count": 57,
   "outputs": [],
   "source": [
    "# Number of trees in random forest\n",
    "n_estimators = [int(x) for x in np.linspace(start = 200, stop = 2000, num = 10)]\n",
    "# Number of features to consider at every split\n",
    "max_features = ['1.0', 'sqrt']\n",
    "# Maximum number of levels in tree\n",
    "max_depth = [int(x) for x in np.linspace(10, 110, num = 11)]\n",
    "max_depth.append(None)\n",
    "# Minimum number of samples required to split a node\n",
    "min_samples_split = [2, 5, 10]\n",
    "# Minimum number of samples required at each leaf node\n",
    "min_samples_leaf = [1, 2, 4]\n",
    "# Method of selecting samples for training each tree\n",
    "bootstrap = [True, False]\n",
    "\n",
    "random_grid = {'n_estimators': n_estimators,\n",
    "               'max_features': max_features,\n",
    "               'max_depth': max_depth,\n",
    "               'min_samples_split': min_samples_split,\n",
    "               'min_samples_leaf': min_samples_leaf,\n",
    "               'bootstrap': bootstrap}"
   ],
   "metadata": {
    "collapsed": false,
    "pycharm": {
     "name": "#%%\n"
    }
   }
  },
  {
   "cell_type": "code",
   "execution_count": 58,
   "outputs": [
    {
     "name": "stdout",
     "output_type": "stream",
     "text": [
      "Fitting 3 folds for each of 100 candidates, totalling 300 fits\n"
     ]
    },
    {
     "name": "stderr",
     "output_type": "stream",
     "text": [
      "/home/jeo/anaconda3/envs/data/lib/python3.9/site-packages/sklearn/model_selection/_validation.py:378: FitFailedWarning: \n",
      "123 fits failed out of a total of 300.\n",
      "The score on these train-test partitions for these parameters will be set to nan.\n",
      "If these failures are not expected, you can try to debug them by setting error_score='raise'.\n",
      "\n",
      "Below are more details about the failures:\n",
      "--------------------------------------------------------------------------------\n",
      "69 fits failed with the following error:\n",
      "Traceback (most recent call last):\n",
      "  File \"/home/jeo/anaconda3/envs/data/lib/python3.9/site-packages/sklearn/model_selection/_validation.py\", line 686, in _fit_and_score\n",
      "    estimator.fit(X_train, y_train, **fit_params)\n",
      "  File \"/home/jeo/anaconda3/envs/data/lib/python3.9/site-packages/sklearn/ensemble/_forest.py\", line 476, in fit\n",
      "    trees = Parallel(\n",
      "  File \"/home/jeo/anaconda3/envs/data/lib/python3.9/site-packages/joblib/parallel.py\", line 1043, in __call__\n",
      "    if self.dispatch_one_batch(iterator):\n",
      "  File \"/home/jeo/anaconda3/envs/data/lib/python3.9/site-packages/joblib/parallel.py\", line 861, in dispatch_one_batch\n",
      "    self._dispatch(tasks)\n",
      "  File \"/home/jeo/anaconda3/envs/data/lib/python3.9/site-packages/joblib/parallel.py\", line 779, in _dispatch\n",
      "    job = self._backend.apply_async(batch, callback=cb)\n",
      "  File \"/home/jeo/anaconda3/envs/data/lib/python3.9/site-packages/joblib/_parallel_backends.py\", line 208, in apply_async\n",
      "    result = ImmediateResult(func)\n",
      "  File \"/home/jeo/anaconda3/envs/data/lib/python3.9/site-packages/joblib/_parallel_backends.py\", line 572, in __init__\n",
      "    self.results = batch()\n",
      "  File \"/home/jeo/anaconda3/envs/data/lib/python3.9/site-packages/joblib/parallel.py\", line 262, in __call__\n",
      "    return [func(*args, **kwargs)\n",
      "  File \"/home/jeo/anaconda3/envs/data/lib/python3.9/site-packages/joblib/parallel.py\", line 262, in <listcomp>\n",
      "    return [func(*args, **kwargs)\n",
      "  File \"/home/jeo/anaconda3/envs/data/lib/python3.9/site-packages/sklearn/utils/fixes.py\", line 117, in __call__\n",
      "    return self.function(*args, **kwargs)\n",
      "  File \"/home/jeo/anaconda3/envs/data/lib/python3.9/site-packages/sklearn/ensemble/_forest.py\", line 191, in _parallel_build_trees\n",
      "    tree.fit(X, y, sample_weight=sample_weight, check_input=False)\n",
      "  File \"/home/jeo/anaconda3/envs/data/lib/python3.9/site-packages/sklearn/tree/_classes.py\", line 1342, in fit\n",
      "    super().fit(\n",
      "  File \"/home/jeo/anaconda3/envs/data/lib/python3.9/site-packages/sklearn/tree/_classes.py\", line 317, in fit\n",
      "    raise ValueError(\n",
      "ValueError: Invalid value for max_features. Allowed string values are 'auto', 'sqrt' or 'log2'.\n",
      "\n",
      "--------------------------------------------------------------------------------\n",
      "54 fits failed with the following error:\n",
      "Traceback (most recent call last):\n",
      "  File \"/home/jeo/anaconda3/envs/data/lib/python3.9/site-packages/sklearn/model_selection/_validation.py\", line 686, in _fit_and_score\n",
      "    estimator.fit(X_train, y_train, **fit_params)\n",
      "  File \"/home/jeo/anaconda3/envs/data/lib/python3.9/site-packages/sklearn/ensemble/_forest.py\", line 476, in fit\n",
      "    trees = Parallel(\n",
      "  File \"/home/jeo/anaconda3/envs/data/lib/python3.9/site-packages/joblib/parallel.py\", line 1043, in __call__\n",
      "    if self.dispatch_one_batch(iterator):\n",
      "  File \"/home/jeo/anaconda3/envs/data/lib/python3.9/site-packages/joblib/parallel.py\", line 861, in dispatch_one_batch\n",
      "    self._dispatch(tasks)\n",
      "  File \"/home/jeo/anaconda3/envs/data/lib/python3.9/site-packages/joblib/parallel.py\", line 779, in _dispatch\n",
      "    job = self._backend.apply_async(batch, callback=cb)\n",
      "  File \"/home/jeo/anaconda3/envs/data/lib/python3.9/site-packages/joblib/_parallel_backends.py\", line 208, in apply_async\n",
      "    result = ImmediateResult(func)\n",
      "  File \"/home/jeo/anaconda3/envs/data/lib/python3.9/site-packages/joblib/_parallel_backends.py\", line 572, in __init__\n",
      "    self.results = batch()\n",
      "  File \"/home/jeo/anaconda3/envs/data/lib/python3.9/site-packages/joblib/parallel.py\", line 262, in __call__\n",
      "    return [func(*args, **kwargs)\n",
      "  File \"/home/jeo/anaconda3/envs/data/lib/python3.9/site-packages/joblib/parallel.py\", line 262, in <listcomp>\n",
      "    return [func(*args, **kwargs)\n",
      "  File \"/home/jeo/anaconda3/envs/data/lib/python3.9/site-packages/sklearn/utils/fixes.py\", line 117, in __call__\n",
      "    return self.function(*args, **kwargs)\n",
      "  File \"/home/jeo/anaconda3/envs/data/lib/python3.9/site-packages/sklearn/ensemble/_forest.py\", line 189, in _parallel_build_trees\n",
      "    tree.fit(X, y, sample_weight=curr_sample_weight, check_input=False)\n",
      "  File \"/home/jeo/anaconda3/envs/data/lib/python3.9/site-packages/sklearn/tree/_classes.py\", line 1342, in fit\n",
      "    super().fit(\n",
      "  File \"/home/jeo/anaconda3/envs/data/lib/python3.9/site-packages/sklearn/tree/_classes.py\", line 317, in fit\n",
      "    raise ValueError(\n",
      "ValueError: Invalid value for max_features. Allowed string values are 'auto', 'sqrt' or 'log2'.\n",
      "\n",
      "  warnings.warn(some_fits_failed_message, FitFailedWarning)\n",
      "/home/jeo/anaconda3/envs/data/lib/python3.9/site-packages/sklearn/model_selection/_search.py:953: UserWarning: One or more of the test scores are non-finite: [0.72276625 0.72642248 0.72253299        nan 0.72638204 0.72451791\n",
      " 0.71808216 0.69667568        nan        nan        nan 0.697481\n",
      " 0.72152915 0.72179119 0.72234995        nan        nan 0.71016545\n",
      "        nan        nan 0.71694188 0.69746117 0.72690881        nan\n",
      " 0.69726614 0.66500578        nan 0.72665932        nan 0.72840938\n",
      " 0.72472308 0.7169048  0.69809103 0.72694988 0.72692015 0.72388528\n",
      " 0.72789671        nan        nan 0.72768843        nan 0.72932537\n",
      " 0.72662327 0.72634951        nan 0.70883768        nan 0.7254613\n",
      " 0.72540571 0.71677642        nan        nan        nan        nan\n",
      " 0.71852974 0.72451736        nan        nan        nan 0.72976061\n",
      " 0.70984605 0.72571831        nan        nan 0.72737295        nan\n",
      "        nan        nan 0.71707569        nan 0.7258539  0.72442807\n",
      " 0.72856026        nan        nan 0.72253226 0.727853   0.7217771\n",
      " 0.72884129        nan        nan        nan        nan        nan\n",
      " 0.7245412  0.71693674 0.72219644 0.72742905 0.72630842 0.73018524\n",
      " 0.72879587 0.72457426 0.72175199        nan 0.72515372        nan\n",
      "        nan        nan 0.72771985        nan]\n",
      "  warnings.warn(\n",
      "/home/jeo/anaconda3/envs/data/lib/python3.9/site-packages/mlflow/models/signature.py:129: UserWarning: Hint: Inferred schema contains integer column(s). Integer columns in Python cannot represent missing values. If your input data contains missing values at inference time, it will be encoded as floats and will cause a schema enforcement error. The best way to avoid this problem is to infer the model schema based on a realistic data sample (training dataset) that includes missing values. Alternatively, you can declare integer columns as doubles (float64) whenever these columns may have missing values. See `Handling Integers With Missing Values <https://www.mlflow.org/docs/latest/models.html#handling-integers-with-missing-values>`_ for more details.\n",
      "  inputs = _infer_schema(model_input)\n"
     ]
    }
   ],
   "source": [
    "with mlflow.start_run(experiment_id = experiment.experiment_id):\n",
    "    random_forest_regressor = RandomForestRegressor()\n",
    "    best_random_forest = RandomizedSearchCV(\n",
    "        estimator = random_forest_regressor,\n",
    "        param_distributions = random_grid,\n",
    "        n_iter = 100,\n",
    "        cv = 3,\n",
    "        verbose=2,\n",
    "        random_state=42,\n",
    "        n_jobs = -1)\n",
    "    best_random_forest.fit(x_train, y_train.ravel())\n",
    "    r2 = best_random_forest.score(x_train, y_train)\n",
    "    rmse = mean_squared_error(y_test, best_random_forest.predict(x_test), squared=False)\n",
    "    signature = infer_signature(x_train, best_random_forest.predict(x_train))\n",
    "    mlflow.log_param(\"n_features\", len(columns_final))\n",
    "    mlflow.log_metric('rmse', rmse)\n",
    "    mlflow.log_metric('r2', r2)\n",
    "    mlflow.sklearn.log_model(random_forest_regressor, \"random_forest_regressor_sin_out_price\", signature=signature)"
   ],
   "metadata": {
    "collapsed": false,
    "pycharm": {
     "name": "#%%\n"
    }
   }
  },
  {
   "cell_type": "code",
   "execution_count": 59,
   "outputs": [
    {
     "data": {
      "text/plain": "(0.8375839592622728, 0.49837864575519175)"
     },
     "execution_count": 59,
     "metadata": {},
     "output_type": "execute_result"
    }
   ],
   "source": [
    "r2, rmse"
   ],
   "metadata": {
    "collapsed": false,
    "pycharm": {
     "name": "#%%\n"
    }
   }
  },
  {
   "cell_type": "markdown",
   "source": [
    "#### Aplicando PCA"
   ],
   "metadata": {
    "collapsed": false,
    "pycharm": {
     "name": "#%% md\n"
    }
   }
  },
  {
   "cell_type": "code",
   "execution_count": 48,
   "outputs": [],
   "source": [
    "from sklearn.decomposition import PCA"
   ],
   "metadata": {
    "collapsed": false,
    "pycharm": {
     "name": "#%%\n"
    }
   }
  },
  {
   "cell_type": "code",
   "execution_count": 101,
   "outputs": [],
   "source": [
    "pca = PCA(n_components=4)\n",
    "x_pca = pca.fit_transform(x)"
   ],
   "metadata": {
    "collapsed": false,
    "pycharm": {
     "name": "#%%\n"
    }
   }
  },
  {
   "cell_type": "markdown",
   "source": [
    "##### Linear regression"
   ],
   "metadata": {
    "collapsed": false,
    "pycharm": {
     "name": "#%% md\n"
    }
   }
  },
  {
   "cell_type": "code",
   "execution_count": 102,
   "outputs": [],
   "source": [
    "with mlflow.start_run(experiment_id = experiment.experiment_id):\n",
    "    linear_regression = LinearRegression()\n",
    "    folds = KFold(n_splits = 5, shuffle = True, random_state = 100)\n",
    "    r2 = cross_val_score(linear_regression, x_pca, y, scoring='r2', cv=folds).mean()\n",
    "    mse = cross_val_score(linear_regression, x_pca, y, scoring='neg_mean_squared_error', cv=folds).mean()*-1\n",
    "    rmse = math.sqrt(mse)\n",
    "    linear_regression.fit(x_pca, y)\n",
    "    signature = infer_signature(x_pca, linear_regression.predict(x_pca))\n",
    "    mlflow.log_param(\"n_comp_pca\", pca.n_components)\n",
    "    mlflow.log_metric(\"rmse\", rmse)\n",
    "    mlflow.log_metric(\"r2\", r2)\n",
    "    mlflow.sklearn.log_model(linear_regression, \"linear_regression_sin_out_price\", signature=signature)"
   ],
   "metadata": {
    "collapsed": false,
    "pycharm": {
     "name": "#%%\n"
    }
   }
  },
  {
   "cell_type": "code",
   "execution_count": 103,
   "outputs": [
    {
     "data": {
      "text/plain": "(0.7385559616099617, 0.5115802223432281)"
     },
     "execution_count": 103,
     "metadata": {},
     "output_type": "execute_result"
    }
   ],
   "source": [
    "r2, rmse"
   ],
   "metadata": {
    "collapsed": false,
    "pycharm": {
     "name": "#%%\n"
    }
   }
  },
  {
   "cell_type": "markdown",
   "source": [
    "##### Lasso"
   ],
   "metadata": {
    "collapsed": false,
    "pycharm": {
     "name": "#%% md\n"
    }
   }
  },
  {
   "cell_type": "code",
   "execution_count": 81,
   "outputs": [],
   "source": [
    "with mlflow.start_run(experiment_id = experiment.experiment_id):\n",
    "    lasso = LassoCV(cv=5, random_state=0)\n",
    "    r2 = cross_val_score(lasso, x_pca, y.ravel(), scoring='r2', cv=folds).mean()\n",
    "    mse = cross_val_score(linear_regression, x_pca, y.ravel(), scoring='neg_mean_squared_error', cv=folds).mean()*-1\n",
    "    rmse = math.sqrt(mse)\n",
    "    lasso.fit(x_pca, y.ravel())\n",
    "    signature = infer_signature(x_pca, lasso.predict(x_pca))\n",
    "    mlflow.log_param(\"n_comp_pca\", pca.n_components)\n",
    "    mlflow.log_metric(\"rmse\", rmse)\n",
    "    mlflow.log_metric(\"r2\", r2)\n",
    "    mlflow.sklearn.log_model(lasso, \"lasso_sin_out_price\", signature=signature)"
   ],
   "metadata": {
    "collapsed": false,
    "pycharm": {
     "name": "#%%\n"
    }
   }
  },
  {
   "cell_type": "code",
   "execution_count": 82,
   "outputs": [
    {
     "data": {
      "text/plain": "(0.7420290874129691, 0.5077313098189613)"
     },
     "execution_count": 82,
     "metadata": {},
     "output_type": "execute_result"
    }
   ],
   "source": [
    "r2, rmse"
   ],
   "metadata": {
    "collapsed": false,
    "pycharm": {
     "name": "#%%\n"
    }
   }
  },
  {
   "cell_type": "markdown",
   "source": [
    "##### Random Forest"
   ],
   "metadata": {
    "collapsed": false,
    "pycharm": {
     "name": "#%% md\n"
    }
   }
  },
  {
   "cell_type": "code",
   "execution_count": 98,
   "outputs": [],
   "source": [
    "x_train, x_test, y_train, y_test = train_test_split(x_pca, y, test_size=0.2, random_state=42)"
   ],
   "metadata": {
    "collapsed": false,
    "pycharm": {
     "name": "#%%\n"
    }
   }
  },
  {
   "cell_type": "code",
   "execution_count": 99,
   "outputs": [
    {
     "name": "stdout",
     "output_type": "stream",
     "text": [
      "Fitting 3 folds for each of 100 candidates, totalling 300 fits\n",
      "[CV] END bootstrap=True, max_depth=30, max_features=sqrt, min_samples_leaf=1, min_samples_split=5, n_estimators=400; total time=   0.5s\n",
      "[CV] END bootstrap=False, max_depth=10, max_features=sqrt, min_samples_leaf=2, min_samples_split=5, n_estimators=1200; total time=   1.4s\n",
      "[CV] END bootstrap=False, max_depth=30, max_features=1.0, min_samples_leaf=4, min_samples_split=2, n_estimators=2000; total time=   0.4s\n",
      "[CV] END bootstrap=True, max_depth=10, max_features=sqrt, min_samples_leaf=4, min_samples_split=2, n_estimators=1600; total time=   1.7s\n",
      "[CV] END bootstrap=False, max_depth=60, max_features=sqrt, min_samples_leaf=1, min_samples_split=5, n_estimators=600; total time=   0.8s\n",
      "[CV] END bootstrap=False, max_depth=50, max_features=1.0, min_samples_leaf=1, min_samples_split=2, n_estimators=1000; total time=   0.2s\n",
      "[CV] END bootstrap=True, max_depth=70, max_features=1.0, min_samples_leaf=4, min_samples_split=10, n_estimators=400; total time=   0.1s\n",
      "[CV] END bootstrap=True, max_depth=70, max_features=1.0, min_samples_leaf=4, min_samples_split=10, n_estimators=400; total time=   0.1s\n",
      "[CV] END bootstrap=False, max_depth=90, max_features=sqrt, min_samples_leaf=1, min_samples_split=5, n_estimators=800; total time=   1.1s\n",
      "[CV] END bootstrap=False, max_depth=10, max_features=sqrt, min_samples_leaf=2, min_samples_split=5, n_estimators=1600; total time=   1.9s\n",
      "[CV] END bootstrap=False, max_depth=50, max_features=1.0, min_samples_leaf=4, min_samples_split=2, n_estimators=1800; total time=   0.4s\n",
      "[CV] END bootstrap=False, max_depth=50, max_features=1.0, min_samples_leaf=4, min_samples_split=2, n_estimators=1800; total time=   0.4s\n",
      "[CV] END bootstrap=False, max_depth=110, max_features=1.0, min_samples_leaf=2, min_samples_split=10, n_estimators=1800; total time=   0.4s\n",
      "[CV] END bootstrap=True, max_depth=80, max_features=1.0, min_samples_leaf=1, min_samples_split=5, n_estimators=600; total time=   0.1s\n",
      "[CV] END bootstrap=False, max_depth=30, max_features=sqrt, min_samples_leaf=1, min_samples_split=10, n_estimators=1800; total time=   2.1s\n",
      "[CV] END bootstrap=True, max_depth=80, max_features=sqrt, min_samples_leaf=4, min_samples_split=5, n_estimators=1400; total time=   1.8s\n",
      "[CV] END bootstrap=False, max_depth=None, max_features=sqrt, min_samples_leaf=1, min_samples_split=2, n_estimators=400; total time=   0.6s\n",
      "[CV] END bootstrap=False, max_depth=None, max_features=sqrt, min_samples_leaf=1, min_samples_split=2, n_estimators=400; total time=   0.6s\n",
      "[CV] END bootstrap=True, max_depth=20, max_features=sqrt, min_samples_leaf=2, min_samples_split=5, n_estimators=1000; total time=   1.2s\n",
      "[CV] END bootstrap=False, max_depth=20, max_features=sqrt, min_samples_leaf=4, min_samples_split=10, n_estimators=1200; total time=   1.4s\n",
      "[CV] END bootstrap=False, max_depth=100, max_features=sqrt, min_samples_leaf=1, min_samples_split=5, n_estimators=800; total time=   1.1s\n",
      "[CV] END bootstrap=True, max_depth=90, max_features=sqrt, min_samples_leaf=4, min_samples_split=2, n_estimators=1800; total time=   3.1s\n",
      "[CV] END bootstrap=True, max_depth=None, max_features=1.0, min_samples_leaf=2, min_samples_split=5, n_estimators=800; total time=   0.2s\n",
      "[CV] END bootstrap=True, max_depth=None, max_features=1.0, min_samples_leaf=2, min_samples_split=5, n_estimators=800; total time=   0.2s\n",
      "[CV] END bootstrap=True, max_depth=60, max_features=sqrt, min_samples_leaf=2, min_samples_split=2, n_estimators=1000; total time=   1.9s\n",
      "[CV] END bootstrap=True, max_depth=90, max_features=sqrt, min_samples_leaf=4, min_samples_split=10, n_estimators=400; total time=   0.5s\n",
      "[CV] END bootstrap=True, max_depth=110, max_features=sqrt, min_samples_leaf=1, min_samples_split=2, n_estimators=1000; total time=   1.6s\n",
      "[CV] END bootstrap=False, max_depth=70, max_features=sqrt, min_samples_leaf=4, min_samples_split=2, n_estimators=1200; total time=   2.0s\n",
      "[CV] END bootstrap=False, max_depth=30, max_features=1.0, min_samples_leaf=4, min_samples_split=5, n_estimators=1000; total time=   0.3s\n",
      "[CV] END bootstrap=False, max_depth=60, max_features=sqrt, min_samples_leaf=4, min_samples_split=2, n_estimators=600; total time=   0.7s\n",
      "[CV] END bootstrap=True, max_depth=10, max_features=1.0, min_samples_leaf=1, min_samples_split=5, n_estimators=1600; total time=   0.5s\n",
      "[CV] END bootstrap=True, max_depth=80, max_features=1.0, min_samples_leaf=2, min_samples_split=2, n_estimators=1800; total time=   0.4s\n",
      "[CV] END bootstrap=True, max_depth=100, max_features=1.0, min_samples_leaf=1, min_samples_split=2, n_estimators=1400; total time=   0.3s\n",
      "[CV] END bootstrap=True, max_depth=50, max_features=sqrt, min_samples_leaf=1, min_samples_split=2, n_estimators=200; total time=   0.3s\n",
      "[CV] END bootstrap=True, max_depth=10, max_features=sqrt, min_samples_leaf=4, min_samples_split=2, n_estimators=400; total time=   0.8s\n",
      "[CV] END bootstrap=False, max_depth=80, max_features=1.0, min_samples_leaf=4, min_samples_split=10, n_estimators=1000; total time=   0.2s\n",
      "[CV] END bootstrap=False, max_depth=None, max_features=1.0, min_samples_leaf=2, min_samples_split=10, n_estimators=1200; total time=   0.3s\n",
      "[CV] END bootstrap=True, max_depth=20, max_features=sqrt, min_samples_leaf=1, min_samples_split=10, n_estimators=1600; total time=   2.1s\n",
      "[CV] END bootstrap=False, max_depth=60, max_features=1.0, min_samples_leaf=2, min_samples_split=10, n_estimators=2000; total time=   0.4s\n",
      "[CV] END bootstrap=False, max_depth=80, max_features=sqrt, min_samples_leaf=4, min_samples_split=2, n_estimators=1400; total time=   2.0s\n",
      "[CV] END bootstrap=True, max_depth=90, max_features=1.0, min_samples_leaf=1, min_samples_split=5, n_estimators=1600; total time=   0.4s\n",
      "[CV] END bootstrap=False, max_depth=90, max_features=sqrt, min_samples_leaf=2, min_samples_split=10, n_estimators=400; total time=   0.5s\n",
      "[CV] END bootstrap=True, max_depth=None, max_features=sqrt, min_samples_leaf=1, min_samples_split=10, n_estimators=1600; total time=   2.2s\n",
      "[CV] END bootstrap=True, max_depth=10, max_features=sqrt, min_samples_leaf=2, min_samples_split=5, n_estimators=1000; total time=   1.5s\n",
      "[CV] END bootstrap=False, max_depth=None, max_features=1.0, min_samples_leaf=2, min_samples_split=10, n_estimators=800; total time=   0.2s\n",
      "[CV] END bootstrap=False, max_depth=70, max_features=sqrt, min_samples_leaf=4, min_samples_split=5, n_estimators=800; total time=   1.1s\n",
      "[CV] END bootstrap=True, max_depth=80, max_features=sqrt, min_samples_leaf=4, min_samples_split=2, n_estimators=1600; total time=   1.8s\n",
      "[CV] END bootstrap=True, max_depth=110, max_features=sqrt, min_samples_leaf=1, min_samples_split=10, n_estimators=600; total time=   0.7s\n",
      "[CV] END bootstrap=True, max_depth=40, max_features=sqrt, min_samples_leaf=1, min_samples_split=5, n_estimators=800; total time=   1.0s\n",
      "[CV] END bootstrap=True, max_depth=40, max_features=1.0, min_samples_leaf=4, min_samples_split=2, n_estimators=600; total time=   0.1s\n",
      "[CV] END bootstrap=True, max_depth=40, max_features=1.0, min_samples_leaf=4, min_samples_split=2, n_estimators=600; total time=   0.1s\n",
      "[CV] END bootstrap=False, max_depth=30, max_features=sqrt, min_samples_leaf=4, min_samples_split=2, n_estimators=600; total time=   0.7s\n",
      "[CV] END bootstrap=False, max_depth=40, max_features=1.0, min_samples_leaf=2, min_samples_split=10, n_estimators=400; total time=   0.1s\n",
      "[CV] END bootstrap=False, max_depth=10, max_features=1.0, min_samples_leaf=1, min_samples_split=2, n_estimators=1000; total time=   0.2s\n",
      "[CV] END bootstrap=True, max_depth=40, max_features=1.0, min_samples_leaf=2, min_samples_split=10, n_estimators=2000; total time=   0.6s\n",
      "[CV] END bootstrap=True, max_depth=30, max_features=sqrt, min_samples_leaf=1, min_samples_split=5, n_estimators=400; total time=   0.5s\n",
      "[CV] END bootstrap=False, max_depth=10, max_features=sqrt, min_samples_leaf=2, min_samples_split=5, n_estimators=1200; total time=   1.7s\n",
      "[CV] END bootstrap=False, max_depth=30, max_features=1.0, min_samples_leaf=4, min_samples_split=2, n_estimators=2000; total time=   0.5s\n",
      "[CV] END bootstrap=False, max_depth=30, max_features=sqrt, min_samples_leaf=4, min_samples_split=5, n_estimators=800; total time=   1.1s\n",
      "[CV] END bootstrap=True, max_depth=10, max_features=sqrt, min_samples_leaf=1, min_samples_split=5, n_estimators=2000; total time=   2.7s\n",
      "[CV] END bootstrap=False, max_depth=30, max_features=sqrt, min_samples_leaf=4, min_samples_split=5, n_estimators=800; total time=   1.1s\n",
      "[CV] END bootstrap=False, max_depth=100, max_features=sqrt, min_samples_leaf=2, min_samples_split=5, n_estimators=1000; total time=   1.4s\n",
      "[CV] END bootstrap=False, max_depth=90, max_features=sqrt, min_samples_leaf=1, min_samples_split=5, n_estimators=800; total time=   1.3s\n",
      "[CV] END bootstrap=False, max_depth=10, max_features=sqrt, min_samples_leaf=2, min_samples_split=5, n_estimators=1600; total time=   2.1s\n",
      "[CV] END bootstrap=False, max_depth=70, max_features=1.0, min_samples_leaf=2, min_samples_split=5, n_estimators=600; total time=   0.1s\n",
      "[CV] END bootstrap=False, max_depth=70, max_features=1.0, min_samples_leaf=2, min_samples_split=5, n_estimators=600; total time=   0.1s\n",
      "[CV] END bootstrap=False, max_depth=110, max_features=1.0, min_samples_leaf=2, min_samples_split=10, n_estimators=1800; total time=   0.4s\n",
      "[CV] END bootstrap=True, max_depth=80, max_features=1.0, min_samples_leaf=1, min_samples_split=5, n_estimators=600; total time=   0.1s\n",
      "[CV] END bootstrap=False, max_depth=30, max_features=sqrt, min_samples_leaf=1, min_samples_split=10, n_estimators=1800; total time=   2.5s\n",
      "[CV] END bootstrap=True, max_depth=80, max_features=sqrt, min_samples_leaf=4, min_samples_split=5, n_estimators=1400; total time=   2.0s\n",
      "[CV] END bootstrap=False, max_depth=40, max_features=1.0, min_samples_leaf=1, min_samples_split=2, n_estimators=1400; total time=   0.3s\n",
      "[CV] END bootstrap=False, max_depth=40, max_features=1.0, min_samples_leaf=1, min_samples_split=2, n_estimators=1400; total time=   0.3s\n",
      "[CV] END bootstrap=False, max_depth=100, max_features=1.0, min_samples_leaf=4, min_samples_split=10, n_estimators=2000; total time=   0.5s\n",
      "[CV] END bootstrap=True, max_depth=20, max_features=sqrt, min_samples_leaf=2, min_samples_split=2, n_estimators=1200; total time=   1.6s\n",
      "[CV] END bootstrap=False, max_depth=50, max_features=sqrt, min_samples_leaf=2, min_samples_split=2, n_estimators=800; total time=   1.2s\n",
      "[CV] END bootstrap=True, max_depth=50, max_features=sqrt, min_samples_leaf=4, min_samples_split=10, n_estimators=800; total time=   1.2s\n",
      "[CV] END bootstrap=False, max_depth=20, max_features=sqrt, min_samples_leaf=2, min_samples_split=10, n_estimators=800; total time=   1.7s\n",
      "[CV] END bootstrap=True, max_depth=100, max_features=1.0, min_samples_leaf=1, min_samples_split=2, n_estimators=800; total time=   0.2s\n",
      "[CV] END bootstrap=True, max_depth=100, max_features=1.0, min_samples_leaf=1, min_samples_split=2, n_estimators=800; total time=   0.2s\n",
      "[CV] END bootstrap=True, max_depth=60, max_features=sqrt, min_samples_leaf=2, min_samples_split=2, n_estimators=1000; total time=   1.8s\n",
      "[CV] END bootstrap=True, max_depth=90, max_features=sqrt, min_samples_leaf=4, min_samples_split=2, n_estimators=800; total time=   1.4s\n",
      "[CV] END bootstrap=True, max_depth=90, max_features=1.0, min_samples_leaf=2, min_samples_split=2, n_estimators=2000; total time=   0.5s\n",
      "[CV] END bootstrap=False, max_depth=80, max_features=sqrt, min_samples_leaf=4, min_samples_split=10, n_estimators=400; total time=   0.5s\n",
      "[CV] END bootstrap=False, max_depth=110, max_features=sqrt, min_samples_leaf=2, min_samples_split=2, n_estimators=600; total time=   1.0s\n",
      "[CV] END bootstrap=False, max_depth=20, max_features=1.0, min_samples_leaf=1, min_samples_split=2, n_estimators=1800; total time=   0.5s\n",
      "[CV] END bootstrap=False, max_depth=50, max_features=1.0, min_samples_leaf=2, min_samples_split=10, n_estimators=2000; total time=   0.7s\n",
      "[CV] END bootstrap=False, max_depth=60, max_features=sqrt, min_samples_leaf=4, min_samples_split=2, n_estimators=600; total time=   0.7s\n",
      "[CV] END bootstrap=True, max_depth=10, max_features=1.0, min_samples_leaf=1, min_samples_split=5, n_estimators=1600; total time=   0.4s\n",
      "[CV] END bootstrap=True, max_depth=80, max_features=1.0, min_samples_leaf=2, min_samples_split=2, n_estimators=1800; total time=   0.5s\n",
      "[CV] END bootstrap=True, max_depth=100, max_features=1.0, min_samples_leaf=1, min_samples_split=2, n_estimators=1400; total time=   0.3s\n",
      "[CV] END bootstrap=True, max_depth=80, max_features=sqrt, min_samples_leaf=2, min_samples_split=10, n_estimators=1400; total time=   1.8s\n",
      "[CV] END bootstrap=True, max_depth=20, max_features=sqrt, min_samples_leaf=1, min_samples_split=10, n_estimators=1600; total time=   1.9s\n",
      "[CV] END bootstrap=False, max_depth=60, max_features=1.0, min_samples_leaf=2, min_samples_split=10, n_estimators=2000; total time=   0.6s\n",
      "[CV] END bootstrap=False, max_depth=80, max_features=sqrt, min_samples_leaf=4, min_samples_split=2, n_estimators=1400; total time=   1.6s\n",
      "[CV] END bootstrap=False, max_depth=90, max_features=1.0, min_samples_leaf=1, min_samples_split=5, n_estimators=400; total time=   0.1s\n",
      "[CV] END bootstrap=False, max_depth=90, max_features=1.0, min_samples_leaf=1, min_samples_split=5, n_estimators=400; total time=   0.1s\n",
      "[CV] END bootstrap=True, max_depth=90, max_features=1.0, min_samples_leaf=1, min_samples_split=5, n_estimators=1600; total time=   0.3s\n",
      "[CV] END bootstrap=False, max_depth=90, max_features=sqrt, min_samples_leaf=2, min_samples_split=10, n_estimators=400; total time=   0.5s\n",
      "[CV] END bootstrap=True, max_depth=None, max_features=sqrt, min_samples_leaf=1, min_samples_split=10, n_estimators=1600; total time=   1.9s\n",
      "[CV] END bootstrap=True, max_depth=10, max_features=sqrt, min_samples_leaf=2, min_samples_split=5, n_estimators=1000; total time=   1.3s\n",
      "[CV] END bootstrap=True, max_depth=80, max_features=1.0, min_samples_leaf=4, min_samples_split=5, n_estimators=200; total time=   0.1s\n",
      "[CV] END bootstrap=True, max_depth=80, max_features=1.0, min_samples_leaf=4, min_samples_split=5, n_estimators=200; total time=   0.0s\n",
      "[CV] END bootstrap=False, max_depth=60, max_features=1.0, min_samples_leaf=4, min_samples_split=2, n_estimators=2000; total time=   0.5s\n",
      "[CV] END bootstrap=True, max_depth=100, max_features=1.0, min_samples_leaf=2, min_samples_split=10, n_estimators=600; total time=   0.1s\n",
      "[CV] END bootstrap=False, max_depth=None, max_features=1.0, min_samples_leaf=2, min_samples_split=10, n_estimators=800; total time=   0.2s\n",
      "[CV] END bootstrap=False, max_depth=70, max_features=sqrt, min_samples_leaf=4, min_samples_split=5, n_estimators=800; total time=   1.1s\n",
      "[CV] END bootstrap=True, max_depth=80, max_features=sqrt, min_samples_leaf=4, min_samples_split=2, n_estimators=1600; total time=   2.1s\n",
      "[CV] END bootstrap=True, max_depth=110, max_features=sqrt, min_samples_leaf=1, min_samples_split=10, n_estimators=600; total time=   0.8s\n",
      "[CV] END bootstrap=True, max_depth=40, max_features=sqrt, min_samples_leaf=1, min_samples_split=5, n_estimators=800; total time=   1.1s\n",
      "[CV] END bootstrap=False, max_depth=30, max_features=sqrt, min_samples_leaf=4, min_samples_split=2, n_estimators=600; total time=   0.8s\n",
      "[CV] END bootstrap=True, max_depth=40, max_features=1.0, min_samples_leaf=2, min_samples_split=10, n_estimators=2000; total time=   0.5s\n",
      "[CV] END bootstrap=True, max_depth=30, max_features=sqrt, min_samples_leaf=1, min_samples_split=5, n_estimators=400; total time=   0.5s\n",
      "[CV] END bootstrap=False, max_depth=10, max_features=sqrt, min_samples_leaf=2, min_samples_split=5, n_estimators=1200; total time=   1.6s\n",
      "[CV] END bootstrap=False, max_depth=30, max_features=1.0, min_samples_leaf=4, min_samples_split=2, n_estimators=2000; total time=   0.4s\n",
      "[CV] END bootstrap=True, max_depth=10, max_features=sqrt, min_samples_leaf=4, min_samples_split=2, n_estimators=1600; total time=   2.0s\n",
      "[CV] END bootstrap=False, max_depth=60, max_features=sqrt, min_samples_leaf=1, min_samples_split=5, n_estimators=600; total time=   0.9s\n",
      "[CV] END bootstrap=True, max_depth=70, max_features=1.0, min_samples_leaf=4, min_samples_split=10, n_estimators=400; total time=   0.1s\n",
      "[CV] END bootstrap=True, max_depth=70, max_features=1.0, min_samples_leaf=4, min_samples_split=10, n_estimators=400; total time=   0.1s\n",
      "[CV] END bootstrap=True, max_depth=30, max_features=sqrt, min_samples_leaf=1, min_samples_split=5, n_estimators=400; total time=   0.5s\n",
      "[CV] END bootstrap=False, max_depth=10, max_features=sqrt, min_samples_leaf=2, min_samples_split=5, n_estimators=1200; total time=   1.5s\n",
      "[CV] END bootstrap=False, max_depth=30, max_features=1.0, min_samples_leaf=4, min_samples_split=2, n_estimators=2000; total time=   0.4s\n",
      "[CV] END bootstrap=False, max_depth=30, max_features=sqrt, min_samples_leaf=4, min_samples_split=5, n_estimators=800; total time=   0.9s\n",
      "[CV] END bootstrap=False, max_depth=100, max_features=sqrt, min_samples_leaf=2, min_samples_split=5, n_estimators=1000; total time=   1.2s\n",
      "[CV] END bootstrap=False, max_depth=50, max_features=1.0, min_samples_leaf=1, min_samples_split=2, n_estimators=1000; total time=   0.2s\n",
      "[CV] END bootstrap=False, max_depth=10, max_features=1.0, min_samples_leaf=4, min_samples_split=5, n_estimators=1800; total time=   0.5s\n",
      "[CV] END bootstrap=False, max_depth=10, max_features=sqrt, min_samples_leaf=1, min_samples_split=10, n_estimators=2000; total time=   2.7s\n",
      "[CV] END bootstrap=False, max_depth=30, max_features=sqrt, min_samples_leaf=2, min_samples_split=10, n_estimators=800; total time=   0.9s\n",
      "[CV] END bootstrap=False, max_depth=110, max_features=1.0, min_samples_leaf=2, min_samples_split=10, n_estimators=1800; total time=   0.4s\n",
      "[CV] END bootstrap=True, max_depth=80, max_features=1.0, min_samples_leaf=1, min_samples_split=5, n_estimators=600; total time=   0.1s\n",
      "[CV] END bootstrap=False, max_depth=30, max_features=sqrt, min_samples_leaf=1, min_samples_split=10, n_estimators=1800; total time=   2.2s\n",
      "[CV] END bootstrap=True, max_depth=80, max_features=sqrt, min_samples_leaf=4, min_samples_split=5, n_estimators=1400; total time=   1.8s\n",
      "[CV] END bootstrap=False, max_depth=None, max_features=sqrt, min_samples_leaf=1, min_samples_split=2, n_estimators=400; total time=   0.6s\n",
      "[CV] END bootstrap=False, max_depth=40, max_features=1.0, min_samples_leaf=1, min_samples_split=2, n_estimators=1400; total time=   0.3s\n",
      "[CV] END bootstrap=True, max_depth=20, max_features=sqrt, min_samples_leaf=2, min_samples_split=5, n_estimators=1000; total time=   1.3s\n",
      "[CV] END bootstrap=False, max_depth=20, max_features=sqrt, min_samples_leaf=4, min_samples_split=10, n_estimators=1200; total time=   1.4s\n",
      "[CV] END bootstrap=False, max_depth=100, max_features=sqrt, min_samples_leaf=1, min_samples_split=5, n_estimators=800; total time=   1.1s\n",
      "[CV] END bootstrap=True, max_depth=90, max_features=sqrt, min_samples_leaf=4, min_samples_split=2, n_estimators=1800; total time=   2.8s\n",
      "[CV] END bootstrap=True, max_depth=20, max_features=sqrt, min_samples_leaf=2, min_samples_split=5, n_estimators=1200; total time=   1.8s\n",
      "[CV] END bootstrap=True, max_depth=90, max_features=sqrt, min_samples_leaf=4, min_samples_split=2, n_estimators=800; total time=   1.1s\n",
      "[CV] END bootstrap=False, max_depth=90, max_features=1.0, min_samples_leaf=2, min_samples_split=5, n_estimators=200; total time=   0.0s\n",
      "[CV] END bootstrap=False, max_depth=90, max_features=1.0, min_samples_leaf=2, min_samples_split=5, n_estimators=200; total time=   0.1s\n",
      "[CV] END bootstrap=False, max_depth=90, max_features=1.0, min_samples_leaf=2, min_samples_split=5, n_estimators=200; total time=   0.0s\n",
      "[CV] END bootstrap=True, max_depth=110, max_features=sqrt, min_samples_leaf=1, min_samples_split=2, n_estimators=1000; total time=   1.6s\n",
      "[CV] END bootstrap=False, max_depth=110, max_features=sqrt, min_samples_leaf=2, min_samples_split=2, n_estimators=600; total time=   1.0s\n",
      "[CV] END bootstrap=False, max_depth=20, max_features=1.0, min_samples_leaf=1, min_samples_split=2, n_estimators=1800; total time=   0.4s\n",
      "[CV] END bootstrap=False, max_depth=50, max_features=1.0, min_samples_leaf=2, min_samples_split=10, n_estimators=2000; total time=   0.7s\n",
      "[CV] END bootstrap=False, max_depth=None, max_features=sqrt, min_samples_leaf=2, min_samples_split=5, n_estimators=1400; total time=   2.0s\n",
      "[CV] END bootstrap=True, max_depth=80, max_features=sqrt, min_samples_leaf=2, min_samples_split=10, n_estimators=1400; total time=   1.8s\n",
      "[CV] END bootstrap=True, max_depth=None, max_features=1.0, min_samples_leaf=2, min_samples_split=10, n_estimators=1600; total time=   0.3s\n",
      "[CV] END bootstrap=False, max_depth=10, max_features=1.0, min_samples_leaf=4, min_samples_split=2, n_estimators=1800; total time=   0.4s\n",
      "[CV] END bootstrap=True, max_depth=70, max_features=1.0, min_samples_leaf=2, min_samples_split=2, n_estimators=1400; total time=   0.3s\n",
      "[CV] END bootstrap=False, max_depth=80, max_features=sqrt, min_samples_leaf=1, min_samples_split=10, n_estimators=1000; total time=   1.5s\n",
      "[CV] END bootstrap=False, max_depth=80, max_features=sqrt, min_samples_leaf=4, min_samples_split=2, n_estimators=1400; total time=   1.7s\n",
      "[CV] END bootstrap=False, max_depth=90, max_features=1.0, min_samples_leaf=1, min_samples_split=5, n_estimators=400; total time=   0.1s\n",
      "[CV] END bootstrap=True, max_depth=90, max_features=1.0, min_samples_leaf=1, min_samples_split=5, n_estimators=1600; total time=   0.3s\n",
      "[CV] END bootstrap=False, max_depth=90, max_features=sqrt, min_samples_leaf=2, min_samples_split=10, n_estimators=400; total time=   0.5s\n",
      "[CV] END bootstrap=True, max_depth=None, max_features=sqrt, min_samples_leaf=1, min_samples_split=10, n_estimators=1600; total time=   1.9s\n",
      "[CV] END bootstrap=True, max_depth=10, max_features=sqrt, min_samples_leaf=2, min_samples_split=5, n_estimators=1000; total time=   1.2s\n",
      "[CV] END bootstrap=True, max_depth=80, max_features=1.0, min_samples_leaf=4, min_samples_split=5, n_estimators=200; total time=   0.0s\n",
      "[CV] END bootstrap=False, max_depth=60, max_features=1.0, min_samples_leaf=4, min_samples_split=2, n_estimators=2000; total time=   0.4s\n",
      "[CV] END bootstrap=True, max_depth=100, max_features=1.0, min_samples_leaf=2, min_samples_split=10, n_estimators=600; total time=   0.2s\n",
      "[CV] END bootstrap=True, max_depth=100, max_features=1.0, min_samples_leaf=4, min_samples_split=5, n_estimators=1000; total time=   0.3s\n",
      "[CV] END bootstrap=False, max_depth=40, max_features=sqrt, min_samples_leaf=1, min_samples_split=10, n_estimators=600; total time=   0.8s\n",
      "[CV] END bootstrap=True, max_depth=100, max_features=sqrt, min_samples_leaf=1, min_samples_split=5, n_estimators=400; total time=   0.5s\n",
      "[CV] END bootstrap=True, max_depth=100, max_features=sqrt, min_samples_leaf=4, min_samples_split=10, n_estimators=800; total time=   0.9s\n",
      "[CV] END bootstrap=True, max_depth=10, max_features=sqrt, min_samples_leaf=2, min_samples_split=10, n_estimators=1000; total time=   1.1s\n",
      "[CV] END bootstrap=False, max_depth=None, max_features=sqrt, min_samples_leaf=4, min_samples_split=5, n_estimators=2000; total time=   2.3s\n",
      "[CV] END bootstrap=False, max_depth=10, max_features=1.0, min_samples_leaf=1, min_samples_split=2, n_estimators=1000; total time=   0.2s\n",
      "[CV] END bootstrap=True, max_depth=40, max_features=1.0, min_samples_leaf=2, min_samples_split=10, n_estimators=2000; total time=   0.5s\n",
      "[CV] END bootstrap=True, max_depth=30, max_features=sqrt, min_samples_leaf=1, min_samples_split=5, n_estimators=400; total time=   0.6s\n",
      "[CV] END bootstrap=False, max_depth=10, max_features=sqrt, min_samples_leaf=2, min_samples_split=5, n_estimators=1200; total time=   1.6s\n",
      "[CV] END bootstrap=False, max_depth=30, max_features=1.0, min_samples_leaf=4, min_samples_split=2, n_estimators=2000; total time=   0.4s\n",
      "[CV] END bootstrap=True, max_depth=10, max_features=sqrt, min_samples_leaf=4, min_samples_split=2, n_estimators=1600; total time=   1.9s\n",
      "[CV] END bootstrap=False, max_depth=60, max_features=sqrt, min_samples_leaf=1, min_samples_split=5, n_estimators=600; total time=   0.8s\n",
      "[CV] END bootstrap=False, max_depth=50, max_features=1.0, min_samples_leaf=1, min_samples_split=2, n_estimators=1000; total time=   0.2s\n",
      "[CV] END bootstrap=False, max_depth=90, max_features=sqrt, min_samples_leaf=1, min_samples_split=5, n_estimators=800; total time=   1.1s\n",
      "[CV] END bootstrap=False, max_depth=10, max_features=sqrt, min_samples_leaf=2, min_samples_split=5, n_estimators=1600; total time=   1.9s\n",
      "[CV] END bootstrap=True, max_depth=10, max_features=sqrt, min_samples_leaf=1, min_samples_split=5, n_estimators=2000; total time=   2.5s\n",
      "[CV] END bootstrap=False, max_depth=30, max_features=sqrt, min_samples_leaf=4, min_samples_split=5, n_estimators=800; total time=   0.9s\n",
      "[CV] END bootstrap=False, max_depth=100, max_features=sqrt, min_samples_leaf=2, min_samples_split=5, n_estimators=1000; total time=   1.3s\n",
      "[CV] END bootstrap=False, max_depth=10, max_features=1.0, min_samples_leaf=4, min_samples_split=5, n_estimators=1800; total time=   0.5s\n",
      "[CV] END bootstrap=False, max_depth=10, max_features=sqrt, min_samples_leaf=1, min_samples_split=10, n_estimators=2000; total time=   2.5s\n",
      "[CV] END bootstrap=False, max_depth=30, max_features=sqrt, min_samples_leaf=2, min_samples_split=10, n_estimators=800; total time=   1.0s\n",
      "[CV] END bootstrap=False, max_depth=70, max_features=1.0, min_samples_leaf=2, min_samples_split=5, n_estimators=600; total time=   0.1s\n",
      "[CV] END bootstrap=True, max_depth=20, max_features=sqrt, min_samples_leaf=1, min_samples_split=2, n_estimators=1000; total time=   1.3s\n",
      "[CV] END bootstrap=False, max_depth=70, max_features=sqrt, min_samples_leaf=1, min_samples_split=5, n_estimators=1600; total time=   2.2s\n",
      "[CV] END bootstrap=True, max_depth=None, max_features=1.0, min_samples_leaf=2, min_samples_split=2, n_estimators=1800; total time=   0.4s\n",
      "[CV] END bootstrap=False, max_depth=80, max_features=sqrt, min_samples_leaf=1, min_samples_split=5, n_estimators=1400; total time=   1.9s\n",
      "[CV] END bootstrap=False, max_depth=100, max_features=1.0, min_samples_leaf=4, min_samples_split=10, n_estimators=2000; total time=   0.4s\n",
      "[CV] END bootstrap=True, max_depth=20, max_features=sqrt, min_samples_leaf=2, min_samples_split=2, n_estimators=1200; total time=   1.4s\n",
      "[CV] END bootstrap=False, max_depth=50, max_features=sqrt, min_samples_leaf=2, min_samples_split=2, n_estimators=800; total time=   1.0s\n",
      "[CV] END bootstrap=True, max_depth=50, max_features=sqrt, min_samples_leaf=4, min_samples_split=10, n_estimators=800; total time=   0.9s\n",
      "[CV] END bootstrap=False, max_depth=20, max_features=sqrt, min_samples_leaf=2, min_samples_split=10, n_estimators=800; total time=   1.2s\n",
      "[CV] END bootstrap=True, max_depth=20, max_features=sqrt, min_samples_leaf=2, min_samples_split=5, n_estimators=1200; total time=   1.9s\n",
      "[CV] END bootstrap=True, max_depth=10, max_features=1.0, min_samples_leaf=4, min_samples_split=5, n_estimators=200; total time=   0.0s\n",
      "[CV] END bootstrap=True, max_depth=10, max_features=1.0, min_samples_leaf=4, min_samples_split=5, n_estimators=200; total time=   0.0s\n",
      "[CV] END bootstrap=True, max_depth=10, max_features=1.0, min_samples_leaf=4, min_samples_split=5, n_estimators=200; total time=   0.0s\n",
      "[CV] END bootstrap=True, max_depth=60, max_features=sqrt, min_samples_leaf=2, min_samples_split=10, n_estimators=600; total time=   0.8s\n",
      "[CV] END bootstrap=True, max_depth=60, max_features=sqrt, min_samples_leaf=2, min_samples_split=10, n_estimators=600; total time=   0.8s\n",
      "[CV] END bootstrap=True, max_depth=90, max_features=sqrt, min_samples_leaf=4, min_samples_split=10, n_estimators=400; total time=   0.9s\n",
      "[CV] END bootstrap=True, max_depth=90, max_features=1.0, min_samples_leaf=2, min_samples_split=2, n_estimators=2000; total time=   0.6s\n",
      "[CV] END bootstrap=False, max_depth=80, max_features=sqrt, min_samples_leaf=4, min_samples_split=10, n_estimators=400; total time=   0.5s\n",
      "[CV] END bootstrap=False, max_depth=70, max_features=sqrt, min_samples_leaf=4, min_samples_split=2, n_estimators=1200; total time=   1.6s\n",
      "[CV] END bootstrap=False, max_depth=50, max_features=1.0, min_samples_leaf=4, min_samples_split=10, n_estimators=1000; total time=   0.2s\n",
      "[CV] END bootstrap=False, max_depth=30, max_features=1.0, min_samples_leaf=4, min_samples_split=5, n_estimators=1000; total time=   0.4s\n",
      "[CV] END bootstrap=False, max_depth=60, max_features=sqrt, min_samples_leaf=4, min_samples_split=2, n_estimators=600; total time=   0.8s\n",
      "[CV] END bootstrap=True, max_depth=10, max_features=1.0, min_samples_leaf=1, min_samples_split=5, n_estimators=1600; total time=   0.4s\n",
      "[CV] END bootstrap=True, max_depth=80, max_features=1.0, min_samples_leaf=2, min_samples_split=2, n_estimators=1800; total time=   0.5s\n",
      "[CV] END bootstrap=True, max_depth=100, max_features=1.0, min_samples_leaf=1, min_samples_split=2, n_estimators=1400; total time=   0.5s\n",
      "[CV] END bootstrap=True, max_depth=50, max_features=sqrt, min_samples_leaf=1, min_samples_split=2, n_estimators=200; total time=   0.5s\n",
      "[CV] END bootstrap=True, max_depth=10, max_features=sqrt, min_samples_leaf=4, min_samples_split=2, n_estimators=400; total time=   0.6s\n",
      "[CV] END bootstrap=False, max_depth=None, max_features=1.0, min_samples_leaf=2, min_samples_split=10, n_estimators=1200; total time=   0.4s\n",
      "[CV] END bootstrap=True, max_depth=None, max_features=1.0, min_samples_leaf=2, min_samples_split=10, n_estimators=1600; total time=   0.4s\n",
      "[CV] END bootstrap=False, max_depth=10, max_features=1.0, min_samples_leaf=4, min_samples_split=2, n_estimators=1800; total time=   0.4s\n",
      "[CV] END bootstrap=True, max_depth=70, max_features=1.0, min_samples_leaf=2, min_samples_split=2, n_estimators=1400; total time=   0.3s\n",
      "[CV] END bootstrap=True, max_depth=70, max_features=1.0, min_samples_leaf=2, min_samples_split=2, n_estimators=1400; total time=   0.4s\n",
      "[CV] END bootstrap=False, max_depth=80, max_features=sqrt, min_samples_leaf=1, min_samples_split=10, n_estimators=1000; total time=   1.6s\n",
      "[CV] END bootstrap=False, max_depth=20, max_features=sqrt, min_samples_leaf=4, min_samples_split=2, n_estimators=800; total time=   0.9s\n",
      "[CV] END bootstrap=True, max_depth=60, max_features=sqrt, min_samples_leaf=2, min_samples_split=5, n_estimators=1800; total time=   2.4s\n",
      "[CV] END bootstrap=True, max_depth=100, max_features=sqrt, min_samples_leaf=1, min_samples_split=5, n_estimators=2000; total time=   2.7s\n",
      "[CV] END bootstrap=True, max_depth=100, max_features=1.0, min_samples_leaf=4, min_samples_split=5, n_estimators=1000; total time=   0.3s\n",
      "[CV] END bootstrap=False, max_depth=40, max_features=sqrt, min_samples_leaf=1, min_samples_split=10, n_estimators=600; total time=   0.7s\n",
      "[CV] END bootstrap=True, max_depth=100, max_features=sqrt, min_samples_leaf=1, min_samples_split=5, n_estimators=400; total time=   0.5s\n",
      "[CV] END bootstrap=True, max_depth=100, max_features=sqrt, min_samples_leaf=4, min_samples_split=10, n_estimators=800; total time=   0.9s\n",
      "[CV] END bootstrap=True, max_depth=10, max_features=sqrt, min_samples_leaf=2, min_samples_split=10, n_estimators=1000; total time=   1.2s\n",
      "[CV] END bootstrap=False, max_depth=None, max_features=sqrt, min_samples_leaf=4, min_samples_split=5, n_estimators=2000; total time=   2.4s\n",
      "[CV] END bootstrap=True, max_depth=20, max_features=sqrt, min_samples_leaf=2, min_samples_split=2, n_estimators=2000; total time=   2.4s\n",
      "[CV] END bootstrap=True, max_depth=10, max_features=sqrt, min_samples_leaf=1, min_samples_split=5, n_estimators=2000; total time=   2.7s\n",
      "[CV] END bootstrap=True, max_depth=10, max_features=sqrt, min_samples_leaf=4, min_samples_split=2, n_estimators=1600; total time=   2.1s\n",
      "[CV] END bootstrap=False, max_depth=60, max_features=sqrt, min_samples_leaf=1, min_samples_split=5, n_estimators=600; total time=   0.8s\n",
      "[CV] END bootstrap=True, max_depth=70, max_features=1.0, min_samples_leaf=4, min_samples_split=10, n_estimators=400; total time=   0.1s\n",
      "[CV] END bootstrap=False, max_depth=90, max_features=sqrt, min_samples_leaf=1, min_samples_split=5, n_estimators=800; total time=   1.0s\n",
      "[CV] END bootstrap=False, max_depth=10, max_features=sqrt, min_samples_leaf=2, min_samples_split=5, n_estimators=1600; total time=   1.9s\n",
      "[CV] END bootstrap=False, max_depth=50, max_features=1.0, min_samples_leaf=4, min_samples_split=2, n_estimators=1800; total time=   0.4s\n",
      "[CV] END bootstrap=False, max_depth=50, max_features=1.0, min_samples_leaf=4, min_samples_split=2, n_estimators=1800; total time=   0.4s\n",
      "[CV] END bootstrap=False, max_depth=110, max_features=1.0, min_samples_leaf=2, min_samples_split=10, n_estimators=1800; total time=   0.4s\n",
      "[CV] END bootstrap=True, max_depth=10, max_features=sqrt, min_samples_leaf=1, min_samples_split=5, n_estimators=2000; total time=   2.3s\n",
      "[CV] END bootstrap=True, max_depth=10, max_features=sqrt, min_samples_leaf=4, min_samples_split=2, n_estimators=1600; total time=   1.8s\n",
      "[CV] END bootstrap=False, max_depth=60, max_features=sqrt, min_samples_leaf=1, min_samples_split=5, n_estimators=600; total time=   0.7s\n",
      "[CV] END bootstrap=False, max_depth=50, max_features=1.0, min_samples_leaf=1, min_samples_split=2, n_estimators=1000; total time=   0.2s\n",
      "[CV] END bootstrap=False, max_depth=10, max_features=1.0, min_samples_leaf=4, min_samples_split=5, n_estimators=1800; total time=   0.4s\n",
      "[CV] END bootstrap=False, max_depth=10, max_features=sqrt, min_samples_leaf=1, min_samples_split=10, n_estimators=2000; total time=   2.5s\n",
      "[CV] END bootstrap=False, max_depth=30, max_features=sqrt, min_samples_leaf=2, min_samples_split=10, n_estimators=800; total time=   1.0s\n",
      "[CV] END bootstrap=True, max_depth=20, max_features=sqrt, min_samples_leaf=1, min_samples_split=2, n_estimators=1000; total time=   1.4s\n",
      "[CV] END bootstrap=False, max_depth=70, max_features=sqrt, min_samples_leaf=1, min_samples_split=5, n_estimators=1600; total time=   2.2s\n",
      "[CV] END bootstrap=True, max_depth=None, max_features=1.0, min_samples_leaf=2, min_samples_split=2, n_estimators=1800; total time=   0.4s\n",
      "[CV] END bootstrap=False, max_depth=80, max_features=sqrt, min_samples_leaf=1, min_samples_split=5, n_estimators=1400; total time=   1.9s\n",
      "[CV] END bootstrap=True, max_depth=20, max_features=sqrt, min_samples_leaf=2, min_samples_split=5, n_estimators=1000; total time=   1.2s\n",
      "[CV] END bootstrap=False, max_depth=20, max_features=sqrt, min_samples_leaf=4, min_samples_split=10, n_estimators=1200; total time=   1.3s\n",
      "[CV] END bootstrap=False, max_depth=100, max_features=sqrt, min_samples_leaf=1, min_samples_split=5, n_estimators=800; total time=   1.1s\n",
      "[CV] END bootstrap=True, max_depth=90, max_features=sqrt, min_samples_leaf=4, min_samples_split=2, n_estimators=1800; total time=   2.8s\n",
      "[CV] END bootstrap=True, max_depth=100, max_features=1.0, min_samples_leaf=1, min_samples_split=2, n_estimators=800; total time=   0.2s\n",
      "[CV] END bootstrap=True, max_depth=None, max_features=1.0, min_samples_leaf=2, min_samples_split=5, n_estimators=800; total time=   0.2s\n",
      "[CV] END bootstrap=True, max_depth=60, max_features=sqrt, min_samples_leaf=2, min_samples_split=2, n_estimators=1000; total time=   1.6s\n",
      "[CV] END bootstrap=True, max_depth=90, max_features=sqrt, min_samples_leaf=4, min_samples_split=2, n_estimators=800; total time=   1.5s\n",
      "[CV] END bootstrap=True, max_depth=90, max_features=1.0, min_samples_leaf=2, min_samples_split=2, n_estimators=2000; total time=   0.5s\n",
      "[CV] END bootstrap=False, max_depth=80, max_features=sqrt, min_samples_leaf=4, min_samples_split=10, n_estimators=400; total time=   0.5s\n",
      "[CV] END bootstrap=False, max_depth=70, max_features=sqrt, min_samples_leaf=4, min_samples_split=2, n_estimators=1200; total time=   1.6s\n",
      "[CV] END bootstrap=False, max_depth=50, max_features=1.0, min_samples_leaf=4, min_samples_split=10, n_estimators=1000; total time=   0.3s\n",
      "[CV] END bootstrap=False, max_depth=30, max_features=1.0, min_samples_leaf=4, min_samples_split=5, n_estimators=1000; total time=   0.3s\n",
      "[CV] END bootstrap=False, max_depth=None, max_features=sqrt, min_samples_leaf=2, min_samples_split=5, n_estimators=1400; total time=   2.1s\n",
      "[CV] END bootstrap=True, max_depth=50, max_features=sqrt, min_samples_leaf=1, min_samples_split=2, n_estimators=200; total time=   0.3s\n",
      "[CV] END bootstrap=True, max_depth=10, max_features=sqrt, min_samples_leaf=4, min_samples_split=2, n_estimators=400; total time=   0.5s\n",
      "[CV] END bootstrap=False, max_depth=80, max_features=1.0, min_samples_leaf=4, min_samples_split=10, n_estimators=1000; total time=   0.2s\n",
      "[CV] END bootstrap=False, max_depth=80, max_features=1.0, min_samples_leaf=4, min_samples_split=10, n_estimators=1000; total time=   0.3s\n",
      "[CV] END bootstrap=False, max_depth=None, max_features=1.0, min_samples_leaf=2, min_samples_split=10, n_estimators=1200; total time=   0.2s\n",
      "[CV] END bootstrap=True, max_depth=20, max_features=sqrt, min_samples_leaf=1, min_samples_split=10, n_estimators=1600; total time=   2.3s\n",
      "[CV] END bootstrap=False, max_depth=60, max_features=1.0, min_samples_leaf=2, min_samples_split=10, n_estimators=2000; total time=   0.5s\n",
      "[CV] END bootstrap=False, max_depth=20, max_features=sqrt, min_samples_leaf=4, min_samples_split=2, n_estimators=800; total time=   1.0s\n",
      "[CV] END bootstrap=True, max_depth=60, max_features=sqrt, min_samples_leaf=2, min_samples_split=5, n_estimators=1800; total time=   2.2s\n",
      "[CV] END bootstrap=True, max_depth=100, max_features=sqrt, min_samples_leaf=1, min_samples_split=5, n_estimators=2000; total time=   2.7s\n",
      "[CV] END bootstrap=False, max_depth=60, max_features=1.0, min_samples_leaf=4, min_samples_split=2, n_estimators=2000; total time=   0.4s\n",
      "[CV] END bootstrap=False, max_depth=None, max_features=1.0, min_samples_leaf=2, min_samples_split=10, n_estimators=800; total time=   0.2s\n",
      "[CV] END bootstrap=False, max_depth=40, max_features=sqrt, min_samples_leaf=1, min_samples_split=10, n_estimators=600; total time=   0.9s\n",
      "[CV] END bootstrap=True, max_depth=100, max_features=sqrt, min_samples_leaf=1, min_samples_split=5, n_estimators=400; total time=   0.5s\n",
      "[CV] END bootstrap=True, max_depth=100, max_features=sqrt, min_samples_leaf=4, min_samples_split=10, n_estimators=800; total time=   0.9s\n",
      "[CV] END bootstrap=True, max_depth=10, max_features=sqrt, min_samples_leaf=2, min_samples_split=10, n_estimators=1000; total time=   1.1s\n",
      "[CV] END bootstrap=False, max_depth=None, max_features=sqrt, min_samples_leaf=4, min_samples_split=5, n_estimators=2000; total time=   2.3s\n",
      "[CV] END bootstrap=False, max_depth=100, max_features=1.0, min_samples_leaf=4, min_samples_split=5, n_estimators=200; total time=   0.0s\n",
      "[CV] END bootstrap=False, max_depth=100, max_features=1.0, min_samples_leaf=4, min_samples_split=5, n_estimators=200; total time=   0.0s\n",
      "[CV] END bootstrap=False, max_depth=100, max_features=1.0, min_samples_leaf=4, min_samples_split=5, n_estimators=200; total time=   0.0s\n",
      "[CV] END bootstrap=True, max_depth=20, max_features=sqrt, min_samples_leaf=2, min_samples_split=2, n_estimators=2000; total time=   2.3s\n",
      "[CV] END bootstrap=True, max_depth=10, max_features=sqrt, min_samples_leaf=1, min_samples_split=5, n_estimators=2000; total time=   2.7s\n",
      "[CV] END bootstrap=False, max_depth=30, max_features=sqrt, min_samples_leaf=4, min_samples_split=5, n_estimators=800; total time=   0.9s\n",
      "[CV] END bootstrap=False, max_depth=100, max_features=sqrt, min_samples_leaf=2, min_samples_split=5, n_estimators=1000; total time=   1.5s\n",
      "[CV] END bootstrap=False, max_depth=50, max_features=1.0, min_samples_leaf=1, min_samples_split=2, n_estimators=1000; total time=   0.2s\n",
      "[CV] END bootstrap=False, max_depth=10, max_features=1.0, min_samples_leaf=4, min_samples_split=5, n_estimators=1800; total time=   0.4s\n",
      "[CV] END bootstrap=False, max_depth=10, max_features=sqrt, min_samples_leaf=1, min_samples_split=10, n_estimators=2000; total time=   2.4s\n",
      "[CV] END bootstrap=False, max_depth=30, max_features=sqrt, min_samples_leaf=2, min_samples_split=10, n_estimators=800; total time=   1.0s\n",
      "[CV] END bootstrap=False, max_depth=110, max_features=1.0, min_samples_leaf=2, min_samples_split=10, n_estimators=1800; total time=   0.4s\n",
      "[CV] END bootstrap=True, max_depth=80, max_features=1.0, min_samples_leaf=1, min_samples_split=5, n_estimators=600; total time=   0.1s\n",
      "[CV] END bootstrap=False, max_depth=30, max_features=sqrt, min_samples_leaf=1, min_samples_split=10, n_estimators=1800; total time=   2.5s\n",
      "[CV] END bootstrap=True, max_depth=80, max_features=sqrt, min_samples_leaf=4, min_samples_split=5, n_estimators=1400; total time=   1.6s\n",
      "[CV] END bootstrap=False, max_depth=None, max_features=sqrt, min_samples_leaf=1, min_samples_split=2, n_estimators=400; total time=   0.6s\n",
      "[CV] END bootstrap=False, max_depth=40, max_features=1.0, min_samples_leaf=1, min_samples_split=2, n_estimators=1400; total time=   0.3s\n",
      "[CV] END bootstrap=True, max_depth=30, max_features=sqrt, min_samples_leaf=1, min_samples_split=5, n_estimators=400; total time=   0.5s\n",
      "[CV] END bootstrap=False, max_depth=10, max_features=sqrt, min_samples_leaf=2, min_samples_split=5, n_estimators=1200; total time=   1.5s\n",
      "[CV] END bootstrap=False, max_depth=30, max_features=1.0, min_samples_leaf=4, min_samples_split=2, n_estimators=2000; total time=   0.5s\n",
      "[CV] END bootstrap=True, max_depth=10, max_features=sqrt, min_samples_leaf=4, min_samples_split=2, n_estimators=1600; total time=   1.9s\n",
      "[CV] END bootstrap=False, max_depth=60, max_features=sqrt, min_samples_leaf=1, min_samples_split=5, n_estimators=600; total time=   0.8s\n",
      "[CV] END bootstrap=True, max_depth=70, max_features=1.0, min_samples_leaf=4, min_samples_split=10, n_estimators=400; total time=   0.1s\n",
      "[CV] END bootstrap=False, max_depth=90, max_features=sqrt, min_samples_leaf=1, min_samples_split=5, n_estimators=800; total time=   1.2s\n",
      "[CV] END bootstrap=False, max_depth=10, max_features=sqrt, min_samples_leaf=2, min_samples_split=5, n_estimators=1600; total time=   1.9s\n",
      "[CV] END bootstrap=False, max_depth=50, max_features=1.0, min_samples_leaf=4, min_samples_split=2, n_estimators=1800; total time=   0.4s\n",
      "[CV] END bootstrap=True, max_depth=20, max_features=sqrt, min_samples_leaf=1, min_samples_split=2, n_estimators=1000; total time=   1.3s\n",
      "[CV] END bootstrap=False, max_depth=70, max_features=sqrt, min_samples_leaf=1, min_samples_split=5, n_estimators=1600; total time=   2.3s\n",
      "[CV] END bootstrap=True, max_depth=None, max_features=1.0, min_samples_leaf=2, min_samples_split=2, n_estimators=1800; total time=   0.6s\n",
      "[CV] END bootstrap=False, max_depth=80, max_features=sqrt, min_samples_leaf=1, min_samples_split=5, n_estimators=1400; total time=   1.9s\n",
      "[CV] END bootstrap=False, max_depth=100, max_features=1.0, min_samples_leaf=4, min_samples_split=10, n_estimators=2000; total time=   0.4s\n",
      "[CV] END bootstrap=True, max_depth=20, max_features=sqrt, min_samples_leaf=2, min_samples_split=2, n_estimators=1200; total time=   1.5s\n",
      "[CV] END bootstrap=False, max_depth=50, max_features=sqrt, min_samples_leaf=2, min_samples_split=2, n_estimators=800; total time=   1.1s\n",
      "[CV] END bootstrap=True, max_depth=50, max_features=sqrt, min_samples_leaf=4, min_samples_split=10, n_estimators=800; total time=   1.1s\n",
      "[CV] END bootstrap=False, max_depth=20, max_features=sqrt, min_samples_leaf=2, min_samples_split=10, n_estimators=800; total time=   1.5s\n",
      "[CV] END bootstrap=True, max_depth=20, max_features=sqrt, min_samples_leaf=2, min_samples_split=5, n_estimators=1200; total time=   1.7s\n",
      "[CV] END bootstrap=True, max_depth=60, max_features=sqrt, min_samples_leaf=2, min_samples_split=10, n_estimators=600; total time=   1.1s\n",
      "[CV] END bootstrap=True, max_depth=90, max_features=sqrt, min_samples_leaf=4, min_samples_split=10, n_estimators=400; total time=   0.6s\n",
      "[CV] END bootstrap=True, max_depth=110, max_features=sqrt, min_samples_leaf=1, min_samples_split=2, n_estimators=1000; total time=   1.6s\n",
      "[CV] END bootstrap=False, max_depth=110, max_features=sqrt, min_samples_leaf=2, min_samples_split=2, n_estimators=600; total time=   0.9s\n",
      "[CV] END bootstrap=False, max_depth=20, max_features=1.0, min_samples_leaf=1, min_samples_split=2, n_estimators=1800; total time=   0.4s\n",
      "[CV] END bootstrap=False, max_depth=50, max_features=1.0, min_samples_leaf=2, min_samples_split=10, n_estimators=2000; total time=   0.5s\n",
      "[CV] END bootstrap=False, max_depth=50, max_features=1.0, min_samples_leaf=4, min_samples_split=10, n_estimators=1000; total time=   0.3s\n",
      "[CV] END bootstrap=False, max_depth=None, max_features=sqrt, min_samples_leaf=2, min_samples_split=5, n_estimators=1400; total time=   2.1s\n",
      "[CV] END bootstrap=True, max_depth=80, max_features=sqrt, min_samples_leaf=2, min_samples_split=10, n_estimators=1400; total time=   2.1s\n",
      "[CV] END bootstrap=True, max_depth=None, max_features=1.0, min_samples_leaf=2, min_samples_split=10, n_estimators=1600; total time=   0.4s\n",
      "[CV] END bootstrap=False, max_depth=10, max_features=1.0, min_samples_leaf=4, min_samples_split=2, n_estimators=1800; total time=   0.4s\n",
      "[CV] END bootstrap=False, max_depth=80, max_features=sqrt, min_samples_leaf=1, min_samples_split=10, n_estimators=1000; total time=   1.5s\n",
      "[CV] END bootstrap=False, max_depth=20, max_features=sqrt, min_samples_leaf=4, min_samples_split=2, n_estimators=800; total time=   1.2s\n",
      "[CV] END bootstrap=True, max_depth=60, max_features=sqrt, min_samples_leaf=2, min_samples_split=5, n_estimators=1800; total time=   2.2s\n",
      "[CV] END bootstrap=True, max_depth=100, max_features=sqrt, min_samples_leaf=1, min_samples_split=5, n_estimators=2000; total time=   2.6s\n",
      "[CV] END bootstrap=True, max_depth=100, max_features=1.0, min_samples_leaf=2, min_samples_split=10, n_estimators=600; total time=   0.2s\n",
      "[CV] END bootstrap=True, max_depth=100, max_features=1.0, min_samples_leaf=4, min_samples_split=5, n_estimators=1000; total time=   0.2s\n",
      "[CV] END bootstrap=False, max_depth=70, max_features=sqrt, min_samples_leaf=4, min_samples_split=5, n_estimators=800; total time=   1.2s\n",
      "[CV] END bootstrap=True, max_depth=80, max_features=sqrt, min_samples_leaf=4, min_samples_split=2, n_estimators=1600; total time=   1.8s\n",
      "[CV] END bootstrap=True, max_depth=110, max_features=sqrt, min_samples_leaf=1, min_samples_split=10, n_estimators=600; total time=   0.7s\n",
      "[CV] END bootstrap=True, max_depth=40, max_features=sqrt, min_samples_leaf=1, min_samples_split=5, n_estimators=800; total time=   1.0s\n",
      "[CV] END bootstrap=True, max_depth=40, max_features=1.0, min_samples_leaf=4, min_samples_split=2, n_estimators=600; total time=   0.1s\n",
      "[CV] END bootstrap=False, max_depth=30, max_features=sqrt, min_samples_leaf=4, min_samples_split=2, n_estimators=600; total time=   0.7s\n",
      "[CV] END bootstrap=False, max_depth=40, max_features=1.0, min_samples_leaf=2, min_samples_split=10, n_estimators=400; total time=   0.1s\n",
      "[CV] END bootstrap=False, max_depth=40, max_features=1.0, min_samples_leaf=2, min_samples_split=10, n_estimators=400; total time=   0.1s\n",
      "[CV] END bootstrap=False, max_depth=10, max_features=1.0, min_samples_leaf=1, min_samples_split=2, n_estimators=1000; total time=   0.2s\n",
      "[CV] END bootstrap=True, max_depth=20, max_features=sqrt, min_samples_leaf=2, min_samples_split=2, n_estimators=2000; total time=   2.4s\n",
      "[CV] END bootstrap=True, max_depth=10, max_features=sqrt, min_samples_leaf=1, min_samples_split=5, n_estimators=2000; total time=   2.7s\n",
      "[CV] END bootstrap=False, max_depth=30, max_features=sqrt, min_samples_leaf=4, min_samples_split=5, n_estimators=800; total time=   0.9s\n",
      "[CV] END bootstrap=False, max_depth=100, max_features=sqrt, min_samples_leaf=2, min_samples_split=5, n_estimators=1000; total time=   1.5s\n",
      "[CV] END bootstrap=False, max_depth=50, max_features=1.0, min_samples_leaf=1, min_samples_split=2, n_estimators=1000; total time=   0.2s\n",
      "[CV] END bootstrap=False, max_depth=10, max_features=1.0, min_samples_leaf=4, min_samples_split=5, n_estimators=1800; total time=   0.4s\n",
      "[CV] END bootstrap=False, max_depth=10, max_features=sqrt, min_samples_leaf=1, min_samples_split=10, n_estimators=2000; total time=   2.2s\n",
      "[CV] END bootstrap=False, max_depth=30, max_features=sqrt, min_samples_leaf=2, min_samples_split=10, n_estimators=800; total time=   0.9s\n",
      "[CV] END bootstrap=False, max_depth=70, max_features=1.0, min_samples_leaf=2, min_samples_split=5, n_estimators=600; total time=   0.1s\n",
      "[CV] END bootstrap=True, max_depth=20, max_features=sqrt, min_samples_leaf=1, min_samples_split=2, n_estimators=1000; total time=   1.5s\n",
      "[CV] END bootstrap=False, max_depth=70, max_features=sqrt, min_samples_leaf=1, min_samples_split=5, n_estimators=1600; total time=   2.3s\n",
      "[CV] END bootstrap=True, max_depth=None, max_features=1.0, min_samples_leaf=2, min_samples_split=2, n_estimators=1800; total time=   0.4s\n",
      "[CV] END bootstrap=False, max_depth=80, max_features=sqrt, min_samples_leaf=1, min_samples_split=5, n_estimators=1400; total time=   1.9s\n",
      "[CV] END bootstrap=False, max_depth=100, max_features=1.0, min_samples_leaf=4, min_samples_split=10, n_estimators=2000; total time=   0.5s\n"
     ]
    },
    {
     "name": "stderr",
     "output_type": "stream",
     "text": [
      "/home/jeo/anaconda3/envs/data/lib/python3.9/site-packages/sklearn/model_selection/_validation.py:378: FitFailedWarning: \n",
      "123 fits failed out of a total of 300.\n",
      "The score on these train-test partitions for these parameters will be set to nan.\n",
      "If these failures are not expected, you can try to debug them by setting error_score='raise'.\n",
      "\n",
      "Below are more details about the failures:\n",
      "--------------------------------------------------------------------------------\n",
      "69 fits failed with the following error:\n",
      "Traceback (most recent call last):\n",
      "  File \"/home/jeo/anaconda3/envs/data/lib/python3.9/site-packages/sklearn/model_selection/_validation.py\", line 686, in _fit_and_score\n",
      "    estimator.fit(X_train, y_train, **fit_params)\n",
      "  File \"/home/jeo/anaconda3/envs/data/lib/python3.9/site-packages/sklearn/ensemble/_forest.py\", line 476, in fit\n",
      "    trees = Parallel(\n",
      "  File \"/home/jeo/anaconda3/envs/data/lib/python3.9/site-packages/joblib/parallel.py\", line 1043, in __call__\n",
      "    if self.dispatch_one_batch(iterator):\n",
      "  File \"/home/jeo/anaconda3/envs/data/lib/python3.9/site-packages/joblib/parallel.py\", line 861, in dispatch_one_batch\n",
      "    self._dispatch(tasks)\n",
      "  File \"/home/jeo/anaconda3/envs/data/lib/python3.9/site-packages/joblib/parallel.py\", line 779, in _dispatch\n",
      "    job = self._backend.apply_async(batch, callback=cb)\n",
      "  File \"/home/jeo/anaconda3/envs/data/lib/python3.9/site-packages/joblib/_parallel_backends.py\", line 208, in apply_async\n",
      "    result = ImmediateResult(func)\n",
      "  File \"/home/jeo/anaconda3/envs/data/lib/python3.9/site-packages/joblib/_parallel_backends.py\", line 572, in __init__\n",
      "    self.results = batch()\n",
      "  File \"/home/jeo/anaconda3/envs/data/lib/python3.9/site-packages/joblib/parallel.py\", line 262, in __call__\n",
      "    return [func(*args, **kwargs)\n",
      "  File \"/home/jeo/anaconda3/envs/data/lib/python3.9/site-packages/joblib/parallel.py\", line 262, in <listcomp>\n",
      "    return [func(*args, **kwargs)\n",
      "  File \"/home/jeo/anaconda3/envs/data/lib/python3.9/site-packages/sklearn/utils/fixes.py\", line 117, in __call__\n",
      "    return self.function(*args, **kwargs)\n",
      "  File \"/home/jeo/anaconda3/envs/data/lib/python3.9/site-packages/sklearn/ensemble/_forest.py\", line 191, in _parallel_build_trees\n",
      "    tree.fit(X, y, sample_weight=sample_weight, check_input=False)\n",
      "  File \"/home/jeo/anaconda3/envs/data/lib/python3.9/site-packages/sklearn/tree/_classes.py\", line 1342, in fit\n",
      "    super().fit(\n",
      "  File \"/home/jeo/anaconda3/envs/data/lib/python3.9/site-packages/sklearn/tree/_classes.py\", line 317, in fit\n",
      "    raise ValueError(\n",
      "ValueError: Invalid value for max_features. Allowed string values are 'auto', 'sqrt' or 'log2'.\n",
      "\n",
      "--------------------------------------------------------------------------------\n",
      "54 fits failed with the following error:\n",
      "Traceback (most recent call last):\n",
      "  File \"/home/jeo/anaconda3/envs/data/lib/python3.9/site-packages/sklearn/model_selection/_validation.py\", line 686, in _fit_and_score\n",
      "    estimator.fit(X_train, y_train, **fit_params)\n",
      "  File \"/home/jeo/anaconda3/envs/data/lib/python3.9/site-packages/sklearn/ensemble/_forest.py\", line 476, in fit\n",
      "    trees = Parallel(\n",
      "  File \"/home/jeo/anaconda3/envs/data/lib/python3.9/site-packages/joblib/parallel.py\", line 1043, in __call__\n",
      "    if self.dispatch_one_batch(iterator):\n",
      "  File \"/home/jeo/anaconda3/envs/data/lib/python3.9/site-packages/joblib/parallel.py\", line 861, in dispatch_one_batch\n",
      "    self._dispatch(tasks)\n",
      "  File \"/home/jeo/anaconda3/envs/data/lib/python3.9/site-packages/joblib/parallel.py\", line 779, in _dispatch\n",
      "    job = self._backend.apply_async(batch, callback=cb)\n",
      "  File \"/home/jeo/anaconda3/envs/data/lib/python3.9/site-packages/joblib/_parallel_backends.py\", line 208, in apply_async\n",
      "    result = ImmediateResult(func)\n",
      "  File \"/home/jeo/anaconda3/envs/data/lib/python3.9/site-packages/joblib/_parallel_backends.py\", line 572, in __init__\n",
      "    self.results = batch()\n",
      "  File \"/home/jeo/anaconda3/envs/data/lib/python3.9/site-packages/joblib/parallel.py\", line 262, in __call__\n",
      "    return [func(*args, **kwargs)\n",
      "  File \"/home/jeo/anaconda3/envs/data/lib/python3.9/site-packages/joblib/parallel.py\", line 262, in <listcomp>\n",
      "    return [func(*args, **kwargs)\n",
      "  File \"/home/jeo/anaconda3/envs/data/lib/python3.9/site-packages/sklearn/utils/fixes.py\", line 117, in __call__\n",
      "    return self.function(*args, **kwargs)\n",
      "  File \"/home/jeo/anaconda3/envs/data/lib/python3.9/site-packages/sklearn/ensemble/_forest.py\", line 189, in _parallel_build_trees\n",
      "    tree.fit(X, y, sample_weight=curr_sample_weight, check_input=False)\n",
      "  File \"/home/jeo/anaconda3/envs/data/lib/python3.9/site-packages/sklearn/tree/_classes.py\", line 1342, in fit\n",
      "    super().fit(\n",
      "  File \"/home/jeo/anaconda3/envs/data/lib/python3.9/site-packages/sklearn/tree/_classes.py\", line 317, in fit\n",
      "    raise ValueError(\n",
      "ValueError: Invalid value for max_features. Allowed string values are 'auto', 'sqrt' or 'log2'.\n",
      "\n",
      "  warnings.warn(some_fits_failed_message, FitFailedWarning)\n",
      "/home/jeo/anaconda3/envs/data/lib/python3.9/site-packages/sklearn/model_selection/_search.py:953: UserWarning: One or more of the test scores are non-finite: [0.71795409 0.71941091 0.69855616        nan 0.72859877 0.71149921\n",
      " 0.69364799 0.69160564        nan        nan        nan 0.69140242\n",
      " 0.70416408 0.6990272  0.7030891         nan        nan 0.71438421\n",
      "        nan        nan 0.69935616 0.69136178 0.72877379        nan\n",
      " 0.6911899  0.68489426        nan 0.72090539        nan 0.71870601\n",
      " 0.71324811 0.69147059 0.69154769 0.72765022 0.72865999 0.70243917\n",
      " 0.72057562        nan        nan 0.71986907        nan 0.72408351\n",
      " 0.7287015  0.7277634         nan 0.71407951        nan 0.71181209\n",
      " 0.71169879 0.6908721         nan        nan        nan        nan\n",
      " 0.69378245 0.71022442        nan        nan        nan 0.7224915\n",
      " 0.71568291 0.72819257        nan        nan 0.72107371        nan\n",
      "        nan        nan 0.70038979        nan 0.71138461 0.71214064\n",
      " 0.71989926        nan        nan 0.7028329  0.72028439 0.7177648\n",
      " 0.72062632        nan        nan        nan        nan        nan\n",
      " 0.71061062 0.69947358 0.71769027 0.7287639  0.72826066 0.72433123\n",
      " 0.72205595 0.7117289  0.7176394         nan 0.71167864        nan\n",
      "        nan        nan 0.71965611        nan]\n",
      "  warnings.warn(\n"
     ]
    }
   ],
   "source": [
    "with mlflow.start_run(experiment_id = experiment.experiment_id):\n",
    "    random_forest_regressor = RandomForestRegressor()\n",
    "    best_random_forest = RandomizedSearchCV(\n",
    "        estimator = random_forest_regressor,\n",
    "        param_distributions = random_grid,\n",
    "        n_iter = 100,\n",
    "        cv = 3,\n",
    "        verbose=2,\n",
    "        random_state=42,\n",
    "        n_jobs = -1)\n",
    "    best_random_forest.fit(x_train, y_train.ravel())\n",
    "    r2 = best_random_forest.score(x_train, y_train)\n",
    "    rmse = mean_squared_error(y_test, best_random_forest.predict(x_test), squared=False)\n",
    "    signature = infer_signature(x_train, best_random_forest.predict(x_train))\n",
    "    mlflow.log_param(\"n_comp_pca\", pca.n_components)\n",
    "    mlflow.log_metric('rmse', rmse)\n",
    "    mlflow.log_metric('r2', r2)\n",
    "    mlflow.sklearn.log_model(random_forest_regressor, \"random_forest_regressor_sin_out_price\", signature=signature)"
   ],
   "metadata": {
    "collapsed": false,
    "pycharm": {
     "name": "#%%\n"
    }
   }
  },
  {
   "cell_type": "code",
   "execution_count": 100,
   "outputs": [
    {
     "data": {
      "text/plain": "(0.8747916705341912, 0.5113198862236423)"
     },
     "execution_count": 100,
     "metadata": {},
     "output_type": "execute_result"
    }
   ],
   "source": [
    "r2, rmse"
   ],
   "metadata": {
    "collapsed": false,
    "pycharm": {
     "name": "#%%\n"
    }
   }
  },
  {
   "cell_type": "code",
   "execution_count": 63,
   "outputs": [
    {
     "name": "stdout",
     "output_type": "stream",
     "text": [
      "RMSE: 0.5178\n"
     ]
    }
   ],
   "source": [
    "x_train, x_test, y_train, y_test = train_test_split(x_final, y, test_size=0.2, random_state=42)\n",
    "ml = sm.OLS(y_train, sm.add_constant(x_train))\n",
    "ml_results = ml.fit()\n",
    "y_pred = ml_results.predict(sm.add_constant(x_test))\n",
    "print(\"RMSE: %.4f\" % mean_squared_error(y_test,y_pred, squared=False))"
   ],
   "metadata": {
    "collapsed": false,
    "pycharm": {
     "name": "#%%\n"
    }
   }
  },
  {
   "cell_type": "code",
   "execution_count": 64,
   "outputs": [
    {
     "data": {
      "text/plain": "<class 'statsmodels.iolib.summary.Summary'>\n\"\"\"\n                            OLS Regression Results                            \n==============================================================================\nDep. Variable:                      y   R-squared:                       0.756\nModel:                            OLS   Adj. R-squared:                  0.754\nMethod:                 Least Squares   F-statistic:                     328.5\nDate:                Sun, 23 Oct 2022   Prob (F-statistic):          3.20e-285\nTime:                        13:03:05   Log-Likelihood:                -691.49\nNo. Observations:                 965   AIC:                             1403.\nDf Residuals:                     955   BIC:                             1452.\nDf Model:                           9                                         \nCovariance Type:            nonrobust                                         \n===================================================================================\n                      coef    std err          t      P>|t|      [0.025      0.975]\n-----------------------------------------------------------------------------------\nconst              -0.1338      0.043     -3.105      0.002      -0.218      -0.049\nMfg_Year            0.6419      0.022     29.660      0.000       0.599       0.684\nAutomatic_airco    -0.0276      0.206     -0.134      0.893      -0.431       0.376\nWeight              0.1645      0.017      9.481      0.000       0.130       0.199\nKM                 -0.2558      0.019    -13.461      0.000      -0.293      -0.219\nCD_Player           0.0585      0.048      1.230      0.219      -0.035       0.152\nAirco               0.1655      0.040      4.163      0.000       0.087       0.243\nPowered_Windows     0.1236      0.038      3.288      0.001       0.050       0.197\nHP                  0.0478      0.017      2.760      0.006       0.014       0.082\nABS                 0.0035      0.044      0.080      0.937      -0.083       0.090\n==============================================================================\nOmnibus:                      144.847   Durbin-Watson:                   2.027\nProb(Omnibus):                  0.000   Jarque-Bera (JB):              765.943\nSkew:                          -0.566   Prob(JB):                    4.76e-167\nKurtosis:                       7.215   Cond. No.                         19.7\n==============================================================================\n\nNotes:\n[1] Standard Errors assume that the covariance matrix of the errors is correctly specified.\n\"\"\"",
      "text/html": "<table class=\"simpletable\">\n<caption>OLS Regression Results</caption>\n<tr>\n  <th>Dep. Variable:</th>            <td>y</td>        <th>  R-squared:         </th> <td>   0.756</td> \n</tr>\n<tr>\n  <th>Model:</th>                   <td>OLS</td>       <th>  Adj. R-squared:    </th> <td>   0.754</td> \n</tr>\n<tr>\n  <th>Method:</th>             <td>Least Squares</td>  <th>  F-statistic:       </th> <td>   328.5</td> \n</tr>\n<tr>\n  <th>Date:</th>             <td>Sun, 23 Oct 2022</td> <th>  Prob (F-statistic):</th> <td>3.20e-285</td>\n</tr>\n<tr>\n  <th>Time:</th>                 <td>13:03:05</td>     <th>  Log-Likelihood:    </th> <td> -691.49</td> \n</tr>\n<tr>\n  <th>No. Observations:</th>      <td>   965</td>      <th>  AIC:               </th> <td>   1403.</td> \n</tr>\n<tr>\n  <th>Df Residuals:</th>          <td>   955</td>      <th>  BIC:               </th> <td>   1452.</td> \n</tr>\n<tr>\n  <th>Df Model:</th>              <td>     9</td>      <th>                     </th>     <td> </td>    \n</tr>\n<tr>\n  <th>Covariance Type:</th>      <td>nonrobust</td>    <th>                     </th>     <td> </td>    \n</tr>\n</table>\n<table class=\"simpletable\">\n<tr>\n         <td></td>            <th>coef</th>     <th>std err</th>      <th>t</th>      <th>P>|t|</th>  <th>[0.025</th>    <th>0.975]</th>  \n</tr>\n<tr>\n  <th>const</th>           <td>   -0.1338</td> <td>    0.043</td> <td>   -3.105</td> <td> 0.002</td> <td>   -0.218</td> <td>   -0.049</td>\n</tr>\n<tr>\n  <th>Mfg_Year</th>        <td>    0.6419</td> <td>    0.022</td> <td>   29.660</td> <td> 0.000</td> <td>    0.599</td> <td>    0.684</td>\n</tr>\n<tr>\n  <th>Automatic_airco</th> <td>   -0.0276</td> <td>    0.206</td> <td>   -0.134</td> <td> 0.893</td> <td>   -0.431</td> <td>    0.376</td>\n</tr>\n<tr>\n  <th>Weight</th>          <td>    0.1645</td> <td>    0.017</td> <td>    9.481</td> <td> 0.000</td> <td>    0.130</td> <td>    0.199</td>\n</tr>\n<tr>\n  <th>KM</th>              <td>   -0.2558</td> <td>    0.019</td> <td>  -13.461</td> <td> 0.000</td> <td>   -0.293</td> <td>   -0.219</td>\n</tr>\n<tr>\n  <th>CD_Player</th>       <td>    0.0585</td> <td>    0.048</td> <td>    1.230</td> <td> 0.219</td> <td>   -0.035</td> <td>    0.152</td>\n</tr>\n<tr>\n  <th>Airco</th>           <td>    0.1655</td> <td>    0.040</td> <td>    4.163</td> <td> 0.000</td> <td>    0.087</td> <td>    0.243</td>\n</tr>\n<tr>\n  <th>Powered_Windows</th> <td>    0.1236</td> <td>    0.038</td> <td>    3.288</td> <td> 0.001</td> <td>    0.050</td> <td>    0.197</td>\n</tr>\n<tr>\n  <th>HP</th>              <td>    0.0478</td> <td>    0.017</td> <td>    2.760</td> <td> 0.006</td> <td>    0.014</td> <td>    0.082</td>\n</tr>\n<tr>\n  <th>ABS</th>             <td>    0.0035</td> <td>    0.044</td> <td>    0.080</td> <td> 0.937</td> <td>   -0.083</td> <td>    0.090</td>\n</tr>\n</table>\n<table class=\"simpletable\">\n<tr>\n  <th>Omnibus:</th>       <td>144.847</td> <th>  Durbin-Watson:     </th> <td>   2.027</td> \n</tr>\n<tr>\n  <th>Prob(Omnibus):</th> <td> 0.000</td>  <th>  Jarque-Bera (JB):  </th> <td> 765.943</td> \n</tr>\n<tr>\n  <th>Skew:</th>          <td>-0.566</td>  <th>  Prob(JB):          </th> <td>4.76e-167</td>\n</tr>\n<tr>\n  <th>Kurtosis:</th>      <td> 7.215</td>  <th>  Cond. No.          </th> <td>    19.7</td> \n</tr>\n</table><br/><br/>Notes:<br/>[1] Standard Errors assume that the covariance matrix of the errors is correctly specified."
     },
     "execution_count": 64,
     "metadata": {},
     "output_type": "execute_result"
    }
   ],
   "source": [
    "ml_results.summary()"
   ],
   "metadata": {
    "collapsed": false,
    "pycharm": {
     "name": "#%%\n"
    }
   }
  },
  {
   "cell_type": "code",
   "execution_count": 39,
   "outputs": [
    {
     "data": {
      "text/plain": "<pandas.io.formats.style.Styler at 0x7f29a95f3df0>",
      "text/html": "<style type=\"text/css\">\n#T_48f0e_row0_col0, #T_48f0e_row1_col1, #T_48f0e_row2_col2, #T_48f0e_row3_col3, #T_48f0e_row4_col4, #T_48f0e_row5_col5 {\n  background-color: #00441b;\n  color: #f1f1f1;\n}\n#T_48f0e_row0_col1 {\n  background-color: #e5f5e1;\n  color: #000000;\n}\n#T_48f0e_row0_col2 {\n  background-color: #edf8ea;\n  color: #000000;\n}\n#T_48f0e_row0_col3 {\n  background-color: #bae3b3;\n  color: #000000;\n}\n#T_48f0e_row0_col4, #T_48f0e_row5_col1 {\n  background-color: #d0edca;\n  color: #000000;\n}\n#T_48f0e_row0_col5 {\n  background-color: #006d2c;\n  color: #f1f1f1;\n}\n#T_48f0e_row1_col0 {\n  background-color: #91d28e;\n  color: #000000;\n}\n#T_48f0e_row1_col2 {\n  background-color: #87cd86;\n  color: #000000;\n}\n#T_48f0e_row1_col3 {\n  background-color: #bbe4b4;\n  color: #000000;\n}\n#T_48f0e_row1_col4 {\n  background-color: #caeac3;\n  color: #000000;\n}\n#T_48f0e_row1_col5 {\n  background-color: #6dc072;\n  color: #000000;\n}\n#T_48f0e_row2_col0, #T_48f0e_row2_col3, #T_48f0e_row2_col4, #T_48f0e_row2_col5, #T_48f0e_row4_col1, #T_48f0e_row5_col2 {\n  background-color: #f7fcf5;\n  color: #000000;\n}\n#T_48f0e_row2_col1 {\n  background-color: #e9f7e5;\n  color: #000000;\n}\n#T_48f0e_row3_col0 {\n  background-color: #7fc97f;\n  color: #000000;\n}\n#T_48f0e_row3_col1, #T_48f0e_row4_col2 {\n  background-color: #d5efcf;\n  color: #000000;\n}\n#T_48f0e_row3_col2 {\n  background-color: #b7e2b1;\n  color: #000000;\n}\n#T_48f0e_row3_col4 {\n  background-color: #9ed798;\n  color: #000000;\n}\n#T_48f0e_row3_col5 {\n  background-color: #55b567;\n  color: #f1f1f1;\n}\n#T_48f0e_row4_col0 {\n  background-color: #b4e1ad;\n  color: #000000;\n}\n#T_48f0e_row4_col3 {\n  background-color: #bce4b5;\n  color: #000000;\n}\n#T_48f0e_row4_col5 {\n  background-color: #81ca81;\n  color: #000000;\n}\n#T_48f0e_row5_col0 {\n  background-color: #03702e;\n  color: #f1f1f1;\n}\n#T_48f0e_row5_col3 {\n  background-color: #9bd696;\n  color: #000000;\n}\n#T_48f0e_row5_col4 {\n  background-color: #aedea7;\n  color: #000000;\n}\n</style>\n<table id=\"T_48f0e\">\n  <thead>\n    <tr>\n      <th class=\"blank level0\" >&nbsp;</th>\n      <th id=\"T_48f0e_level0_col0\" class=\"col_heading level0 col0\" >Mfg_Year</th>\n      <th id=\"T_48f0e_level0_col1\" class=\"col_heading level0 col1\" >Weight</th>\n      <th id=\"T_48f0e_level0_col2\" class=\"col_heading level0 col2\" >KM</th>\n      <th id=\"T_48f0e_level0_col3\" class=\"col_heading level0 col3\" >Airco</th>\n      <th id=\"T_48f0e_level0_col4\" class=\"col_heading level0 col4\" >HP</th>\n      <th id=\"T_48f0e_level0_col5\" class=\"col_heading level0 col5\" >Price</th>\n    </tr>\n  </thead>\n  <tbody>\n    <tr>\n      <th id=\"T_48f0e_level0_row0\" class=\"row_heading level0 row0\" >Mfg_Year</th>\n      <td id=\"T_48f0e_row0_col0\" class=\"data row0 col0\" >1.000000</td>\n      <td id=\"T_48f0e_row0_col1\" class=\"data row0 col1\" >0.189253</td>\n      <td id=\"T_48f0e_row0_col2\" class=\"data row0 col2\" >-0.401809</td>\n      <td id=\"T_48f0e_row0_col3\" class=\"data row0 col3\" >0.256386</td>\n      <td id=\"T_48f0e_row0_col4\" class=\"data row0 col4\" >0.041375</td>\n      <td id=\"T_48f0e_row0_col5\" class=\"data row0 col5\" >0.807116</td>\n    </tr>\n    <tr>\n      <th id=\"T_48f0e_level0_row1\" class=\"row_heading level0 row1\" >Weight</th>\n      <td id=\"T_48f0e_row1_col0\" class=\"data row1 col0\" >0.189253</td>\n      <td id=\"T_48f0e_row1_col1\" class=\"data row1 col1\" >1.000000</td>\n      <td id=\"T_48f0e_row1_col2\" class=\"data row1 col2\" >0.167319</td>\n      <td id=\"T_48f0e_row1_col3\" class=\"data row1 col3\" >0.253908</td>\n      <td id=\"T_48f0e_row1_col4\" class=\"data row1 col4\" >0.075130</td>\n      <td id=\"T_48f0e_row1_col5\" class=\"data row1 col5\" >0.273364</td>\n    </tr>\n    <tr>\n      <th id=\"T_48f0e_level0_row2\" class=\"row_heading level0 row2\" >KM</th>\n      <td id=\"T_48f0e_row2_col0\" class=\"data row2 col0\" >-0.401809</td>\n      <td id=\"T_48f0e_row2_col1\" class=\"data row2 col1\" >0.167319</td>\n      <td id=\"T_48f0e_row2_col2\" class=\"data row2 col2\" >1.000000</td>\n      <td id=\"T_48f0e_row2_col3\" class=\"data row2 col3\" >-0.051793</td>\n      <td id=\"T_48f0e_row2_col4\" class=\"data row2 col4\" >-0.217209</td>\n      <td id=\"T_48f0e_row2_col5\" class=\"data row2 col5\" >-0.505845</td>\n    </tr>\n    <tr>\n      <th id=\"T_48f0e_level0_row3\" class=\"row_heading level0 row3\" >Airco</th>\n      <td id=\"T_48f0e_row3_col0\" class=\"data row3 col0\" >0.256386</td>\n      <td id=\"T_48f0e_row3_col1\" class=\"data row3 col1\" >0.253908</td>\n      <td id=\"T_48f0e_row3_col2\" class=\"data row3 col2\" >-0.051793</td>\n      <td id=\"T_48f0e_row3_col3\" class=\"data row3 col3\" >1.000000</td>\n      <td id=\"T_48f0e_row3_col4\" class=\"data row3 col4\" >0.249964</td>\n      <td id=\"T_48f0e_row3_col5\" class=\"data row3 col5\" >0.359757</td>\n    </tr>\n    <tr>\n      <th id=\"T_48f0e_level0_row4\" class=\"row_heading level0 row4\" >HP</th>\n      <td id=\"T_48f0e_row4_col0\" class=\"data row4 col0\" >0.041375</td>\n      <td id=\"T_48f0e_row4_col1\" class=\"data row4 col1\" >0.075130</td>\n      <td id=\"T_48f0e_row4_col2\" class=\"data row4 col2\" >-0.217209</td>\n      <td id=\"T_48f0e_row4_col3\" class=\"data row4 col3\" >0.249964</td>\n      <td id=\"T_48f0e_row4_col4\" class=\"data row4 col4\" >1.000000</td>\n      <td id=\"T_48f0e_row4_col5\" class=\"data row4 col5\" >0.189424</td>\n    </tr>\n    <tr>\n      <th id=\"T_48f0e_level0_row5\" class=\"row_heading level0 row5\" >Price</th>\n      <td id=\"T_48f0e_row5_col0\" class=\"data row5 col0\" >0.807116</td>\n      <td id=\"T_48f0e_row5_col1\" class=\"data row5 col1\" >0.273364</td>\n      <td id=\"T_48f0e_row5_col2\" class=\"data row5 col2\" >-0.505845</td>\n      <td id=\"T_48f0e_row5_col3\" class=\"data row5 col3\" >0.359757</td>\n      <td id=\"T_48f0e_row5_col4\" class=\"data row5 col4\" >0.189424</td>\n      <td id=\"T_48f0e_row5_col5\" class=\"data row5 col5\" >1.000000</td>\n    </tr>\n  </tbody>\n</table>\n"
     },
     "execution_count": 39,
     "metadata": {},
     "output_type": "execute_result"
    }
   ],
   "source": [
    "df.corr().style.background_gradient(cmap='Greens')"
   ],
   "metadata": {
    "collapsed": false,
    "pycharm": {
     "name": "#%%\n"
    }
   }
  },
  {
   "cell_type": "code",
   "execution_count": 65,
   "outputs": [],
   "source": [
    "# Valores Ajustados\n",
    "fitted_values = ml_results.fittedvalues\n",
    "\n",
    "# Valores residuales\n",
    "residuals = ml_results.resid\n",
    "\n",
    "#residuales estandarizados\n",
    "lm_resid_stand = ml_results.get_influence().resid_studentized_internal\n",
    "\n",
    "#raiz de los residuales normalizados absolutos\n",
    "lm_resid_norm_abs_sqrt = np.sqrt(np.abs(lm_resid_stand))\n",
    "\n",
    "#residuales absolutos\n",
    "lm_resid_abs = np.abs(residuals)"
   ],
   "metadata": {
    "collapsed": false,
    "pycharm": {
     "name": "#%%\n"
    }
   }
  },
  {
   "cell_type": "code",
   "execution_count": 66,
   "outputs": [],
   "source": [
    "sns.set(rc = {'figure.figsize':(15,8)})"
   ],
   "metadata": {
    "collapsed": false,
    "pycharm": {
     "name": "#%%\n"
    }
   }
  },
  {
   "cell_type": "code",
   "execution_count": 67,
   "outputs": [
    {
     "data": {
      "text/plain": "<AxesSubplot:ylabel='Count'>"
     },
     "execution_count": 67,
     "metadata": {},
     "output_type": "execute_result"
    },
    {
     "data": {
      "text/plain": "<Figure size 1080x576 with 1 Axes>",
      "image/png": "[encoded data removed]"
     },
     "metadata": {},
     "output_type": "display_data"
    }
   ],
   "source": [
    "# Residuales\n",
    "sns.histplot(ml_results.resid, bins=10)"
   ],
   "metadata": {
    "collapsed": false,
    "pycharm": {
     "name": "#%%\n"
    }
   }
  },
  {
   "cell_type": "code",
   "execution_count": 68,
   "outputs": [
    {
     "data": {
      "text/plain": "<Figure size 1080x576 with 1 Axes>",
      "image/png": "[encoded data removed]"
     },
     "metadata": {},
     "output_type": "display_data"
    }
   ],
   "source": [
    "def grafico_qqplot():\n",
    "    fig = sm.qqplot(lm_resid_stand,line='45')\n",
    "    plt.show()\n",
    "\n",
    "grafico_qqplot()"
   ],
   "metadata": {
    "collapsed": false,
    "pycharm": {
     "name": "#%%\n"
    }
   }
  },
  {
   "cell_type": "code",
   "execution_count": 69,
   "outputs": [
    {
     "data": {
      "text/plain": "<Figure size 1080x576 with 1 Axes>",
      "image/png": "[encoded data removed]"
     },
     "metadata": {},
     "output_type": "display_data"
    }
   ],
   "source": [
    "def residuales_vs_ajustados():\n",
    "    plot = sns.residplot(x=fitted_values, y=residuals, lowess=True,\n",
    "                         scatter_kws={'alpha': 0.5},\n",
    "                         line_kws={'color': 'red', 'lw': 2, 'alpha': 0.8})\n",
    "\n",
    "    # Titel and labels\n",
    "    plot.set_title('Residuals vs Fitted')\n",
    "    plot.set_xlabel('Fitted values')\n",
    "    plot.set_ylabel('Residuals')\n",
    "residuales_vs_ajustados()"
   ],
   "metadata": {
    "collapsed": false,
    "pycharm": {
     "name": "#%%\n"
    }
   }
  }
 ],
 "metadata": {
  "kernelspec": {
   "display_name": "Python 3",
   "language": "python",
   "name": "python3"
  },
  "language_info": {
   "codemirror_mode": {
    "name": "ipython",
    "version": 2
   },
   "file_extension": ".py",
   "mimetype": "text/x-python",
   "name": "python",
   "nbconvert_exporter": "python",
   "pygments_lexer": "ipython2",
   "version": "2.7.6"
  }
 },
 "nbformat": 4,
 "nbformat_minor": 0
}